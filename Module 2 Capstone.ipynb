{
 "cells": [
  {
   "attachments": {},
   "cell_type": "markdown",
   "metadata": {},
   "source": [
    "# **LATAR BELAKANG**\n",
    "\n",
    "Pemerintah Amerika Serikat membentuk TSA *(Transportation Security Administration)* pada tanggal 19 November 2001 sebagai tindakan untuk menanggapi serangan teroris pada 1 September 2001. **TSA dibentuk dengan memiliki misi untuk melindungi sistem transportasi negara untuk memastikan kebebasan dan keamanan pergerakan seluruh orang dan perdagangan.**\n",
    "\n",
    "Pemeriksa TSA bertanggung jawab atas keamanan di 440 bandara di Amerika Serikat. Di bandara ini, pemeriksa TSA menyaring lebih dari dua juta penumpang. Mengingat banyaknya barang dan orang yang diperiksa, tidak dapat dihindari bahwa orang dapat terluka atau barang dapat rusak, hilang, atau dicuri. Barang hilang adalah masalah signifikan dengan barang yang diperiksa. Individu yang terluka atau yang barangnya rusak, hilang, atau dicuri dapat mengajukan klaim kerugian kepada TSA. Pemerintah Amerika Serikat melaporkan informasi tentang setiap klaim yang diajukan [di sini](https://www.dhs.gov/tsa-claims-data)."
   ]
  },
  {
   "attachments": {},
   "cell_type": "markdown",
   "metadata": {},
   "source": [
    "# **PERNYATAAN MASALAH**\n",
    "\n",
    "TSA Claim berisi kumpulan data klaim yang dibuat oleh penumpang atau individu atas properti yang hilang, rusak atau dicuri selama perjalanan, dengan data tersebut pemerintah ingin mengetahui atau mengidentifikasi pola dalam data klaim untuk mencari faktor umum antara klaim yang dibuat, seperti jenis properti yang diklaim, lokasi klaim atau tanggal saat klaim dibuat. Informasi ini dapat berguna bagi TSA dalam ngeidentifikasi area yang perlu ditingkatkan prosesnya atau dilakukan tindakan lainnya untuk mengurangi jumlah klaim yang diajukan.\n",
    "\n",
    "**Pertanyaan:**\n",
    "1. Claim terbanyak terjadi di bandara dan maskapai penerbangan apa?\n",
    "2. Bagaimana perkembangan frekuensi klaim yang terjadi sejak tahun 2002 - 2015?\n",
    "3. Bagaimana hubungan klaim yang diterima terhadap lokasi dan jenis penyelesaiannya?\n",
    "3. Bagaimana cara / rekomendasi untuk mengurangi frekuensi klaim yang diajukan?\n"
   ]
  },
  {
   "cell_type": "code",
   "execution_count": 211,
   "metadata": {},
   "outputs": [],
   "source": [
    "import pandas as pd\n",
    "import numpy as np\n",
    "import matplotlib.pyplot as plt\n",
    "import seaborn as sns\n",
    "import scipy.stats as stats\n",
    "import plotly.express as px\n",
    "import plotly.graph_objects as go\n",
    "from scipy.stats import normaltest, chi2_contingency, mannwhitneyu, ttest_ind\n",
    "\n",
    "import warnings\n",
    "warnings.filterwarnings(\"ignore\")"
   ]
  },
  {
   "attachments": {},
   "cell_type": "markdown",
   "metadata": {},
   "source": [
    "# **DATA**\n",
    "\n",
    "Dataset ini berisi TSA Claim pada tahun 2002 sampai dengan akhir tahun 2015. Ada 13 elemen data yang dikumpulkan setiap tahun sehubungan dengan setiap klaim.\n",
    "\n",
    "- Claim Number: kode klaim\n",
    "- Date Received: tanggal diterimanya klaim\n",
    "- Incident Date: tanggal terjadinya kejadian\n",
    "- Airport Code: kode bandara\n",
    "- Airport Name: nama bandara\n",
    "- Airline Name: nama maskapai penerbangan\n",
    "- Claim Type: tipe klaim {bus terminal, complaint, compliment, employee loss, motor vehicle, passenger property loss, passenger theft, personal injury, property damage, wrongful death, NaN}\n",
    "- Claim Site: lokasi klaim {bus station, checked baggage, checkpoint, motor vehicle, other, NaN}\n",
    "- Item: jenis atau kategori barang klaim \n",
    "- Claim Amount: nilai/harga kerugian barang yang di klaim\n",
    "- Status: status klaim barang {approved, canceled, claim has been assigned for further\n",
    "review, closed as contractor claim, denied, in litigation, in review, insufficient (missing critical\n",
    "information), pending response from claimant, settled}\n",
    "- Close Amount: nilai/harga yang diganti rugi (kerugian yang dibayarkan)\n",
    "- Disposition: hasil/status akhir dari proses klaim\n",
    "\n",
    "Berikut ini menampilkan 5 baris teratas dan terbawah dari dataset *tsa_claims*"
   ]
  },
  {
   "cell_type": "code",
   "execution_count": 2,
   "metadata": {},
   "outputs": [
    {
     "data": {
      "text/html": [
       "<div>\n",
       "<style scoped>\n",
       "    .dataframe tbody tr th:only-of-type {\n",
       "        vertical-align: middle;\n",
       "    }\n",
       "\n",
       "    .dataframe tbody tr th {\n",
       "        vertical-align: top;\n",
       "    }\n",
       "\n",
       "    .dataframe thead th {\n",
       "        text-align: right;\n",
       "    }\n",
       "</style>\n",
       "<table border=\"1\" class=\"dataframe\">\n",
       "  <thead>\n",
       "    <tr style=\"text-align: right;\">\n",
       "      <th></th>\n",
       "      <th>Claim Number</th>\n",
       "      <th>Date Received</th>\n",
       "      <th>Incident Date</th>\n",
       "      <th>Airport Code</th>\n",
       "      <th>Airport Name</th>\n",
       "      <th>Airline Name</th>\n",
       "      <th>Claim Type</th>\n",
       "      <th>Claim Site</th>\n",
       "      <th>Item</th>\n",
       "      <th>Claim Amount</th>\n",
       "      <th>Status</th>\n",
       "      <th>Close Amount</th>\n",
       "      <th>Disposition</th>\n",
       "    </tr>\n",
       "  </thead>\n",
       "  <tbody>\n",
       "    <tr>\n",
       "      <th>0</th>\n",
       "      <td>0909802M</td>\n",
       "      <td>4-Jan-02</td>\n",
       "      <td>12/12/2002 0:00</td>\n",
       "      <td>EWR</td>\n",
       "      <td>Newark International Airport</td>\n",
       "      <td>Continental Airlines</td>\n",
       "      <td>Property Damage</td>\n",
       "      <td>Checkpoint</td>\n",
       "      <td>Other</td>\n",
       "      <td>$350.00</td>\n",
       "      <td>Approved</td>\n",
       "      <td>$350.00</td>\n",
       "      <td>Approve in Full</td>\n",
       "    </tr>\n",
       "    <tr>\n",
       "      <th>1</th>\n",
       "      <td>0202417M</td>\n",
       "      <td>2-Feb-02</td>\n",
       "      <td>1/16/2004 0:00</td>\n",
       "      <td>SEA</td>\n",
       "      <td>Seattle-Tacoma International</td>\n",
       "      <td>NaN</td>\n",
       "      <td>Property Damage</td>\n",
       "      <td>Checked Baggage</td>\n",
       "      <td>Luggage (all types including footlockers)</td>\n",
       "      <td>$100.00</td>\n",
       "      <td>Settled</td>\n",
       "      <td>$50.00</td>\n",
       "      <td>Settle</td>\n",
       "    </tr>\n",
       "    <tr>\n",
       "      <th>2</th>\n",
       "      <td>0202445M</td>\n",
       "      <td>4-Feb-02</td>\n",
       "      <td>11/26/2003 0:00</td>\n",
       "      <td>STL</td>\n",
       "      <td>Lambert St. Louis International</td>\n",
       "      <td>American Airlines</td>\n",
       "      <td>Property Damage</td>\n",
       "      <td>Checked Baggage</td>\n",
       "      <td>Cell Phones</td>\n",
       "      <td>$278.88</td>\n",
       "      <td>Settled</td>\n",
       "      <td>$227.92</td>\n",
       "      <td>Settle</td>\n",
       "    </tr>\n",
       "    <tr>\n",
       "      <th>3</th>\n",
       "      <td>0909816M</td>\n",
       "      <td>7-Feb-02</td>\n",
       "      <td>1/6/2003 0:00</td>\n",
       "      <td>MIA</td>\n",
       "      <td>Miami International Airport</td>\n",
       "      <td>American Airlines</td>\n",
       "      <td>Property Damage</td>\n",
       "      <td>Checkpoint</td>\n",
       "      <td>Luggage (all types including footlockers)</td>\n",
       "      <td>$50.00</td>\n",
       "      <td>Approved</td>\n",
       "      <td>$50.00</td>\n",
       "      <td>Approve in Full</td>\n",
       "    </tr>\n",
       "    <tr>\n",
       "      <th>4</th>\n",
       "      <td>2005032379513</td>\n",
       "      <td>18-Feb-02</td>\n",
       "      <td>2/5/2005 0:00</td>\n",
       "      <td>MCO</td>\n",
       "      <td>Orlando International Airport</td>\n",
       "      <td>Delta (Song)</td>\n",
       "      <td>Property Damage</td>\n",
       "      <td>Checkpoint</td>\n",
       "      <td>Baby - Strollers; car seats; playpen; etc.</td>\n",
       "      <td>$84.79</td>\n",
       "      <td>Approved</td>\n",
       "      <td>$84.79</td>\n",
       "      <td>Approve in Full</td>\n",
       "    </tr>\n",
       "  </tbody>\n",
       "</table>\n",
       "</div>"
      ],
      "text/plain": [
       "    Claim Number Date Received    Incident Date Airport Code  \\\n",
       "0       0909802M      4-Jan-02  12/12/2002 0:00          EWR   \n",
       "1       0202417M      2-Feb-02   1/16/2004 0:00          SEA   \n",
       "2       0202445M      4-Feb-02  11/26/2003 0:00          STL   \n",
       "3       0909816M      7-Feb-02    1/6/2003 0:00          MIA   \n",
       "4  2005032379513     18-Feb-02    2/5/2005 0:00          MCO   \n",
       "\n",
       "                      Airport Name          Airline Name       Claim Type  \\\n",
       "0     Newark International Airport  Continental Airlines  Property Damage   \n",
       "1     Seattle-Tacoma International                   NaN  Property Damage   \n",
       "2  Lambert St. Louis International     American Airlines  Property Damage   \n",
       "3      Miami International Airport     American Airlines  Property Damage   \n",
       "4    Orlando International Airport          Delta (Song)  Property Damage   \n",
       "\n",
       "        Claim Site                                        Item Claim Amount  \\\n",
       "0       Checkpoint                                       Other     $350.00    \n",
       "1  Checked Baggage   Luggage (all types including footlockers)     $100.00    \n",
       "2  Checked Baggage                                 Cell Phones     $278.88    \n",
       "3       Checkpoint   Luggage (all types including footlockers)      $50.00    \n",
       "4       Checkpoint  Baby - Strollers; car seats; playpen; etc.      $84.79    \n",
       "\n",
       "     Status Close Amount      Disposition  \n",
       "0  Approved     $350.00   Approve in Full  \n",
       "1   Settled      $50.00            Settle  \n",
       "2   Settled     $227.92            Settle  \n",
       "3  Approved      $50.00   Approve in Full  \n",
       "4  Approved      $84.79   Approve in Full  "
      ]
     },
     "metadata": {},
     "output_type": "display_data"
    },
    {
     "data": {
      "text/html": [
       "<div>\n",
       "<style scoped>\n",
       "    .dataframe tbody tr th:only-of-type {\n",
       "        vertical-align: middle;\n",
       "    }\n",
       "\n",
       "    .dataframe tbody tr th {\n",
       "        vertical-align: top;\n",
       "    }\n",
       "\n",
       "    .dataframe thead th {\n",
       "        text-align: right;\n",
       "    }\n",
       "</style>\n",
       "<table border=\"1\" class=\"dataframe\">\n",
       "  <thead>\n",
       "    <tr style=\"text-align: right;\">\n",
       "      <th></th>\n",
       "      <th>Claim Number</th>\n",
       "      <th>Date Received</th>\n",
       "      <th>Incident Date</th>\n",
       "      <th>Airport Code</th>\n",
       "      <th>Airport Name</th>\n",
       "      <th>Airline Name</th>\n",
       "      <th>Claim Type</th>\n",
       "      <th>Claim Site</th>\n",
       "      <th>Item</th>\n",
       "      <th>Claim Amount</th>\n",
       "      <th>Status</th>\n",
       "      <th>Close Amount</th>\n",
       "      <th>Disposition</th>\n",
       "    </tr>\n",
       "  </thead>\n",
       "  <tbody>\n",
       "    <tr>\n",
       "      <th>204262</th>\n",
       "      <td>2015120427297</td>\n",
       "      <td>20-Nov-15</td>\n",
       "      <td>16-Oct-15</td>\n",
       "      <td>-</td>\n",
       "      <td>-</td>\n",
       "      <td>-</td>\n",
       "      <td>Property Damage</td>\n",
       "      <td>Checked Baggage</td>\n",
       "      <td>Baggage/Cases/Purses; Books; Magazines &amp; Other...</td>\n",
       "      <td>-</td>\n",
       "      <td>-</td>\n",
       "      <td>NaN</td>\n",
       "      <td>NaN</td>\n",
       "    </tr>\n",
       "    <tr>\n",
       "      <th>204263</th>\n",
       "      <td>2015123027969</td>\n",
       "      <td>17-Dec-15</td>\n",
       "      <td>2-Dec-15</td>\n",
       "      <td>-</td>\n",
       "      <td>-</td>\n",
       "      <td>-</td>\n",
       "      <td>Property Damage</td>\n",
       "      <td>Checked Baggage</td>\n",
       "      <td>Audio/Video; Home Decor</td>\n",
       "      <td>-</td>\n",
       "      <td>-</td>\n",
       "      <td>NaN</td>\n",
       "      <td>NaN</td>\n",
       "    </tr>\n",
       "    <tr>\n",
       "      <th>204264</th>\n",
       "      <td>2016010428072</td>\n",
       "      <td>22-Dec-15</td>\n",
       "      <td>20-Dec-15</td>\n",
       "      <td>-</td>\n",
       "      <td>-</td>\n",
       "      <td>-</td>\n",
       "      <td>Passenger Property Loss</td>\n",
       "      <td>Checked Baggage</td>\n",
       "      <td>Clothing</td>\n",
       "      <td>-</td>\n",
       "      <td>-</td>\n",
       "      <td>NaN</td>\n",
       "      <td>NaN</td>\n",
       "    </tr>\n",
       "    <tr>\n",
       "      <th>204265</th>\n",
       "      <td>2016011328300</td>\n",
       "      <td>30-Dec-15</td>\n",
       "      <td>28-Dec-15</td>\n",
       "      <td>-</td>\n",
       "      <td>-</td>\n",
       "      <td>-</td>\n",
       "      <td>Passenger Property Loss</td>\n",
       "      <td>Checked Baggage</td>\n",
       "      <td>Tools &amp; Home Improvement Supplies</td>\n",
       "      <td>-</td>\n",
       "      <td>-</td>\n",
       "      <td>NaN</td>\n",
       "      <td>NaN</td>\n",
       "    </tr>\n",
       "    <tr>\n",
       "      <th>204266</th>\n",
       "      <td>2015123128015</td>\n",
       "      <td>31-Dec-15</td>\n",
       "      <td>23-Nov-15</td>\n",
       "      <td>-</td>\n",
       "      <td>-</td>\n",
       "      <td>-</td>\n",
       "      <td>Passenger Property Loss</td>\n",
       "      <td>Checkpoint</td>\n",
       "      <td>Personal Accessories</td>\n",
       "      <td>-</td>\n",
       "      <td>-</td>\n",
       "      <td>NaN</td>\n",
       "      <td>NaN</td>\n",
       "    </tr>\n",
       "  </tbody>\n",
       "</table>\n",
       "</div>"
      ],
      "text/plain": [
       "         Claim Number Date Received Incident Date Airport Code Airport Name  \\\n",
       "204262  2015120427297     20-Nov-15     16-Oct-15            -            -   \n",
       "204263  2015123027969     17-Dec-15      2-Dec-15            -            -   \n",
       "204264  2016010428072     22-Dec-15     20-Dec-15            -            -   \n",
       "204265  2016011328300     30-Dec-15     28-Dec-15            -            -   \n",
       "204266  2015123128015     31-Dec-15     23-Nov-15            -            -   \n",
       "\n",
       "       Airline Name               Claim Type       Claim Site  \\\n",
       "204262            -          Property Damage  Checked Baggage   \n",
       "204263            -          Property Damage  Checked Baggage   \n",
       "204264            -  Passenger Property Loss  Checked Baggage   \n",
       "204265            -  Passenger Property Loss  Checked Baggage   \n",
       "204266            -  Passenger Property Loss       Checkpoint   \n",
       "\n",
       "                                                     Item Claim Amount Status  \\\n",
       "204262  Baggage/Cases/Purses; Books; Magazines & Other...            -      -   \n",
       "204263                            Audio/Video; Home Decor            -      -   \n",
       "204264                                           Clothing            -      -   \n",
       "204265                  Tools & Home Improvement Supplies            -      -   \n",
       "204266                               Personal Accessories            -      -   \n",
       "\n",
       "       Close Amount Disposition  \n",
       "204262          NaN         NaN  \n",
       "204263          NaN         NaN  \n",
       "204264          NaN         NaN  \n",
       "204265          NaN         NaN  \n",
       "204266          NaN         NaN  "
      ]
     },
     "metadata": {},
     "output_type": "display_data"
    }
   ],
   "source": [
    "df = pd.read_csv('tsa_claims.csv')\n",
    "display(df.head())\n",
    "display(df.tail())"
   ]
  },
  {
   "attachments": {},
   "cell_type": "markdown",
   "metadata": {},
   "source": [
    "# **DATA UNDERSTANDING & DATA CLEANING**\n",
    "\n"
   ]
  },
  {
   "cell_type": "code",
   "execution_count": 3,
   "metadata": {},
   "outputs": [
    {
     "name": "stdout",
     "output_type": "stream",
     "text": [
      "Jumlah baris dan kolom pada dataset tsa_claims  adalah (204267, 13)\n",
      "Informasi kolom dataset tsa_claims\n",
      "<class 'pandas.core.frame.DataFrame'>\n",
      "RangeIndex: 204267 entries, 0 to 204266\n",
      "Data columns (total 13 columns):\n",
      " #   Column         Non-Null Count   Dtype \n",
      "---  ------         --------------   ----- \n",
      " 0   Claim Number   204267 non-null  object\n",
      " 1   Date Received  204004 non-null  object\n",
      " 2   Incident Date  202084 non-null  object\n",
      " 3   Airport Code   195743 non-null  object\n",
      " 4   Airport Name   195743 non-null  object\n",
      " 5   Airline Name   169893 non-null  object\n",
      " 6   Claim Type     196354 non-null  object\n",
      " 7   Claim Site     203527 non-null  object\n",
      " 8   Item           200301 non-null  object\n",
      " 9   Claim Amount   200224 non-null  object\n",
      " 10  Status         204262 non-null  object\n",
      " 11  Close Amount   135315 non-null  object\n",
      " 12  Disposition    131359 non-null  object\n",
      "dtypes: object(13)\n",
      "memory usage: 20.3+ MB\n"
     ]
    },
    {
     "data": {
      "text/plain": [
       "None"
      ]
     },
     "metadata": {},
     "output_type": "display_data"
    }
   ],
   "source": [
    "print(f'Jumlah baris dan kolom pada dataset tsa_claims  adalah {df.shape}')\n",
    "\n",
    "print(f'Informasi kolom dataset tsa_claims')\n",
    "display(df.info())"
   ]
  },
  {
   "cell_type": "code",
   "execution_count": 4,
   "metadata": {},
   "outputs": [
    {
     "data": {
      "text/html": [
       "<div>\n",
       "<style scoped>\n",
       "    .dataframe tbody tr th:only-of-type {\n",
       "        vertical-align: middle;\n",
       "    }\n",
       "\n",
       "    .dataframe tbody tr th {\n",
       "        vertical-align: top;\n",
       "    }\n",
       "\n",
       "    .dataframe thead th {\n",
       "        text-align: right;\n",
       "    }\n",
       "</style>\n",
       "<table border=\"1\" class=\"dataframe\">\n",
       "  <thead>\n",
       "    <tr style=\"text-align: right;\">\n",
       "      <th></th>\n",
       "      <th>Claim Number</th>\n",
       "      <th>Date Received</th>\n",
       "      <th>Incident Date</th>\n",
       "      <th>Airport Code</th>\n",
       "      <th>Airport Name</th>\n",
       "      <th>Airline Name</th>\n",
       "      <th>Claim Type</th>\n",
       "      <th>Claim Site</th>\n",
       "      <th>Item</th>\n",
       "      <th>Claim Amount</th>\n",
       "      <th>Status</th>\n",
       "      <th>Close Amount</th>\n",
       "      <th>Disposition</th>\n",
       "    </tr>\n",
       "  </thead>\n",
       "  <tbody>\n",
       "    <tr>\n",
       "      <th>count</th>\n",
       "      <td>204267</td>\n",
       "      <td>204004</td>\n",
       "      <td>202084</td>\n",
       "      <td>195743</td>\n",
       "      <td>195743</td>\n",
       "      <td>169893</td>\n",
       "      <td>196354</td>\n",
       "      <td>203527</td>\n",
       "      <td>200301</td>\n",
       "      <td>200224</td>\n",
       "      <td>204262</td>\n",
       "      <td>135315</td>\n",
       "      <td>131359</td>\n",
       "    </tr>\n",
       "    <tr>\n",
       "      <th>unique</th>\n",
       "      <td>204258</td>\n",
       "      <td>4007</td>\n",
       "      <td>26807</td>\n",
       "      <td>465</td>\n",
       "      <td>485</td>\n",
       "      <td>318</td>\n",
       "      <td>11</td>\n",
       "      <td>6</td>\n",
       "      <td>4704</td>\n",
       "      <td>36117</td>\n",
       "      <td>15</td>\n",
       "      <td>17162</td>\n",
       "      <td>3</td>\n",
       "    </tr>\n",
       "    <tr>\n",
       "      <th>top</th>\n",
       "      <td>2013121110011</td>\n",
       "      <td>5-Dec-03</td>\n",
       "      <td>12/27/2004 0:00</td>\n",
       "      <td>LAX</td>\n",
       "      <td>John F. Kennedy International</td>\n",
       "      <td>American Airlines</td>\n",
       "      <td>Passenger Property Loss</td>\n",
       "      <td>Checked Baggage</td>\n",
       "      <td>Other</td>\n",
       "      <td>$0.00</td>\n",
       "      <td>Denied</td>\n",
       "      <td>$0.00</td>\n",
       "      <td>Deny</td>\n",
       "    </tr>\n",
       "    <tr>\n",
       "      <th>freq</th>\n",
       "      <td>2</td>\n",
       "      <td>682</td>\n",
       "      <td>144</td>\n",
       "      <td>9596</td>\n",
       "      <td>9232</td>\n",
       "      <td>17553</td>\n",
       "      <td>117868</td>\n",
       "      <td>159753</td>\n",
       "      <td>36908</td>\n",
       "      <td>28445</td>\n",
       "      <td>68339</td>\n",
       "      <td>71546</td>\n",
       "      <td>68382</td>\n",
       "    </tr>\n",
       "  </tbody>\n",
       "</table>\n",
       "</div>"
      ],
      "text/plain": [
       "         Claim Number Date Received    Incident Date Airport Code  \\\n",
       "count          204267        204004           202084       195743   \n",
       "unique         204258          4007            26807          465   \n",
       "top     2013121110011      5-Dec-03  12/27/2004 0:00          LAX   \n",
       "freq                2           682              144         9596   \n",
       "\n",
       "                         Airport Name       Airline Name  \\\n",
       "count                          195743             169893   \n",
       "unique                            485                318   \n",
       "top     John F. Kennedy International  American Airlines   \n",
       "freq                             9232              17553   \n",
       "\n",
       "                     Claim Type       Claim Site    Item Claim Amount  Status  \\\n",
       "count                    196354           203527  200301       200224  204262   \n",
       "unique                       11                6    4704        36117      15   \n",
       "top     Passenger Property Loss  Checked Baggage   Other       $0.00   Denied   \n",
       "freq                     117868           159753   36908        28445   68339   \n",
       "\n",
       "       Close Amount Disposition  \n",
       "count        135315      131359  \n",
       "unique        17162           3  \n",
       "top          $0.00         Deny  \n",
       "freq          71546       68382  "
      ]
     },
     "execution_count": 4,
     "metadata": {},
     "output_type": "execute_result"
    }
   ],
   "source": [
    "df.describe(include='object')"
   ]
  },
  {
   "cell_type": "code",
   "execution_count": 5,
   "metadata": {},
   "outputs": [
    {
     "data": {
      "text/html": [
       "<div>\n",
       "<style scoped>\n",
       "    .dataframe tbody tr th:only-of-type {\n",
       "        vertical-align: middle;\n",
       "    }\n",
       "\n",
       "    .dataframe tbody tr th {\n",
       "        vertical-align: top;\n",
       "    }\n",
       "\n",
       "    .dataframe thead th {\n",
       "        text-align: right;\n",
       "    }\n",
       "</style>\n",
       "<table border=\"1\" class=\"dataframe\">\n",
       "  <thead>\n",
       "    <tr style=\"text-align: right;\">\n",
       "      <th></th>\n",
       "      <th>Column</th>\n",
       "      <th>Unique</th>\n",
       "      <th>Nunique</th>\n",
       "    </tr>\n",
       "  </thead>\n",
       "  <tbody>\n",
       "    <tr>\n",
       "      <th>0</th>\n",
       "      <td>Claim Number</td>\n",
       "      <td>[0909802M, 0202417M, 0202445M, 0909816M, 20050...</td>\n",
       "      <td>204258</td>\n",
       "    </tr>\n",
       "    <tr>\n",
       "      <th>1</th>\n",
       "      <td>Date Received</td>\n",
       "      <td>[4-Jan-02, 2-Feb-02, 4-Feb-02, 7-Feb-02, 18-Fe...</td>\n",
       "      <td>4007</td>\n",
       "    </tr>\n",
       "    <tr>\n",
       "      <th>2</th>\n",
       "      <td>Incident Date</td>\n",
       "      <td>[12/12/2002 0:00, 1/16/2004 0:00, 11/26/2003 0...</td>\n",
       "      <td>26807</td>\n",
       "    </tr>\n",
       "    <tr>\n",
       "      <th>3</th>\n",
       "      <td>Airport Code</td>\n",
       "      <td>[EWR, SEA, STL, MIA, MCO, CAK, PHL, BWI, PHX, ...</td>\n",
       "      <td>465</td>\n",
       "    </tr>\n",
       "    <tr>\n",
       "      <th>4</th>\n",
       "      <td>Airport Name</td>\n",
       "      <td>[Newark International Airport, Seattle-Tacoma ...</td>\n",
       "      <td>485</td>\n",
       "    </tr>\n",
       "    <tr>\n",
       "      <th>5</th>\n",
       "      <td>Airline Name</td>\n",
       "      <td>[Continental Airlines, nan, American Airlines,...</td>\n",
       "      <td>318</td>\n",
       "    </tr>\n",
       "    <tr>\n",
       "      <th>6</th>\n",
       "      <td>Claim Type</td>\n",
       "      <td>[Property Damage, Passenger Property Loss, nan...</td>\n",
       "      <td>11</td>\n",
       "    </tr>\n",
       "    <tr>\n",
       "      <th>7</th>\n",
       "      <td>Claim Site</td>\n",
       "      <td>[Checkpoint, Checked Baggage, Other, Motor Veh...</td>\n",
       "      <td>6</td>\n",
       "    </tr>\n",
       "    <tr>\n",
       "      <th>8</th>\n",
       "      <td>Item</td>\n",
       "      <td>[Other, Luggage (all types including footlocke...</td>\n",
       "      <td>4704</td>\n",
       "    </tr>\n",
       "    <tr>\n",
       "      <th>9</th>\n",
       "      <td>Claim Amount</td>\n",
       "      <td>[$350.00 , $100.00 , $278.88 , $50.00 , $84.79...</td>\n",
       "      <td>36117</td>\n",
       "    </tr>\n",
       "    <tr>\n",
       "      <th>10</th>\n",
       "      <td>Status</td>\n",
       "      <td>[Approved, Settled, Canceled, Denied, Insuffic...</td>\n",
       "      <td>15</td>\n",
       "    </tr>\n",
       "    <tr>\n",
       "      <th>11</th>\n",
       "      <td>Close Amount</td>\n",
       "      <td>[$350.00 , $50.00 , $227.92 , $84.79 , $227.00...</td>\n",
       "      <td>17162</td>\n",
       "    </tr>\n",
       "    <tr>\n",
       "      <th>12</th>\n",
       "      <td>Disposition</td>\n",
       "      <td>[Approve in Full, Settle, nan, Deny]</td>\n",
       "      <td>3</td>\n",
       "    </tr>\n",
       "  </tbody>\n",
       "</table>\n",
       "</div>"
      ],
      "text/plain": [
       "           Column                                             Unique  Nunique\n",
       "0    Claim Number  [0909802M, 0202417M, 0202445M, 0909816M, 20050...   204258\n",
       "1   Date Received  [4-Jan-02, 2-Feb-02, 4-Feb-02, 7-Feb-02, 18-Fe...     4007\n",
       "2   Incident Date  [12/12/2002 0:00, 1/16/2004 0:00, 11/26/2003 0...    26807\n",
       "3    Airport Code  [EWR, SEA, STL, MIA, MCO, CAK, PHL, BWI, PHX, ...      465\n",
       "4    Airport Name  [Newark International Airport, Seattle-Tacoma ...      485\n",
       "5    Airline Name  [Continental Airlines, nan, American Airlines,...      318\n",
       "6      Claim Type  [Property Damage, Passenger Property Loss, nan...       11\n",
       "7      Claim Site  [Checkpoint, Checked Baggage, Other, Motor Veh...        6\n",
       "8            Item  [Other, Luggage (all types including footlocke...     4704\n",
       "9    Claim Amount  [$350.00 , $100.00 , $278.88 , $50.00 , $84.79...    36117\n",
       "10         Status  [Approved, Settled, Canceled, Denied, Insuffic...       15\n",
       "11   Close Amount  [$350.00 , $50.00 , $227.92 , $84.79 , $227.00...    17162\n",
       "12    Disposition               [Approve in Full, Settle, nan, Deny]        3"
      ]
     },
     "metadata": {},
     "output_type": "display_data"
    }
   ],
   "source": [
    "list = []\n",
    "\n",
    "for item in df:\n",
    "    list.append([item, df[item].unique(), df[item].nunique()])\n",
    "\n",
    "unique_table = pd.DataFrame(columns=['Column', 'Unique', 'Nunique'], data=list)\n",
    "\n",
    "display(unique_table)"
   ]
  },
  {
   "cell_type": "code",
   "execution_count": 6,
   "metadata": {},
   "outputs": [
    {
     "data": {
      "text/plain": [
       "Claim Number         0\n",
       "Date Received      263\n",
       "Incident Date     2183\n",
       "Airport Code      8524\n",
       "Airport Name      8524\n",
       "Airline Name     34374\n",
       "Claim Type        7913\n",
       "Claim Site         740\n",
       "Item              3966\n",
       "Claim Amount      4043\n",
       "Status               5\n",
       "Close Amount     68952\n",
       "Disposition      72908\n",
       "dtype: int64"
      ]
     },
     "execution_count": 6,
     "metadata": {},
     "output_type": "execute_result"
    }
   ],
   "source": [
    "df.isnull().sum()"
   ]
  },
  {
   "attachments": {},
   "cell_type": "markdown",
   "metadata": {},
   "source": [
    "- tsa_claims dataset terdiri dari 13 kolom dan 204267 baris data;\n",
    "- Terdapat 13 kolom ternyata hampir semua kolom memiliki data kosong, kecuali satu kolom yaitu kolom `claim number`. Data kosong pada kolom-kolom itu di isi dengan data NaN;\n",
    "- Kolom `Claim Number` berisikan nomor unik yang memiliki format berbeda-beda setiap penumpangnya sehingga sebenarnya kolom ini bisa dihapus saja;\n",
    "- Kolom `Date Received` dan `Incident Date` memiliki data tipe object yang seharusnya kolom ini memiliki tipe data datetime;\n",
    "- Kolom `Incident Date` memiliki format tanggal yang berbeda-beda, format tanggal pada tahun 2002-2013 adalah dd/mm/yyyy(11/3/2013), kemudian format tanggal pada tahun 2014-2015 adalah dd-month-yy (30-Jun-14)\n",
    "- Kolom `Claim Amount` dan `Close Amount` memiliki data tipe object, karena data pada kolom ini merupakan harga maka seharusnya berisikan data numerik, hal ini perlu dilakukan pemeriksaan lebih detail."
   ]
  },
  {
   "attachments": {},
   "cell_type": "markdown",
   "metadata": {},
   "source": [
    "## **MISSING VALUE**"
   ]
  },
  {
   "cell_type": "code",
   "execution_count": 7,
   "metadata": {},
   "outputs": [
    {
     "name": "stdout",
     "output_type": "stream",
     "text": [
      "Persentase missing value pada setiap kolom\n"
     ]
    },
    {
     "data": {
      "text/plain": [
       "Claim Number      0.000000\n",
       "Date Received     0.128753\n",
       "Incident Date     1.068699\n",
       "Airport Code      4.172970\n",
       "Airport Name      4.172970\n",
       "Airline Name     16.827975\n",
       "Claim Type        3.873851\n",
       "Claim Site        0.362271\n",
       "Item              1.941576\n",
       "Claim Amount      1.979272\n",
       "Status            0.002448\n",
       "Close Amount     33.755820\n",
       "Disposition      35.692501\n",
       "dtype: float64"
      ]
     },
     "execution_count": 7,
     "metadata": {},
     "output_type": "execute_result"
    }
   ],
   "source": [
    "print(f'Persentase missing value pada setiap kolom')\n",
    "\n",
    "df.isnull().sum()/df.shape[0]*100"
   ]
  },
  {
   "attachments": {},
   "cell_type": "markdown",
   "metadata": {},
   "source": [
    "Melihat sebaran missing value pada tsa_claims dataset"
   ]
  },
  {
   "cell_type": "code",
   "execution_count": 8,
   "metadata": {},
   "outputs": [
    {
     "data": {
      "image/png": "[encoded data removed]",
      "text/plain": [
       "<Figure size 1800x720 with 2 Axes>"
      ]
     },
     "metadata": {
      "needs_background": "light"
     },
     "output_type": "display_data"
    }
   ],
   "source": [
    "import missingno\n",
    "\n",
    "missingno.matrix(df);"
   ]
  },
  {
   "attachments": {},
   "cell_type": "markdown",
   "metadata": {},
   "source": [
    "- Terdapat 3 kolom yang memiliki proporsi missing value yang cukup tinggi (lebih dari 10%) yaitu `Airline Name`, `Close Amount`, dan `Deposition`;\n",
    "- Missing value pada kolom `Airport Code` dan `Airport Name` memiliki keterkaitan karena apabila data pada kolom `Airport Code` kosong maka data di `Airport Name` juga pasti kosong;\n",
    "- Missing value pada `Close Amount` dan `Deposition` memiliki persentase sampai dengan 33.76% dan 35.69%, berdasarkan heatmap yang terdapat diatas juga bahwa sebaran data `Close Amount` dan `Deposition` berkemungkinan besar saling berkaitan."
   ]
  },
  {
   "attachments": {},
   "cell_type": "markdown",
   "metadata": {},
   "source": [
    "#### `Date Recevied` dan `Incident Date`\n",
    "\n",
    "Dikarenakan format tanggal kolom `Incident Date` pada tahun 2002-2013 dan 2014-2015 berbeda maka dataset akan dibagi menjadi dua dataframe agar proses mengubah data type lebih mudah."
   ]
  },
  {
   "cell_type": "code",
   "execution_count": 9,
   "metadata": {},
   "outputs": [
    {
     "data": {
      "text/html": [
       "<div>\n",
       "<style scoped>\n",
       "    .dataframe tbody tr th:only-of-type {\n",
       "        vertical-align: middle;\n",
       "    }\n",
       "\n",
       "    .dataframe tbody tr th {\n",
       "        vertical-align: top;\n",
       "    }\n",
       "\n",
       "    .dataframe thead th {\n",
       "        text-align: right;\n",
       "    }\n",
       "</style>\n",
       "<table border=\"1\" class=\"dataframe\">\n",
       "  <thead>\n",
       "    <tr style=\"text-align: right;\">\n",
       "      <th></th>\n",
       "      <th>Claim Number</th>\n",
       "      <th>Date Received</th>\n",
       "      <th>Incident Date</th>\n",
       "      <th>Airport Code</th>\n",
       "      <th>Airport Name</th>\n",
       "      <th>Airline Name</th>\n",
       "      <th>Claim Type</th>\n",
       "      <th>Claim Site</th>\n",
       "      <th>Item</th>\n",
       "      <th>Claim Amount</th>\n",
       "      <th>Status</th>\n",
       "      <th>Close Amount</th>\n",
       "      <th>Disposition</th>\n",
       "    </tr>\n",
       "  </thead>\n",
       "  <tbody>\n",
       "    <tr>\n",
       "      <th>0</th>\n",
       "      <td>0909802M</td>\n",
       "      <td>4-Jan-02</td>\n",
       "      <td>12/12/2002 0:00</td>\n",
       "      <td>EWR</td>\n",
       "      <td>Newark International Airport</td>\n",
       "      <td>Continental Airlines</td>\n",
       "      <td>Property Damage</td>\n",
       "      <td>Checkpoint</td>\n",
       "      <td>Other</td>\n",
       "      <td>$350.00</td>\n",
       "      <td>Approved</td>\n",
       "      <td>$350.00</td>\n",
       "      <td>Approve in Full</td>\n",
       "    </tr>\n",
       "    <tr>\n",
       "      <th>1</th>\n",
       "      <td>0202417M</td>\n",
       "      <td>2-Feb-02</td>\n",
       "      <td>1/16/2004 0:00</td>\n",
       "      <td>SEA</td>\n",
       "      <td>Seattle-Tacoma International</td>\n",
       "      <td>NaN</td>\n",
       "      <td>Property Damage</td>\n",
       "      <td>Checked Baggage</td>\n",
       "      <td>Luggage (all types including footlockers)</td>\n",
       "      <td>$100.00</td>\n",
       "      <td>Settled</td>\n",
       "      <td>$50.00</td>\n",
       "      <td>Settle</td>\n",
       "    </tr>\n",
       "    <tr>\n",
       "      <th>2</th>\n",
       "      <td>0202445M</td>\n",
       "      <td>4-Feb-02</td>\n",
       "      <td>11/26/2003 0:00</td>\n",
       "      <td>STL</td>\n",
       "      <td>Lambert St. Louis International</td>\n",
       "      <td>American Airlines</td>\n",
       "      <td>Property Damage</td>\n",
       "      <td>Checked Baggage</td>\n",
       "      <td>Cell Phones</td>\n",
       "      <td>$278.88</td>\n",
       "      <td>Settled</td>\n",
       "      <td>$227.92</td>\n",
       "      <td>Settle</td>\n",
       "    </tr>\n",
       "    <tr>\n",
       "      <th>3</th>\n",
       "      <td>0909816M</td>\n",
       "      <td>7-Feb-02</td>\n",
       "      <td>1/6/2003 0:00</td>\n",
       "      <td>MIA</td>\n",
       "      <td>Miami International Airport</td>\n",
       "      <td>American Airlines</td>\n",
       "      <td>Property Damage</td>\n",
       "      <td>Checkpoint</td>\n",
       "      <td>Luggage (all types including footlockers)</td>\n",
       "      <td>$50.00</td>\n",
       "      <td>Approved</td>\n",
       "      <td>$50.00</td>\n",
       "      <td>Approve in Full</td>\n",
       "    </tr>\n",
       "    <tr>\n",
       "      <th>4</th>\n",
       "      <td>2005032379513</td>\n",
       "      <td>18-Feb-02</td>\n",
       "      <td>2/5/2005 0:00</td>\n",
       "      <td>MCO</td>\n",
       "      <td>Orlando International Airport</td>\n",
       "      <td>Delta (Song)</td>\n",
       "      <td>Property Damage</td>\n",
       "      <td>Checkpoint</td>\n",
       "      <td>Baby - Strollers; car seats; playpen; etc.</td>\n",
       "      <td>$84.79</td>\n",
       "      <td>Approved</td>\n",
       "      <td>$84.79</td>\n",
       "      <td>Approve in Full</td>\n",
       "    </tr>\n",
       "    <tr>\n",
       "      <th>...</th>\n",
       "      <td>...</td>\n",
       "      <td>...</td>\n",
       "      <td>...</td>\n",
       "      <td>...</td>\n",
       "      <td>...</td>\n",
       "      <td>...</td>\n",
       "      <td>...</td>\n",
       "      <td>...</td>\n",
       "      <td>...</td>\n",
       "      <td>...</td>\n",
       "      <td>...</td>\n",
       "      <td>...</td>\n",
       "      <td>...</td>\n",
       "    </tr>\n",
       "    <tr>\n",
       "      <th>186737</th>\n",
       "      <td>2014010710602</td>\n",
       "      <td>31-Dec-13</td>\n",
       "      <td>12/13/2013 0:00</td>\n",
       "      <td>ATL</td>\n",
       "      <td>Hartsfield-Jackson Atlanta International Airport</td>\n",
       "      <td>Delta Air Lines</td>\n",
       "      <td>Property Damage</td>\n",
       "      <td>Checked Baggage</td>\n",
       "      <td>Clothing</td>\n",
       "      <td>-</td>\n",
       "      <td>-</td>\n",
       "      <td>NaN</td>\n",
       "      <td>NaN</td>\n",
       "    </tr>\n",
       "    <tr>\n",
       "      <th>186738</th>\n",
       "      <td>2014010710603</td>\n",
       "      <td>31-Dec-13</td>\n",
       "      <td>12/29/2013 0:00</td>\n",
       "      <td>IAH</td>\n",
       "      <td>Houston - George Bush Intercontinental Airport</td>\n",
       "      <td>UAL</td>\n",
       "      <td>Passenger Property Loss</td>\n",
       "      <td>Checked Baggage</td>\n",
       "      <td>Cameras; Other; Other</td>\n",
       "      <td>-</td>\n",
       "      <td>-</td>\n",
       "      <td>NaN</td>\n",
       "      <td>NaN</td>\n",
       "    </tr>\n",
       "    <tr>\n",
       "      <th>186739</th>\n",
       "      <td>2014010810606</td>\n",
       "      <td>31-Dec-13</td>\n",
       "      <td>12/22/2013 11:00</td>\n",
       "      <td>BOS</td>\n",
       "      <td>Boston (Logan) International Airport</td>\n",
       "      <td>Jet Blue</td>\n",
       "      <td>Passenger Property Loss</td>\n",
       "      <td>Checked Baggage</td>\n",
       "      <td>Other</td>\n",
       "      <td>-</td>\n",
       "      <td>-</td>\n",
       "      <td>NaN</td>\n",
       "      <td>NaN</td>\n",
       "    </tr>\n",
       "    <tr>\n",
       "      <th>186740</th>\n",
       "      <td>2014010810614</td>\n",
       "      <td>31-Dec-13</td>\n",
       "      <td>12/16/2013 18:00</td>\n",
       "      <td>CID</td>\n",
       "      <td>Eastern Iowa</td>\n",
       "      <td>Allegiant Air</td>\n",
       "      <td>Property Damage</td>\n",
       "      <td>Checkpoint</td>\n",
       "      <td>Personal Electronics</td>\n",
       "      <td>-</td>\n",
       "      <td>-</td>\n",
       "      <td>NaN</td>\n",
       "      <td>NaN</td>\n",
       "    </tr>\n",
       "    <tr>\n",
       "      <th>186741</th>\n",
       "      <td>2014010810621</td>\n",
       "      <td>31-Dec-13</td>\n",
       "      <td>11/3/2013 10:00</td>\n",
       "      <td>MSP</td>\n",
       "      <td>Minneapolis/ St.Paul International Airport</td>\n",
       "      <td>Delta Air Lines</td>\n",
       "      <td>Passenger Property Loss</td>\n",
       "      <td>Checkpoint</td>\n",
       "      <td>Cosmetics &amp; Grooming</td>\n",
       "      <td>-</td>\n",
       "      <td>-</td>\n",
       "      <td>NaN</td>\n",
       "      <td>NaN</td>\n",
       "    </tr>\n",
       "  </tbody>\n",
       "</table>\n",
       "<p>186742 rows × 13 columns</p>\n",
       "</div>"
      ],
      "text/plain": [
       "         Claim Number Date Received     Incident Date Airport Code  \\\n",
       "0            0909802M      4-Jan-02   12/12/2002 0:00          EWR   \n",
       "1            0202417M      2-Feb-02    1/16/2004 0:00          SEA   \n",
       "2            0202445M      4-Feb-02   11/26/2003 0:00          STL   \n",
       "3            0909816M      7-Feb-02     1/6/2003 0:00          MIA   \n",
       "4       2005032379513     18-Feb-02     2/5/2005 0:00          MCO   \n",
       "...               ...           ...               ...          ...   \n",
       "186737  2014010710602     31-Dec-13   12/13/2013 0:00          ATL   \n",
       "186738  2014010710603     31-Dec-13   12/29/2013 0:00          IAH   \n",
       "186739  2014010810606     31-Dec-13  12/22/2013 11:00          BOS   \n",
       "186740  2014010810614     31-Dec-13  12/16/2013 18:00          CID   \n",
       "186741  2014010810621     31-Dec-13   11/3/2013 10:00          MSP   \n",
       "\n",
       "                                            Airport Name  \\\n",
       "0                           Newark International Airport   \n",
       "1                           Seattle-Tacoma International   \n",
       "2                        Lambert St. Louis International   \n",
       "3                            Miami International Airport   \n",
       "4                          Orlando International Airport   \n",
       "...                                                  ...   \n",
       "186737  Hartsfield-Jackson Atlanta International Airport   \n",
       "186738    Houston - George Bush Intercontinental Airport   \n",
       "186739             Boston (Logan) International Airport    \n",
       "186740                                      Eastern Iowa   \n",
       "186741        Minneapolis/ St.Paul International Airport   \n",
       "\n",
       "                Airline Name               Claim Type       Claim Site  \\\n",
       "0       Continental Airlines          Property Damage       Checkpoint   \n",
       "1                        NaN          Property Damage  Checked Baggage   \n",
       "2          American Airlines          Property Damage  Checked Baggage   \n",
       "3          American Airlines          Property Damage       Checkpoint   \n",
       "4               Delta (Song)          Property Damage       Checkpoint   \n",
       "...                      ...                      ...              ...   \n",
       "186737     Delta Air Lines            Property Damage  Checked Baggage   \n",
       "186738                 UAL    Passenger Property Loss  Checked Baggage   \n",
       "186739              Jet Blue  Passenger Property Loss  Checked Baggage   \n",
       "186740         Allegiant Air          Property Damage       Checkpoint   \n",
       "186741     Delta Air Lines    Passenger Property Loss       Checkpoint   \n",
       "\n",
       "                                              Item Claim Amount    Status  \\\n",
       "0                                            Other     $350.00   Approved   \n",
       "1        Luggage (all types including footlockers)     $100.00    Settled   \n",
       "2                                      Cell Phones     $278.88    Settled   \n",
       "3        Luggage (all types including footlockers)      $50.00   Approved   \n",
       "4       Baby - Strollers; car seats; playpen; etc.      $84.79   Approved   \n",
       "...                                            ...          ...       ...   \n",
       "186737                                    Clothing            -         -   \n",
       "186738                       Cameras; Other; Other            -         -   \n",
       "186739                                       Other            -         -   \n",
       "186740                        Personal Electronics            -         -   \n",
       "186741                        Cosmetics & Grooming            -         -   \n",
       "\n",
       "       Close Amount      Disposition  \n",
       "0          $350.00   Approve in Full  \n",
       "1           $50.00            Settle  \n",
       "2          $227.92            Settle  \n",
       "3           $50.00   Approve in Full  \n",
       "4           $84.79   Approve in Full  \n",
       "...             ...              ...  \n",
       "186737          NaN              NaN  \n",
       "186738          NaN              NaN  \n",
       "186739          NaN              NaN  \n",
       "186740          NaN              NaN  \n",
       "186741          NaN              NaN  \n",
       "\n",
       "[186742 rows x 13 columns]"
      ]
     },
     "execution_count": 9,
     "metadata": {},
     "output_type": "execute_result"
    }
   ],
   "source": [
    "df1 = df.iloc[:186742]\n",
    "df1"
   ]
  },
  {
   "cell_type": "code",
   "execution_count": 10,
   "metadata": {},
   "outputs": [],
   "source": [
    "# Mengubah kolom 'Date Received' df1 menjadi datetime\n",
    "df1['Date Received'] = pd.to_datetime(df1['Date Received'], format= '%d-%b-%y')"
   ]
  },
  {
   "cell_type": "code",
   "execution_count": 11,
   "metadata": {},
   "outputs": [],
   "source": [
    "# Mengubah kolom 'Incident Date' df1 menjadi datetime, error disini berfungsi untuk mengisi data yang memiliki format tanggal yang berbeda menjadi 'NaT'\n",
    "df1['Incident Date'] = pd.to_datetime(df1['Incident Date'], errors = 'coerce')"
   ]
  },
  {
   "cell_type": "code",
   "execution_count": 12,
   "metadata": {},
   "outputs": [],
   "source": [
    "# Mengubah format tanggal kolom 'Incident Date' df1 agar sama dengan 'Date Received', dtype akan kembali menjadi object\n",
    "df1['Incident Date'] = df1['Incident Date'].dt.strftime('%Y-%m-%d')"
   ]
  },
  {
   "cell_type": "code",
   "execution_count": 13,
   "metadata": {},
   "outputs": [],
   "source": [
    "# Mengubah dtype setelah format tanggal sama menjadi datetime\n",
    "df1['Incident Date'] = pd.to_datetime(df1['Incident Date'])"
   ]
  },
  {
   "cell_type": "code",
   "execution_count": 14,
   "metadata": {},
   "outputs": [
    {
     "data": {
      "text/html": [
       "<div>\n",
       "<style scoped>\n",
       "    .dataframe tbody tr th:only-of-type {\n",
       "        vertical-align: middle;\n",
       "    }\n",
       "\n",
       "    .dataframe tbody tr th {\n",
       "        vertical-align: top;\n",
       "    }\n",
       "\n",
       "    .dataframe thead th {\n",
       "        text-align: right;\n",
       "    }\n",
       "</style>\n",
       "<table border=\"1\" class=\"dataframe\">\n",
       "  <thead>\n",
       "    <tr style=\"text-align: right;\">\n",
       "      <th></th>\n",
       "      <th>Claim Number</th>\n",
       "      <th>Date Received</th>\n",
       "      <th>Incident Date</th>\n",
       "      <th>Airport Code</th>\n",
       "      <th>Airport Name</th>\n",
       "      <th>Airline Name</th>\n",
       "      <th>Claim Type</th>\n",
       "      <th>Claim Site</th>\n",
       "      <th>Item</th>\n",
       "      <th>Claim Amount</th>\n",
       "      <th>Status</th>\n",
       "      <th>Close Amount</th>\n",
       "      <th>Disposition</th>\n",
       "    </tr>\n",
       "  </thead>\n",
       "  <tbody>\n",
       "    <tr>\n",
       "      <th>186744</th>\n",
       "      <td>2013081805991</td>\n",
       "      <td>13-Jan-14</td>\n",
       "      <td>21-Dec-12</td>\n",
       "      <td>HPN</td>\n",
       "      <td>Westchester County; White Plains</td>\n",
       "      <td>USAir</td>\n",
       "      <td>Personal Injury</td>\n",
       "      <td>Checked Baggage</td>\n",
       "      <td>Audio/Video; Jewelry &amp; Watches</td>\n",
       "      <td>$0.00</td>\n",
       "      <td>Deny</td>\n",
       "      <td>NaN</td>\n",
       "      <td>NaN</td>\n",
       "    </tr>\n",
       "    <tr>\n",
       "      <th>186745</th>\n",
       "      <td>2014080215586</td>\n",
       "      <td>17-Jul-14</td>\n",
       "      <td>30-Jun-14</td>\n",
       "      <td>MCO</td>\n",
       "      <td>Orlando International Airport</td>\n",
       "      <td>Delta Air Lines</td>\n",
       "      <td>Property Damage</td>\n",
       "      <td>Checked Baggage</td>\n",
       "      <td>-</td>\n",
       "      <td>$0.00</td>\n",
       "      <td>Deny</td>\n",
       "      <td>NaN</td>\n",
       "      <td>NaN</td>\n",
       "    </tr>\n",
       "    <tr>\n",
       "      <th>186746</th>\n",
       "      <td>2014010710583</td>\n",
       "      <td>7-Jan-14</td>\n",
       "      <td>27-Dec-13</td>\n",
       "      <td>SJU</td>\n",
       "      <td>Luis Munoz Marin International</td>\n",
       "      <td>Jet Blue</td>\n",
       "      <td>Property Damage</td>\n",
       "      <td>Checked Baggage</td>\n",
       "      <td>Food &amp; Drink</td>\n",
       "      <td>$50.00</td>\n",
       "      <td>Approve in Full</td>\n",
       "      <td>NaN</td>\n",
       "      <td>NaN</td>\n",
       "    </tr>\n",
       "    <tr>\n",
       "      <th>186747</th>\n",
       "      <td>2014010910683</td>\n",
       "      <td>7-Jan-14</td>\n",
       "      <td>2-Jan-14</td>\n",
       "      <td>IAD</td>\n",
       "      <td>Washington Dulles International</td>\n",
       "      <td>UAL</td>\n",
       "      <td>Property Damage</td>\n",
       "      <td>Checked Baggage</td>\n",
       "      <td>Baggage/Cases/Purses</td>\n",
       "      <td>$0.00</td>\n",
       "      <td>Deny</td>\n",
       "      <td>NaN</td>\n",
       "      <td>NaN</td>\n",
       "    </tr>\n",
       "    <tr>\n",
       "      <th>186748</th>\n",
       "      <td>2014011310783</td>\n",
       "      <td>9-Jan-14</td>\n",
       "      <td>7-Jan-14</td>\n",
       "      <td>SAT</td>\n",
       "      <td>San Antonio International</td>\n",
       "      <td>Southwest Airlines</td>\n",
       "      <td>Property Damage</td>\n",
       "      <td>Checked Baggage</td>\n",
       "      <td>Computer &amp; Accessories</td>\n",
       "      <td>$0.00</td>\n",
       "      <td>Deny</td>\n",
       "      <td>NaN</td>\n",
       "      <td>NaN</td>\n",
       "    </tr>\n",
       "    <tr>\n",
       "      <th>...</th>\n",
       "      <td>...</td>\n",
       "      <td>...</td>\n",
       "      <td>...</td>\n",
       "      <td>...</td>\n",
       "      <td>...</td>\n",
       "      <td>...</td>\n",
       "      <td>...</td>\n",
       "      <td>...</td>\n",
       "      <td>...</td>\n",
       "      <td>...</td>\n",
       "      <td>...</td>\n",
       "      <td>...</td>\n",
       "      <td>...</td>\n",
       "    </tr>\n",
       "    <tr>\n",
       "      <th>204262</th>\n",
       "      <td>2015120427297</td>\n",
       "      <td>20-Nov-15</td>\n",
       "      <td>16-Oct-15</td>\n",
       "      <td>-</td>\n",
       "      <td>-</td>\n",
       "      <td>-</td>\n",
       "      <td>Property Damage</td>\n",
       "      <td>Checked Baggage</td>\n",
       "      <td>Baggage/Cases/Purses; Books; Magazines &amp; Other...</td>\n",
       "      <td>-</td>\n",
       "      <td>-</td>\n",
       "      <td>NaN</td>\n",
       "      <td>NaN</td>\n",
       "    </tr>\n",
       "    <tr>\n",
       "      <th>204263</th>\n",
       "      <td>2015123027969</td>\n",
       "      <td>17-Dec-15</td>\n",
       "      <td>2-Dec-15</td>\n",
       "      <td>-</td>\n",
       "      <td>-</td>\n",
       "      <td>-</td>\n",
       "      <td>Property Damage</td>\n",
       "      <td>Checked Baggage</td>\n",
       "      <td>Audio/Video; Home Decor</td>\n",
       "      <td>-</td>\n",
       "      <td>-</td>\n",
       "      <td>NaN</td>\n",
       "      <td>NaN</td>\n",
       "    </tr>\n",
       "    <tr>\n",
       "      <th>204264</th>\n",
       "      <td>2016010428072</td>\n",
       "      <td>22-Dec-15</td>\n",
       "      <td>20-Dec-15</td>\n",
       "      <td>-</td>\n",
       "      <td>-</td>\n",
       "      <td>-</td>\n",
       "      <td>Passenger Property Loss</td>\n",
       "      <td>Checked Baggage</td>\n",
       "      <td>Clothing</td>\n",
       "      <td>-</td>\n",
       "      <td>-</td>\n",
       "      <td>NaN</td>\n",
       "      <td>NaN</td>\n",
       "    </tr>\n",
       "    <tr>\n",
       "      <th>204265</th>\n",
       "      <td>2016011328300</td>\n",
       "      <td>30-Dec-15</td>\n",
       "      <td>28-Dec-15</td>\n",
       "      <td>-</td>\n",
       "      <td>-</td>\n",
       "      <td>-</td>\n",
       "      <td>Passenger Property Loss</td>\n",
       "      <td>Checked Baggage</td>\n",
       "      <td>Tools &amp; Home Improvement Supplies</td>\n",
       "      <td>-</td>\n",
       "      <td>-</td>\n",
       "      <td>NaN</td>\n",
       "      <td>NaN</td>\n",
       "    </tr>\n",
       "    <tr>\n",
       "      <th>204266</th>\n",
       "      <td>2015123128015</td>\n",
       "      <td>31-Dec-15</td>\n",
       "      <td>23-Nov-15</td>\n",
       "      <td>-</td>\n",
       "      <td>-</td>\n",
       "      <td>-</td>\n",
       "      <td>Passenger Property Loss</td>\n",
       "      <td>Checkpoint</td>\n",
       "      <td>Personal Accessories</td>\n",
       "      <td>-</td>\n",
       "      <td>-</td>\n",
       "      <td>NaN</td>\n",
       "      <td>NaN</td>\n",
       "    </tr>\n",
       "  </tbody>\n",
       "</table>\n",
       "<p>17523 rows × 13 columns</p>\n",
       "</div>"
      ],
      "text/plain": [
       "         Claim Number Date Received Incident Date Airport Code  \\\n",
       "186744  2013081805991     13-Jan-14     21-Dec-12          HPN   \n",
       "186745  2014080215586     17-Jul-14     30-Jun-14          MCO   \n",
       "186746  2014010710583      7-Jan-14     27-Dec-13          SJU   \n",
       "186747  2014010910683      7-Jan-14      2-Jan-14          IAD   \n",
       "186748  2014011310783      9-Jan-14      7-Jan-14          SAT   \n",
       "...               ...           ...           ...          ...   \n",
       "204262  2015120427297     20-Nov-15     16-Oct-15            -   \n",
       "204263  2015123027969     17-Dec-15      2-Dec-15            -   \n",
       "204264  2016010428072     22-Dec-15     20-Dec-15            -   \n",
       "204265  2016011328300     30-Dec-15     28-Dec-15            -   \n",
       "204266  2015123128015     31-Dec-15     23-Nov-15            -   \n",
       "\n",
       "                            Airport Name          Airline Name  \\\n",
       "186744  Westchester County; White Plains               USAir     \n",
       "186745     Orlando International Airport     Delta Air Lines     \n",
       "186746    Luis Munoz Marin International              Jet Blue   \n",
       "186747   Washington Dulles International                 UAL     \n",
       "186748         San Antonio International  Southwest Airlines     \n",
       "...                                  ...                   ...   \n",
       "204262                                 -                     -   \n",
       "204263                                 -                     -   \n",
       "204264                                 -                     -   \n",
       "204265                                 -                     -   \n",
       "204266                                 -                     -   \n",
       "\n",
       "                     Claim Type       Claim Site  \\\n",
       "186744          Personal Injury  Checked Baggage   \n",
       "186745          Property Damage  Checked Baggage   \n",
       "186746          Property Damage  Checked Baggage   \n",
       "186747          Property Damage  Checked Baggage   \n",
       "186748          Property Damage  Checked Baggage   \n",
       "...                         ...              ...   \n",
       "204262          Property Damage  Checked Baggage   \n",
       "204263          Property Damage  Checked Baggage   \n",
       "204264  Passenger Property Loss  Checked Baggage   \n",
       "204265  Passenger Property Loss  Checked Baggage   \n",
       "204266  Passenger Property Loss       Checkpoint   \n",
       "\n",
       "                                                     Item Claim Amount  \\\n",
       "186744                     Audio/Video; Jewelry & Watches       $0.00    \n",
       "186745                                                  -       $0.00    \n",
       "186746                                       Food & Drink      $50.00    \n",
       "186747                               Baggage/Cases/Purses       $0.00    \n",
       "186748                             Computer & Accessories       $0.00    \n",
       "...                                                   ...          ...   \n",
       "204262  Baggage/Cases/Purses; Books; Magazines & Other...            -   \n",
       "204263                            Audio/Video; Home Decor            -   \n",
       "204264                                           Clothing            -   \n",
       "204265                  Tools & Home Improvement Supplies            -   \n",
       "204266                               Personal Accessories            -   \n",
       "\n",
       "                 Status Close Amount Disposition  \n",
       "186744             Deny          NaN         NaN  \n",
       "186745             Deny          NaN         NaN  \n",
       "186746  Approve in Full          NaN         NaN  \n",
       "186747             Deny          NaN         NaN  \n",
       "186748             Deny          NaN         NaN  \n",
       "...                 ...          ...         ...  \n",
       "204262                -          NaN         NaN  \n",
       "204263                -          NaN         NaN  \n",
       "204264                -          NaN         NaN  \n",
       "204265                -          NaN         NaN  \n",
       "204266                -          NaN         NaN  \n",
       "\n",
       "[17523 rows x 13 columns]"
      ]
     },
     "execution_count": 14,
     "metadata": {},
     "output_type": "execute_result"
    }
   ],
   "source": [
    "df2 = df.iloc[186744:]\n",
    "df2"
   ]
  },
  {
   "cell_type": "code",
   "execution_count": 15,
   "metadata": {},
   "outputs": [],
   "source": [
    "# Mengubah kolom 'Date Received' df2 menjadi datetime\n",
    "df2['Date Received'] = pd.to_datetime(df2['Date Received'], format= '%d-%b-%y')"
   ]
  },
  {
   "cell_type": "code",
   "execution_count": 16,
   "metadata": {},
   "outputs": [],
   "source": [
    "# Mengubah kolom 'Incident Date' df1 menjadi datetime\n",
    "df2['Incident Date'] = pd.to_datetime(df2['Incident Date'])"
   ]
  },
  {
   "cell_type": "code",
   "execution_count": 17,
   "metadata": {},
   "outputs": [],
   "source": [
    "df = pd.concat([df1, df2], axis=0)"
   ]
  },
  {
   "attachments": {},
   "cell_type": "markdown",
   "metadata": {},
   "source": [
    "Dari proses diatas dapat dilihat bahwa Dtype pada kolom `Date Recevied` dan `Incident Date` sudah berubah dari yang pada awalnya *object* menjadi *datetime*"
   ]
  },
  {
   "cell_type": "code",
   "execution_count": 18,
   "metadata": {},
   "outputs": [
    {
     "name": "stdout",
     "output_type": "stream",
     "text": [
      "<class 'pandas.core.frame.DataFrame'>\n",
      "Int64Index: 204265 entries, 0 to 204266\n",
      "Data columns (total 13 columns):\n",
      " #   Column         Non-Null Count   Dtype         \n",
      "---  ------         --------------   -----         \n",
      " 0   Claim Number   204265 non-null  object        \n",
      " 1   Date Received  204004 non-null  datetime64[ns]\n",
      " 2   Incident Date  201920 non-null  datetime64[ns]\n",
      " 3   Airport Code   195743 non-null  object        \n",
      " 4   Airport Name   195743 non-null  object        \n",
      " 5   Airline Name   169893 non-null  object        \n",
      " 6   Claim Type     196354 non-null  object        \n",
      " 7   Claim Site     203527 non-null  object        \n",
      " 8   Item           200301 non-null  object        \n",
      " 9   Claim Amount   200224 non-null  object        \n",
      " 10  Status         204262 non-null  object        \n",
      " 11  Close Amount   135315 non-null  object        \n",
      " 12  Disposition    131359 non-null  object        \n",
      "dtypes: datetime64[ns](2), object(11)\n",
      "memory usage: 21.8+ MB\n"
     ]
    }
   ],
   "source": [
    "df.info()"
   ]
  },
  {
   "cell_type": "code",
   "execution_count": 19,
   "metadata": {},
   "outputs": [
    {
     "data": {
      "text/html": [
       "<div>\n",
       "<style scoped>\n",
       "    .dataframe tbody tr th:only-of-type {\n",
       "        vertical-align: middle;\n",
       "    }\n",
       "\n",
       "    .dataframe tbody tr th {\n",
       "        vertical-align: top;\n",
       "    }\n",
       "\n",
       "    .dataframe thead th {\n",
       "        text-align: right;\n",
       "    }\n",
       "</style>\n",
       "<table border=\"1\" class=\"dataframe\">\n",
       "  <thead>\n",
       "    <tr style=\"text-align: right;\">\n",
       "      <th></th>\n",
       "      <th>Claim Number</th>\n",
       "      <th>Date Received</th>\n",
       "      <th>Incident Date</th>\n",
       "      <th>Airport Code</th>\n",
       "      <th>Airport Name</th>\n",
       "      <th>Airline Name</th>\n",
       "      <th>Claim Type</th>\n",
       "      <th>Claim Site</th>\n",
       "      <th>Item</th>\n",
       "      <th>Claim Amount</th>\n",
       "      <th>Status</th>\n",
       "      <th>Close Amount</th>\n",
       "      <th>Disposition</th>\n",
       "    </tr>\n",
       "  </thead>\n",
       "  <tbody>\n",
       "    <tr>\n",
       "      <th>96973</th>\n",
       "      <td>2007040223375</td>\n",
       "      <td>NaT</td>\n",
       "      <td>2007-03-28</td>\n",
       "      <td>FLL</td>\n",
       "      <td>Ft. Lauderdale-Hollywood International</td>\n",
       "      <td>Delta Air Lines</td>\n",
       "      <td>Passenger Property Loss</td>\n",
       "      <td>Checked Baggage</td>\n",
       "      <td>Other; Professional Equipment</td>\n",
       "      <td>$5;000.00</td>\n",
       "      <td>Denied</td>\n",
       "      <td>$0.00</td>\n",
       "      <td>Deny</td>\n",
       "    </tr>\n",
       "    <tr>\n",
       "      <th>96974</th>\n",
       "      <td>2007071028012</td>\n",
       "      <td>NaT</td>\n",
       "      <td>2007-06-26</td>\n",
       "      <td>OAK</td>\n",
       "      <td>Metropolitan Oakland International</td>\n",
       "      <td>Jet Blue</td>\n",
       "      <td>Passenger Property Loss</td>\n",
       "      <td>Checkpoint</td>\n",
       "      <td>Other</td>\n",
       "      <td>$300.00</td>\n",
       "      <td>Denied</td>\n",
       "      <td>$0.00</td>\n",
       "      <td>Deny</td>\n",
       "    </tr>\n",
       "    <tr>\n",
       "      <th>96975</th>\n",
       "      <td>2007090431288</td>\n",
       "      <td>NaT</td>\n",
       "      <td>2007-08-23</td>\n",
       "      <td>DFW</td>\n",
       "      <td>Dallas-Fort Worth International Airport</td>\n",
       "      <td>Southwest Airlines</td>\n",
       "      <td>Passenger Property Loss</td>\n",
       "      <td>Checked Baggage</td>\n",
       "      <td>Other</td>\n",
       "      <td>$131.09</td>\n",
       "      <td>Settled</td>\n",
       "      <td>$65.55</td>\n",
       "      <td>Settle</td>\n",
       "    </tr>\n",
       "    <tr>\n",
       "      <th>96976</th>\n",
       "      <td>2007110534445</td>\n",
       "      <td>NaT</td>\n",
       "      <td>2007-10-22</td>\n",
       "      <td>IAD</td>\n",
       "      <td>Washington Dulles International</td>\n",
       "      <td>American Airlines</td>\n",
       "      <td>Passenger Property Loss</td>\n",
       "      <td>Checkpoint</td>\n",
       "      <td>Cosmetics - Perfume; toilet articles; medicine...</td>\n",
       "      <td>$96.00</td>\n",
       "      <td>Denied</td>\n",
       "      <td>$0.00</td>\n",
       "      <td>Deny</td>\n",
       "    </tr>\n",
       "    <tr>\n",
       "      <th>96977</th>\n",
       "      <td>2007120435958</td>\n",
       "      <td>NaT</td>\n",
       "      <td>2007-11-29</td>\n",
       "      <td>BDL</td>\n",
       "      <td>Bradley International Airport</td>\n",
       "      <td>UAL</td>\n",
       "      <td>Passenger Property Loss</td>\n",
       "      <td>Checked Baggage</td>\n",
       "      <td>MP3 Players-(iPods; etc)</td>\n",
       "      <td>$291.40</td>\n",
       "      <td>Canceled</td>\n",
       "      <td>$0.00</td>\n",
       "      <td>NaN</td>\n",
       "    </tr>\n",
       "    <tr>\n",
       "      <th>...</th>\n",
       "      <td>...</td>\n",
       "      <td>...</td>\n",
       "      <td>...</td>\n",
       "      <td>...</td>\n",
       "      <td>...</td>\n",
       "      <td>...</td>\n",
       "      <td>...</td>\n",
       "      <td>...</td>\n",
       "      <td>...</td>\n",
       "      <td>...</td>\n",
       "      <td>...</td>\n",
       "      <td>...</td>\n",
       "      <td>...</td>\n",
       "    </tr>\n",
       "    <tr>\n",
       "      <th>97229</th>\n",
       "      <td>2004070858901</td>\n",
       "      <td>NaT</td>\n",
       "      <td>NaT</td>\n",
       "      <td>NaN</td>\n",
       "      <td>NaN</td>\n",
       "      <td>NaN</td>\n",
       "      <td>NaN</td>\n",
       "      <td>NaN</td>\n",
       "      <td>NaN</td>\n",
       "      <td>NaN</td>\n",
       "      <td>Settled</td>\n",
       "      <td>$25.00</td>\n",
       "      <td>Settle</td>\n",
       "    </tr>\n",
       "    <tr>\n",
       "      <th>97230</th>\n",
       "      <td>21525</td>\n",
       "      <td>NaT</td>\n",
       "      <td>2002-11-25</td>\n",
       "      <td>LGA</td>\n",
       "      <td>LaGuardia</td>\n",
       "      <td>Delta Air Lines</td>\n",
       "      <td>Property Damage</td>\n",
       "      <td>Checkpoint</td>\n",
       "      <td>Computer - Laptop</td>\n",
       "      <td>$2;200.00</td>\n",
       "      <td>Settled</td>\n",
       "      <td>$1;197.00</td>\n",
       "      <td>Settle</td>\n",
       "    </tr>\n",
       "    <tr>\n",
       "      <th>97231</th>\n",
       "      <td>==&gt; 2.csv.new &lt;==</td>\n",
       "      <td>NaT</td>\n",
       "      <td>NaT</td>\n",
       "      <td>NaN</td>\n",
       "      <td>NaN</td>\n",
       "      <td>NaN</td>\n",
       "      <td>NaN</td>\n",
       "      <td>NaN</td>\n",
       "      <td>NaN</td>\n",
       "      <td>NaN</td>\n",
       "      <td>NaN</td>\n",
       "      <td>NaN</td>\n",
       "      <td>NaN</td>\n",
       "    </tr>\n",
       "    <tr>\n",
       "      <th>145144</th>\n",
       "      <td>==&gt; 3.csv.new &lt;==</td>\n",
       "      <td>NaT</td>\n",
       "      <td>NaT</td>\n",
       "      <td>NaN</td>\n",
       "      <td>NaN</td>\n",
       "      <td>NaN</td>\n",
       "      <td>NaN</td>\n",
       "      <td>NaN</td>\n",
       "      <td>NaN</td>\n",
       "      <td>NaN</td>\n",
       "      <td>NaN</td>\n",
       "      <td>NaN</td>\n",
       "      <td>NaN</td>\n",
       "    </tr>\n",
       "    <tr>\n",
       "      <th>195599</th>\n",
       "      <td>==&gt; 5.csv.new &lt;==</td>\n",
       "      <td>NaT</td>\n",
       "      <td>NaT</td>\n",
       "      <td>NaN</td>\n",
       "      <td>NaN</td>\n",
       "      <td>NaN</td>\n",
       "      <td>NaN</td>\n",
       "      <td>NaN</td>\n",
       "      <td>NaN</td>\n",
       "      <td>NaN</td>\n",
       "      <td>NaN</td>\n",
       "      <td>NaN</td>\n",
       "      <td>NaN</td>\n",
       "    </tr>\n",
       "  </tbody>\n",
       "</table>\n",
       "<p>261 rows × 13 columns</p>\n",
       "</div>"
      ],
      "text/plain": [
       "             Claim Number Date Received Incident Date Airport Code  \\\n",
       "96973       2007040223375           NaT    2007-03-28          FLL   \n",
       "96974       2007071028012           NaT    2007-06-26          OAK   \n",
       "96975       2007090431288           NaT    2007-08-23          DFW   \n",
       "96976       2007110534445           NaT    2007-10-22          IAD   \n",
       "96977       2007120435958           NaT    2007-11-29          BDL   \n",
       "...                   ...           ...           ...          ...   \n",
       "97229       2004070858901           NaT           NaT          NaN   \n",
       "97230               21525           NaT    2002-11-25          LGA   \n",
       "97231   ==> 2.csv.new <==           NaT           NaT          NaN   \n",
       "145144  ==> 3.csv.new <==           NaT           NaT          NaN   \n",
       "195599  ==> 5.csv.new <==           NaT           NaT          NaN   \n",
       "\n",
       "                                   Airport Name        Airline Name  \\\n",
       "96973    Ft. Lauderdale-Hollywood International     Delta Air Lines   \n",
       "96974        Metropolitan Oakland International            Jet Blue   \n",
       "96975   Dallas-Fort Worth International Airport  Southwest Airlines   \n",
       "96976           Washington Dulles International   American Airlines   \n",
       "96977             Bradley International Airport                 UAL   \n",
       "...                                         ...                 ...   \n",
       "97229                                       NaN                 NaN   \n",
       "97230                                 LaGuardia     Delta Air Lines   \n",
       "97231                                       NaN                 NaN   \n",
       "145144                                      NaN                 NaN   \n",
       "195599                                      NaN                 NaN   \n",
       "\n",
       "                     Claim Type       Claim Site  \\\n",
       "96973   Passenger Property Loss  Checked Baggage   \n",
       "96974   Passenger Property Loss       Checkpoint   \n",
       "96975   Passenger Property Loss  Checked Baggage   \n",
       "96976   Passenger Property Loss       Checkpoint   \n",
       "96977   Passenger Property Loss  Checked Baggage   \n",
       "...                         ...              ...   \n",
       "97229                       NaN              NaN   \n",
       "97230           Property Damage       Checkpoint   \n",
       "97231                       NaN              NaN   \n",
       "145144                      NaN              NaN   \n",
       "195599                      NaN              NaN   \n",
       "\n",
       "                                                     Item Claim Amount  \\\n",
       "96973                       Other; Professional Equipment   $5;000.00    \n",
       "96974                                               Other     $300.00    \n",
       "96975                                               Other     $131.09    \n",
       "96976   Cosmetics - Perfume; toilet articles; medicine...      $96.00    \n",
       "96977                            MP3 Players-(iPods; etc)     $291.40    \n",
       "...                                                   ...          ...   \n",
       "97229                                                 NaN          NaN   \n",
       "97230                                   Computer - Laptop   $2;200.00    \n",
       "97231                                                 NaN          NaN   \n",
       "145144                                                NaN          NaN   \n",
       "195599                                                NaN          NaN   \n",
       "\n",
       "          Status Close Amount Disposition  \n",
       "96973     Denied       $0.00         Deny  \n",
       "96974     Denied       $0.00         Deny  \n",
       "96975    Settled      $65.55       Settle  \n",
       "96976     Denied       $0.00         Deny  \n",
       "96977   Canceled       $0.00          NaN  \n",
       "...          ...          ...         ...  \n",
       "97229    Settled      $25.00       Settle  \n",
       "97230    Settled   $1;197.00       Settle  \n",
       "97231        NaN          NaN         NaN  \n",
       "145144       NaN          NaN         NaN  \n",
       "195599       NaN          NaN         NaN  \n",
       "\n",
       "[261 rows x 13 columns]"
      ]
     },
     "execution_count": 19,
     "metadata": {},
     "output_type": "execute_result"
    }
   ],
   "source": [
    "df[df['Date Received'].isna()]"
   ]
  },
  {
   "attachments": {},
   "cell_type": "markdown",
   "metadata": {},
   "source": [
    "Melakukan drop baris `97231`, `145144`, `195599` karena nilai seluruh kolomnya kosong"
   ]
  },
  {
   "cell_type": "code",
   "execution_count": 20,
   "metadata": {},
   "outputs": [
    {
     "data": {
      "text/html": [
       "<div>\n",
       "<style scoped>\n",
       "    .dataframe tbody tr th:only-of-type {\n",
       "        vertical-align: middle;\n",
       "    }\n",
       "\n",
       "    .dataframe tbody tr th {\n",
       "        vertical-align: top;\n",
       "    }\n",
       "\n",
       "    .dataframe thead th {\n",
       "        text-align: right;\n",
       "    }\n",
       "</style>\n",
       "<table border=\"1\" class=\"dataframe\">\n",
       "  <thead>\n",
       "    <tr style=\"text-align: right;\">\n",
       "      <th></th>\n",
       "      <th>Claim Number</th>\n",
       "      <th>Date Received</th>\n",
       "      <th>Incident Date</th>\n",
       "      <th>Airport Code</th>\n",
       "      <th>Airport Name</th>\n",
       "      <th>Airline Name</th>\n",
       "      <th>Claim Type</th>\n",
       "      <th>Claim Site</th>\n",
       "      <th>Item</th>\n",
       "      <th>Claim Amount</th>\n",
       "      <th>Status</th>\n",
       "      <th>Close Amount</th>\n",
       "      <th>Disposition</th>\n",
       "    </tr>\n",
       "  </thead>\n",
       "  <tbody>\n",
       "    <tr>\n",
       "      <th>0</th>\n",
       "      <td>0909802M</td>\n",
       "      <td>2002-01-04</td>\n",
       "      <td>2002-12-12</td>\n",
       "      <td>EWR</td>\n",
       "      <td>Newark International Airport</td>\n",
       "      <td>Continental Airlines</td>\n",
       "      <td>Property Damage</td>\n",
       "      <td>Checkpoint</td>\n",
       "      <td>Other</td>\n",
       "      <td>$350.00</td>\n",
       "      <td>Approved</td>\n",
       "      <td>$350.00</td>\n",
       "      <td>Approve in Full</td>\n",
       "    </tr>\n",
       "    <tr>\n",
       "      <th>1</th>\n",
       "      <td>0202417M</td>\n",
       "      <td>2002-02-02</td>\n",
       "      <td>2004-01-16</td>\n",
       "      <td>SEA</td>\n",
       "      <td>Seattle-Tacoma International</td>\n",
       "      <td>NaN</td>\n",
       "      <td>Property Damage</td>\n",
       "      <td>Checked Baggage</td>\n",
       "      <td>Luggage (all types including footlockers)</td>\n",
       "      <td>$100.00</td>\n",
       "      <td>Settled</td>\n",
       "      <td>$50.00</td>\n",
       "      <td>Settle</td>\n",
       "    </tr>\n",
       "    <tr>\n",
       "      <th>2</th>\n",
       "      <td>0202445M</td>\n",
       "      <td>2002-02-04</td>\n",
       "      <td>2003-11-26</td>\n",
       "      <td>STL</td>\n",
       "      <td>Lambert St. Louis International</td>\n",
       "      <td>American Airlines</td>\n",
       "      <td>Property Damage</td>\n",
       "      <td>Checked Baggage</td>\n",
       "      <td>Cell Phones</td>\n",
       "      <td>$278.88</td>\n",
       "      <td>Settled</td>\n",
       "      <td>$227.92</td>\n",
       "      <td>Settle</td>\n",
       "    </tr>\n",
       "    <tr>\n",
       "      <th>3</th>\n",
       "      <td>0909816M</td>\n",
       "      <td>2002-02-07</td>\n",
       "      <td>2003-01-06</td>\n",
       "      <td>MIA</td>\n",
       "      <td>Miami International Airport</td>\n",
       "      <td>American Airlines</td>\n",
       "      <td>Property Damage</td>\n",
       "      <td>Checkpoint</td>\n",
       "      <td>Luggage (all types including footlockers)</td>\n",
       "      <td>$50.00</td>\n",
       "      <td>Approved</td>\n",
       "      <td>$50.00</td>\n",
       "      <td>Approve in Full</td>\n",
       "    </tr>\n",
       "    <tr>\n",
       "      <th>4</th>\n",
       "      <td>2005032379513</td>\n",
       "      <td>2002-02-18</td>\n",
       "      <td>2005-02-05</td>\n",
       "      <td>MCO</td>\n",
       "      <td>Orlando International Airport</td>\n",
       "      <td>Delta (Song)</td>\n",
       "      <td>Property Damage</td>\n",
       "      <td>Checkpoint</td>\n",
       "      <td>Baby - Strollers; car seats; playpen; etc.</td>\n",
       "      <td>$84.79</td>\n",
       "      <td>Approved</td>\n",
       "      <td>$84.79</td>\n",
       "      <td>Approve in Full</td>\n",
       "    </tr>\n",
       "    <tr>\n",
       "      <th>...</th>\n",
       "      <td>...</td>\n",
       "      <td>...</td>\n",
       "      <td>...</td>\n",
       "      <td>...</td>\n",
       "      <td>...</td>\n",
       "      <td>...</td>\n",
       "      <td>...</td>\n",
       "      <td>...</td>\n",
       "      <td>...</td>\n",
       "      <td>...</td>\n",
       "      <td>...</td>\n",
       "      <td>...</td>\n",
       "      <td>...</td>\n",
       "    </tr>\n",
       "    <tr>\n",
       "      <th>204262</th>\n",
       "      <td>2015120427297</td>\n",
       "      <td>2015-11-20</td>\n",
       "      <td>2015-10-16</td>\n",
       "      <td>-</td>\n",
       "      <td>-</td>\n",
       "      <td>-</td>\n",
       "      <td>Property Damage</td>\n",
       "      <td>Checked Baggage</td>\n",
       "      <td>Baggage/Cases/Purses; Books; Magazines &amp; Other...</td>\n",
       "      <td>-</td>\n",
       "      <td>-</td>\n",
       "      <td>NaN</td>\n",
       "      <td>NaN</td>\n",
       "    </tr>\n",
       "    <tr>\n",
       "      <th>204263</th>\n",
       "      <td>2015123027969</td>\n",
       "      <td>2015-12-17</td>\n",
       "      <td>2015-12-02</td>\n",
       "      <td>-</td>\n",
       "      <td>-</td>\n",
       "      <td>-</td>\n",
       "      <td>Property Damage</td>\n",
       "      <td>Checked Baggage</td>\n",
       "      <td>Audio/Video; Home Decor</td>\n",
       "      <td>-</td>\n",
       "      <td>-</td>\n",
       "      <td>NaN</td>\n",
       "      <td>NaN</td>\n",
       "    </tr>\n",
       "    <tr>\n",
       "      <th>204264</th>\n",
       "      <td>2016010428072</td>\n",
       "      <td>2015-12-22</td>\n",
       "      <td>2015-12-20</td>\n",
       "      <td>-</td>\n",
       "      <td>-</td>\n",
       "      <td>-</td>\n",
       "      <td>Passenger Property Loss</td>\n",
       "      <td>Checked Baggage</td>\n",
       "      <td>Clothing</td>\n",
       "      <td>-</td>\n",
       "      <td>-</td>\n",
       "      <td>NaN</td>\n",
       "      <td>NaN</td>\n",
       "    </tr>\n",
       "    <tr>\n",
       "      <th>204265</th>\n",
       "      <td>2016011328300</td>\n",
       "      <td>2015-12-30</td>\n",
       "      <td>2015-12-28</td>\n",
       "      <td>-</td>\n",
       "      <td>-</td>\n",
       "      <td>-</td>\n",
       "      <td>Passenger Property Loss</td>\n",
       "      <td>Checked Baggage</td>\n",
       "      <td>Tools &amp; Home Improvement Supplies</td>\n",
       "      <td>-</td>\n",
       "      <td>-</td>\n",
       "      <td>NaN</td>\n",
       "      <td>NaN</td>\n",
       "    </tr>\n",
       "    <tr>\n",
       "      <th>204266</th>\n",
       "      <td>2015123128015</td>\n",
       "      <td>2015-12-31</td>\n",
       "      <td>2015-11-23</td>\n",
       "      <td>-</td>\n",
       "      <td>-</td>\n",
       "      <td>-</td>\n",
       "      <td>Passenger Property Loss</td>\n",
       "      <td>Checkpoint</td>\n",
       "      <td>Personal Accessories</td>\n",
       "      <td>-</td>\n",
       "      <td>-</td>\n",
       "      <td>NaN</td>\n",
       "      <td>NaN</td>\n",
       "    </tr>\n",
       "  </tbody>\n",
       "</table>\n",
       "<p>204262 rows × 13 columns</p>\n",
       "</div>"
      ],
      "text/plain": [
       "         Claim Number Date Received Incident Date Airport Code  \\\n",
       "0            0909802M    2002-01-04    2002-12-12          EWR   \n",
       "1            0202417M    2002-02-02    2004-01-16          SEA   \n",
       "2            0202445M    2002-02-04    2003-11-26          STL   \n",
       "3            0909816M    2002-02-07    2003-01-06          MIA   \n",
       "4       2005032379513    2002-02-18    2005-02-05          MCO   \n",
       "...               ...           ...           ...          ...   \n",
       "204262  2015120427297    2015-11-20    2015-10-16            -   \n",
       "204263  2015123027969    2015-12-17    2015-12-02            -   \n",
       "204264  2016010428072    2015-12-22    2015-12-20            -   \n",
       "204265  2016011328300    2015-12-30    2015-12-28            -   \n",
       "204266  2015123128015    2015-12-31    2015-11-23            -   \n",
       "\n",
       "                           Airport Name          Airline Name  \\\n",
       "0          Newark International Airport  Continental Airlines   \n",
       "1          Seattle-Tacoma International                   NaN   \n",
       "2       Lambert St. Louis International     American Airlines   \n",
       "3           Miami International Airport     American Airlines   \n",
       "4         Orlando International Airport          Delta (Song)   \n",
       "...                                 ...                   ...   \n",
       "204262                                -                     -   \n",
       "204263                                -                     -   \n",
       "204264                                -                     -   \n",
       "204265                                -                     -   \n",
       "204266                                -                     -   \n",
       "\n",
       "                     Claim Type       Claim Site  \\\n",
       "0               Property Damage       Checkpoint   \n",
       "1               Property Damage  Checked Baggage   \n",
       "2               Property Damage  Checked Baggage   \n",
       "3               Property Damage       Checkpoint   \n",
       "4               Property Damage       Checkpoint   \n",
       "...                         ...              ...   \n",
       "204262          Property Damage  Checked Baggage   \n",
       "204263          Property Damage  Checked Baggage   \n",
       "204264  Passenger Property Loss  Checked Baggage   \n",
       "204265  Passenger Property Loss  Checked Baggage   \n",
       "204266  Passenger Property Loss       Checkpoint   \n",
       "\n",
       "                                                     Item Claim Amount  \\\n",
       "0                                                   Other     $350.00    \n",
       "1               Luggage (all types including footlockers)     $100.00    \n",
       "2                                             Cell Phones     $278.88    \n",
       "3               Luggage (all types including footlockers)      $50.00    \n",
       "4              Baby - Strollers; car seats; playpen; etc.      $84.79    \n",
       "...                                                   ...          ...   \n",
       "204262  Baggage/Cases/Purses; Books; Magazines & Other...            -   \n",
       "204263                            Audio/Video; Home Decor            -   \n",
       "204264                                           Clothing            -   \n",
       "204265                  Tools & Home Improvement Supplies            -   \n",
       "204266                               Personal Accessories            -   \n",
       "\n",
       "          Status Close Amount      Disposition  \n",
       "0       Approved     $350.00   Approve in Full  \n",
       "1        Settled      $50.00            Settle  \n",
       "2        Settled     $227.92            Settle  \n",
       "3       Approved      $50.00   Approve in Full  \n",
       "4       Approved      $84.79   Approve in Full  \n",
       "...          ...          ...              ...  \n",
       "204262         -          NaN              NaN  \n",
       "204263         -          NaN              NaN  \n",
       "204264         -          NaN              NaN  \n",
       "204265         -          NaN              NaN  \n",
       "204266         -          NaN              NaN  \n",
       "\n",
       "[204262 rows x 13 columns]"
      ]
     },
     "execution_count": 20,
     "metadata": {},
     "output_type": "execute_result"
    }
   ],
   "source": [
    "df.drop([97231,145144,195599], axis=0, inplace=True)\n",
    "df"
   ]
  },
  {
   "cell_type": "code",
   "execution_count": 21,
   "metadata": {},
   "outputs": [
    {
     "data": {
      "text/plain": [
       "Date Received     258\n",
       "Incident Date    2342\n",
       "dtype: int64"
      ]
     },
     "execution_count": 21,
     "metadata": {},
     "output_type": "execute_result"
    }
   ],
   "source": [
    "df[['Date Received', 'Incident Date']].isna().sum()"
   ]
  },
  {
   "attachments": {},
   "cell_type": "markdown",
   "metadata": {},
   "source": [
    "Terdapat 258 data kosong pada kolom `Date Received` dan 2342 pada kolom `Incident Date`. \n",
    "- Data kosong (NaT) pada kolom `Date Received` akan diisi dengan data tanggal baris sebelumnya yang terdekat, karena apabila dilihat dari datanya kolom `Date Received` berisi tanggal pelaporan klaim yang dibuat secara berurutan dimulai dari Januari 2002 sampai dengan Desember 2015. \n",
    "- Data kosong (NaT) pada kolom `Incident Date` akan diisi dengan data yang sama dengan data kolom `Date Received` pada baris yang sama, hal ini dilakukan dengan asumsi bahwa laporan klaim dibuat di tanggal yang sama dengan tanggal insiden."
   ]
  },
  {
   "cell_type": "code",
   "execution_count": 22,
   "metadata": {},
   "outputs": [],
   "source": [
    "# Mengisi data kosong pada kolom 'Date Received' dengan data sebelumnya\n",
    "df['Date Received'].fillna(method='pad', inplace=True)"
   ]
  },
  {
   "cell_type": "code",
   "execution_count": 23,
   "metadata": {},
   "outputs": [],
   "source": [
    "# Mengisi data kosong pada kolom 'Incident Date' dengan nilai yang sesuai dari kolom 'Date Received'\n",
    "df['Incident Date'].fillna(df['Date Received'], inplace=True)"
   ]
  },
  {
   "attachments": {},
   "cell_type": "markdown",
   "metadata": {},
   "source": [
    "Setelah mengisi nilai missing value, ditemukan beberapa anomali data:\n",
    "- Dataset tsa_claims ini berisikan data tahun 2002 - 2015 namun pada kolom `Date Received` dan `Incident Date` terdapat data yang kurang dari tahun 2002, kemudian pada kolom `Date Received` juga terdapat data yang lebih dari tahun 2015, hal ini mungkin dapat terjadi karena terjadi kesalahan saat proses input data.\n",
    "- Beberapa data pada `Incident date` terjadi setelah `Date Received`, dimana hal ini tidak mungkin terjadi karena `Date Received` merupakan tanggal pembuatan klaim, dan klaim hanya bisa dibuat apabila terjadi insiden."
   ]
  },
  {
   "cell_type": "code",
   "execution_count": 24,
   "metadata": {},
   "outputs": [
    {
     "data": {
      "text/plain": [
       "96944    2055\n",
       "96943    2044\n",
       "96942    2040\n",
       "96937    2025\n",
       "96938    2025\n",
       "         ... \n",
       "96962    2000\n",
       "96963    2000\n",
       "96964    2000\n",
       "96966    1996\n",
       "96945    1994\n",
       "Name: Date Received, Length: 204262, dtype: int64"
      ]
     },
     "metadata": {},
     "output_type": "display_data"
    },
    {
     "data": {
      "text/plain": [
       "204266    2015\n",
       "198644    2015\n",
       "198616    2015\n",
       "198627    2015\n",
       "198628    2015\n",
       "          ... \n",
       "44757     2000\n",
       "75637     2000\n",
       "29229     2000\n",
       "42989     2000\n",
       "33931     1996\n",
       "Name: Incident Date, Length: 204262, dtype: int64"
      ]
     },
     "metadata": {},
     "output_type": "display_data"
    }
   ],
   "source": [
    "# Menunjukan data yang tahunnya tidak sesuai\n",
    "display(df['Date Received'].dt.year.sort_values(ascending=False))\n",
    "display(df['Incident Date'].dt.year.sort_values(ascending=False))"
   ]
  },
  {
   "attachments": {},
   "cell_type": "markdown",
   "metadata": {},
   "source": [
    "Setelah diperiksa lebih detail, ternyata data tahun yang tidak sesuai memiliki pola yang tidak tentu maka dari itu untuk mengatasi anomali ini diputuskan untuk menghapus data yang memiliki anomali tersebut."
   ]
  },
  {
   "cell_type": "code",
   "execution_count": 25,
   "metadata": {},
   "outputs": [
    {
     "data": {
      "text/html": [
       "<div>\n",
       "<style scoped>\n",
       "    .dataframe tbody tr th:only-of-type {\n",
       "        vertical-align: middle;\n",
       "    }\n",
       "\n",
       "    .dataframe tbody tr th {\n",
       "        vertical-align: top;\n",
       "    }\n",
       "\n",
       "    .dataframe thead th {\n",
       "        text-align: right;\n",
       "    }\n",
       "</style>\n",
       "<table border=\"1\" class=\"dataframe\">\n",
       "  <thead>\n",
       "    <tr style=\"text-align: right;\">\n",
       "      <th></th>\n",
       "      <th>Claim Number</th>\n",
       "      <th>Date Received</th>\n",
       "      <th>Incident Date</th>\n",
       "      <th>Airport Code</th>\n",
       "      <th>Airport Name</th>\n",
       "      <th>Airline Name</th>\n",
       "      <th>Claim Type</th>\n",
       "      <th>Claim Site</th>\n",
       "      <th>Item</th>\n",
       "      <th>Claim Amount</th>\n",
       "      <th>Status</th>\n",
       "      <th>Close Amount</th>\n",
       "      <th>Disposition</th>\n",
       "    </tr>\n",
       "  </thead>\n",
       "  <tbody>\n",
       "    <tr>\n",
       "      <th>96930</th>\n",
       "      <td>2007010318227</td>\n",
       "      <td>2006-12-29</td>\n",
       "      <td>2006-12-13</td>\n",
       "      <td>DTW</td>\n",
       "      <td>Detroit Metropolitan Wayne County Airport</td>\n",
       "      <td>NaN</td>\n",
       "      <td>Passenger Property Loss</td>\n",
       "      <td>Checked Baggage</td>\n",
       "      <td>Books - Other (Hardcover non-fiction); Other</td>\n",
       "      <td>$328.00</td>\n",
       "      <td>Settled</td>\n",
       "      <td>$79.00</td>\n",
       "      <td>Settle</td>\n",
       "    </tr>\n",
       "    <tr>\n",
       "      <th>96931</th>\n",
       "      <td>2007010318231</td>\n",
       "      <td>2006-12-29</td>\n",
       "      <td>2006-12-26</td>\n",
       "      <td>HNL</td>\n",
       "      <td>Honolulu International Airport</td>\n",
       "      <td>ATA Aerocondor</td>\n",
       "      <td>Passenger Property Loss</td>\n",
       "      <td>Checked Baggage</td>\n",
       "      <td>Cameras - Digital</td>\n",
       "      <td>$250.00</td>\n",
       "      <td>Settled</td>\n",
       "      <td>$87.58</td>\n",
       "      <td>Settle</td>\n",
       "    </tr>\n",
       "    <tr>\n",
       "      <th>96932</th>\n",
       "      <td>2007010418280</td>\n",
       "      <td>2006-12-29</td>\n",
       "      <td>2006-12-13</td>\n",
       "      <td>EWR</td>\n",
       "      <td>Newark International Airport</td>\n",
       "      <td>Continental Airlines</td>\n",
       "      <td>Passenger Property Loss</td>\n",
       "      <td>Checked Baggage</td>\n",
       "      <td>Cameras - Digital</td>\n",
       "      <td>$507.00</td>\n",
       "      <td>Settled</td>\n",
       "      <td>$143.80</td>\n",
       "      <td>Settle</td>\n",
       "    </tr>\n",
       "    <tr>\n",
       "      <th>96933</th>\n",
       "      <td>2007010418284</td>\n",
       "      <td>2006-12-29</td>\n",
       "      <td>2006-12-26</td>\n",
       "      <td>LGA</td>\n",
       "      <td>LaGuardia</td>\n",
       "      <td>UAL</td>\n",
       "      <td>Passenger Property Loss</td>\n",
       "      <td>Checked Baggage</td>\n",
       "      <td>Jewelry - Costume; Luggage (all types includin...</td>\n",
       "      <td>$300.00</td>\n",
       "      <td>Settled</td>\n",
       "      <td>$241.47</td>\n",
       "      <td>Settle</td>\n",
       "    </tr>\n",
       "    <tr>\n",
       "      <th>96934</th>\n",
       "      <td>2007010418288</td>\n",
       "      <td>2006-12-29</td>\n",
       "      <td>2006-12-22</td>\n",
       "      <td>JFK</td>\n",
       "      <td>John F. Kennedy International</td>\n",
       "      <td>Jet Blue</td>\n",
       "      <td>Passenger Property Loss</td>\n",
       "      <td>Checked Baggage</td>\n",
       "      <td>Computer - Laptop</td>\n",
       "      <td>$1;249.64</td>\n",
       "      <td>Settled</td>\n",
       "      <td>$362.20</td>\n",
       "      <td>Settle</td>\n",
       "    </tr>\n",
       "    <tr>\n",
       "      <th>96935</th>\n",
       "      <td>2007010418295</td>\n",
       "      <td>2006-12-29</td>\n",
       "      <td>2006-12-09</td>\n",
       "      <td>ABE</td>\n",
       "      <td>Lehigh Valley International Airport; Allentown</td>\n",
       "      <td>UAL</td>\n",
       "      <td>Property Damage</td>\n",
       "      <td>Checked Baggage</td>\n",
       "      <td>Video Recordings (blank &amp; commercial)</td>\n",
       "      <td>$350.00</td>\n",
       "      <td>Settled</td>\n",
       "      <td>$289.00</td>\n",
       "      <td>Settle</td>\n",
       "    </tr>\n",
       "    <tr>\n",
       "      <th>96936</th>\n",
       "      <td>2006051105953</td>\n",
       "      <td>2020-05-08</td>\n",
       "      <td>2006-04-04</td>\n",
       "      <td>JFK</td>\n",
       "      <td>John F. Kennedy International</td>\n",
       "      <td>NaN</td>\n",
       "      <td>Property Damage</td>\n",
       "      <td>Checked Baggage</td>\n",
       "      <td>Clocks - Inexpensive ($75.00 or less); Clothin...</td>\n",
       "      <td>$637.76</td>\n",
       "      <td>Settled</td>\n",
       "      <td>$179.08</td>\n",
       "      <td>Settle</td>\n",
       "    </tr>\n",
       "    <tr>\n",
       "      <th>96937</th>\n",
       "      <td>2005051985068</td>\n",
       "      <td>2025-05-17</td>\n",
       "      <td>2005-04-18</td>\n",
       "      <td>MCO</td>\n",
       "      <td>Orlando International Airport</td>\n",
       "      <td>AirTran Airlines</td>\n",
       "      <td>Property Damage</td>\n",
       "      <td>Checked Baggage</td>\n",
       "      <td>Musical Instruments - Other - Over $250</td>\n",
       "      <td>$100.00</td>\n",
       "      <td>Approved</td>\n",
       "      <td>$100.00</td>\n",
       "      <td>Approve in Full</td>\n",
       "    </tr>\n",
       "    <tr>\n",
       "      <th>96938</th>\n",
       "      <td>2005060785897</td>\n",
       "      <td>2025-05-31</td>\n",
       "      <td>2005-05-06</td>\n",
       "      <td>OAK</td>\n",
       "      <td>Metropolitan Oakland International</td>\n",
       "      <td>Southwest Airlines</td>\n",
       "      <td>Property Damage</td>\n",
       "      <td>Checked Baggage</td>\n",
       "      <td>Luggage (all types including footlockers)</td>\n",
       "      <td>$65.00</td>\n",
       "      <td>Denied</td>\n",
       "      <td>$0.00</td>\n",
       "      <td>Deny</td>\n",
       "    </tr>\n",
       "    <tr>\n",
       "      <th>96939</th>\n",
       "      <td>2005090792253</td>\n",
       "      <td>2025-05-31</td>\n",
       "      <td>2005-07-26</td>\n",
       "      <td>LAX</td>\n",
       "      <td>Los Angeles International Airport</td>\n",
       "      <td>NaN</td>\n",
       "      <td>Property Damage</td>\n",
       "      <td>Checked Baggage</td>\n",
       "      <td>Locks</td>\n",
       "      <td>$250.00</td>\n",
       "      <td>Denied</td>\n",
       "      <td>$0.00</td>\n",
       "      <td>Deny</td>\n",
       "    </tr>\n",
       "    <tr>\n",
       "      <th>96940</th>\n",
       "      <td>2005081290465</td>\n",
       "      <td>2025-08-02</td>\n",
       "      <td>2005-07-20</td>\n",
       "      <td>SAN</td>\n",
       "      <td>San Diego International</td>\n",
       "      <td>Jet Blue</td>\n",
       "      <td>Passenger Property Loss</td>\n",
       "      <td>Checked Baggage</td>\n",
       "      <td>Photographic Film</td>\n",
       "      <td>$32.14</td>\n",
       "      <td>Canceled</td>\n",
       "      <td>$0.00</td>\n",
       "      <td>NaN</td>\n",
       "    </tr>\n",
       "    <tr>\n",
       "      <th>96941</th>\n",
       "      <td>2005081190381</td>\n",
       "      <td>2025-08-02</td>\n",
       "      <td>2005-07-02</td>\n",
       "      <td>ORD</td>\n",
       "      <td>Chicago O'Hare International Airport</td>\n",
       "      <td>LOT Polish Airlines</td>\n",
       "      <td>Passenger Property Loss</td>\n",
       "      <td>Checked Baggage</td>\n",
       "      <td>Cameras - Digital</td>\n",
       "      <td>$599.00</td>\n",
       "      <td>Denied</td>\n",
       "      <td>$0.00</td>\n",
       "      <td>Deny</td>\n",
       "    </tr>\n",
       "    <tr>\n",
       "      <th>96942</th>\n",
       "      <td>0212087M</td>\n",
       "      <td>2040-02-12</td>\n",
       "      <td>2003-12-20</td>\n",
       "      <td>ATL</td>\n",
       "      <td>Hartsfield-Jackson Atlanta International Airport</td>\n",
       "      <td>NaN</td>\n",
       "      <td>Property Damage</td>\n",
       "      <td>Checked Baggage</td>\n",
       "      <td>Other</td>\n",
       "      <td>$8.48</td>\n",
       "      <td>Approved</td>\n",
       "      <td>$8.48</td>\n",
       "      <td>Approve in Full</td>\n",
       "    </tr>\n",
       "    <tr>\n",
       "      <th>96943</th>\n",
       "      <td>2004120368430</td>\n",
       "      <td>2044-10-18</td>\n",
       "      <td>2004-10-03</td>\n",
       "      <td>DTW</td>\n",
       "      <td>Detroit Metropolitan Wayne County Airport</td>\n",
       "      <td>Northwest Airlines</td>\n",
       "      <td>Passenger Property Loss</td>\n",
       "      <td>Checked Baggage</td>\n",
       "      <td>Jewelry - Fine</td>\n",
       "      <td>$800.00</td>\n",
       "      <td>Denied</td>\n",
       "      <td>NaN</td>\n",
       "      <td>Deny</td>\n",
       "    </tr>\n",
       "    <tr>\n",
       "      <th>96944</th>\n",
       "      <td>2005051985108</td>\n",
       "      <td>2055-05-17</td>\n",
       "      <td>2005-04-30</td>\n",
       "      <td>MSP</td>\n",
       "      <td>Minneapolis/ St.Paul International Airport</td>\n",
       "      <td>Northwest Airlines</td>\n",
       "      <td>Property Damage</td>\n",
       "      <td>Checked Baggage</td>\n",
       "      <td>Other</td>\n",
       "      <td>$96.58</td>\n",
       "      <td>Denied</td>\n",
       "      <td>$0.00</td>\n",
       "      <td>Deny</td>\n",
       "    </tr>\n",
       "    <tr>\n",
       "      <th>96945</th>\n",
       "      <td>0105658M</td>\n",
       "      <td>1994-01-05</td>\n",
       "      <td>2003-11-30</td>\n",
       "      <td>JFK</td>\n",
       "      <td>John F. Kennedy International</td>\n",
       "      <td>American Airlines</td>\n",
       "      <td>Property Damage</td>\n",
       "      <td>Checked Baggage</td>\n",
       "      <td>Luggage (all types including footlockers)</td>\n",
       "      <td>$135.00</td>\n",
       "      <td>Settled</td>\n",
       "      <td>$50.00</td>\n",
       "      <td>Settle</td>\n",
       "    </tr>\n",
       "    <tr>\n",
       "      <th>96946</th>\n",
       "      <td>2006112716247</td>\n",
       "      <td>2000-11-20</td>\n",
       "      <td>2006-11-08</td>\n",
       "      <td>RSW</td>\n",
       "      <td>Southwest Florida International</td>\n",
       "      <td>Southwest Airlines</td>\n",
       "      <td>Property Damage</td>\n",
       "      <td>Checked Baggage</td>\n",
       "      <td>Electrical and Gas Appliances Minor - $200 or ...</td>\n",
       "      <td>$120.00</td>\n",
       "      <td>Denied</td>\n",
       "      <td>$0.00</td>\n",
       "      <td>Deny</td>\n",
       "    </tr>\n",
       "  </tbody>\n",
       "</table>\n",
       "</div>"
      ],
      "text/plain": [
       "        Claim Number Date Received Incident Date Airport Code  \\\n",
       "96930  2007010318227    2006-12-29    2006-12-13          DTW   \n",
       "96931  2007010318231    2006-12-29    2006-12-26          HNL   \n",
       "96932  2007010418280    2006-12-29    2006-12-13          EWR   \n",
       "96933  2007010418284    2006-12-29    2006-12-26          LGA   \n",
       "96934  2007010418288    2006-12-29    2006-12-22          JFK   \n",
       "96935  2007010418295    2006-12-29    2006-12-09          ABE   \n",
       "96936  2006051105953    2020-05-08    2006-04-04          JFK   \n",
       "96937  2005051985068    2025-05-17    2005-04-18          MCO   \n",
       "96938  2005060785897    2025-05-31    2005-05-06          OAK   \n",
       "96939  2005090792253    2025-05-31    2005-07-26          LAX   \n",
       "96940  2005081290465    2025-08-02    2005-07-20          SAN   \n",
       "96941  2005081190381    2025-08-02    2005-07-02          ORD   \n",
       "96942       0212087M    2040-02-12    2003-12-20          ATL   \n",
       "96943  2004120368430    2044-10-18    2004-10-03          DTW   \n",
       "96944  2005051985108    2055-05-17    2005-04-30          MSP   \n",
       "96945       0105658M    1994-01-05    2003-11-30          JFK   \n",
       "96946  2006112716247    2000-11-20    2006-11-08          RSW   \n",
       "\n",
       "                                           Airport Name          Airline Name  \\\n",
       "96930         Detroit Metropolitan Wayne County Airport                   NaN   \n",
       "96931                    Honolulu International Airport        ATA Aerocondor   \n",
       "96932                      Newark International Airport  Continental Airlines   \n",
       "96933                                         LaGuardia                   UAL   \n",
       "96934                     John F. Kennedy International              Jet Blue   \n",
       "96935    Lehigh Valley International Airport; Allentown                   UAL   \n",
       "96936                     John F. Kennedy International                   NaN   \n",
       "96937                     Orlando International Airport      AirTran Airlines   \n",
       "96938                Metropolitan Oakland International    Southwest Airlines   \n",
       "96939                 Los Angeles International Airport                   NaN   \n",
       "96940                           San Diego International              Jet Blue   \n",
       "96941              Chicago O'Hare International Airport   LOT Polish Airlines   \n",
       "96942  Hartsfield-Jackson Atlanta International Airport                   NaN   \n",
       "96943         Detroit Metropolitan Wayne County Airport    Northwest Airlines   \n",
       "96944        Minneapolis/ St.Paul International Airport    Northwest Airlines   \n",
       "96945                     John F. Kennedy International     American Airlines   \n",
       "96946                   Southwest Florida International    Southwest Airlines   \n",
       "\n",
       "                    Claim Type       Claim Site  \\\n",
       "96930  Passenger Property Loss  Checked Baggage   \n",
       "96931  Passenger Property Loss  Checked Baggage   \n",
       "96932  Passenger Property Loss  Checked Baggage   \n",
       "96933  Passenger Property Loss  Checked Baggage   \n",
       "96934  Passenger Property Loss  Checked Baggage   \n",
       "96935          Property Damage  Checked Baggage   \n",
       "96936          Property Damage  Checked Baggage   \n",
       "96937          Property Damage  Checked Baggage   \n",
       "96938          Property Damage  Checked Baggage   \n",
       "96939          Property Damage  Checked Baggage   \n",
       "96940  Passenger Property Loss  Checked Baggage   \n",
       "96941  Passenger Property Loss  Checked Baggage   \n",
       "96942          Property Damage  Checked Baggage   \n",
       "96943  Passenger Property Loss  Checked Baggage   \n",
       "96944          Property Damage  Checked Baggage   \n",
       "96945          Property Damage  Checked Baggage   \n",
       "96946          Property Damage  Checked Baggage   \n",
       "\n",
       "                                                    Item Claim Amount  \\\n",
       "96930       Books - Other (Hardcover non-fiction); Other     $328.00    \n",
       "96931                                  Cameras - Digital     $250.00    \n",
       "96932                                  Cameras - Digital     $507.00    \n",
       "96933  Jewelry - Costume; Luggage (all types includin...     $300.00    \n",
       "96934                                  Computer - Laptop   $1;249.64    \n",
       "96935              Video Recordings (blank & commercial)     $350.00    \n",
       "96936  Clocks - Inexpensive ($75.00 or less); Clothin...     $637.76    \n",
       "96937            Musical Instruments - Other - Over $250     $100.00    \n",
       "96938          Luggage (all types including footlockers)      $65.00    \n",
       "96939                                              Locks     $250.00    \n",
       "96940                                  Photographic Film      $32.14    \n",
       "96941                                  Cameras - Digital     $599.00    \n",
       "96942                                              Other       $8.48    \n",
       "96943                                     Jewelry - Fine     $800.00    \n",
       "96944                                              Other      $96.58    \n",
       "96945          Luggage (all types including footlockers)     $135.00    \n",
       "96946  Electrical and Gas Appliances Minor - $200 or ...     $120.00    \n",
       "\n",
       "         Status Close Amount      Disposition  \n",
       "96930   Settled      $79.00            Settle  \n",
       "96931   Settled      $87.58            Settle  \n",
       "96932   Settled     $143.80            Settle  \n",
       "96933   Settled     $241.47            Settle  \n",
       "96934   Settled     $362.20            Settle  \n",
       "96935   Settled     $289.00            Settle  \n",
       "96936   Settled     $179.08            Settle  \n",
       "96937  Approved     $100.00   Approve in Full  \n",
       "96938    Denied       $0.00              Deny  \n",
       "96939    Denied       $0.00              Deny  \n",
       "96940  Canceled       $0.00               NaN  \n",
       "96941    Denied       $0.00              Deny  \n",
       "96942  Approved       $8.48   Approve in Full  \n",
       "96943    Denied          NaN             Deny  \n",
       "96944    Denied       $0.00              Deny  \n",
       "96945   Settled      $50.00            Settle  \n",
       "96946    Denied       $0.00              Deny  "
      ]
     },
     "execution_count": 25,
     "metadata": {},
     "output_type": "execute_result"
    }
   ],
   "source": [
    "df.iloc[96930:96947]"
   ]
  },
  {
   "cell_type": "code",
   "execution_count": 26,
   "metadata": {},
   "outputs": [],
   "source": [
    "# Menampilkan data tahun 2002-2015 saja\n",
    "df = df[(df['Date Received'].dt.year.isin(range(2002,2015+1))) & (df['Incident Date'].dt.year.isin(range(2002,2015+1)))]"
   ]
  },
  {
   "cell_type": "code",
   "execution_count": 27,
   "metadata": {},
   "outputs": [
    {
     "data": {
      "text/html": [
       "<div>\n",
       "<style scoped>\n",
       "    .dataframe tbody tr th:only-of-type {\n",
       "        vertical-align: middle;\n",
       "    }\n",
       "\n",
       "    .dataframe tbody tr th {\n",
       "        vertical-align: top;\n",
       "    }\n",
       "\n",
       "    .dataframe thead th {\n",
       "        text-align: right;\n",
       "    }\n",
       "</style>\n",
       "<table border=\"1\" class=\"dataframe\">\n",
       "  <thead>\n",
       "    <tr style=\"text-align: right;\">\n",
       "      <th></th>\n",
       "      <th>Claim Number</th>\n",
       "      <th>Date Received</th>\n",
       "      <th>Incident Date</th>\n",
       "      <th>Airport Code</th>\n",
       "      <th>Airport Name</th>\n",
       "      <th>Airline Name</th>\n",
       "      <th>Claim Type</th>\n",
       "      <th>Claim Site</th>\n",
       "      <th>Item</th>\n",
       "      <th>Claim Amount</th>\n",
       "      <th>Status</th>\n",
       "      <th>Close Amount</th>\n",
       "      <th>Disposition</th>\n",
       "    </tr>\n",
       "  </thead>\n",
       "  <tbody>\n",
       "    <tr>\n",
       "      <th>0</th>\n",
       "      <td>0909802M</td>\n",
       "      <td>2002-01-04</td>\n",
       "      <td>2002-12-12</td>\n",
       "      <td>EWR</td>\n",
       "      <td>Newark International Airport</td>\n",
       "      <td>Continental Airlines</td>\n",
       "      <td>Property Damage</td>\n",
       "      <td>Checkpoint</td>\n",
       "      <td>Other</td>\n",
       "      <td>$350.00</td>\n",
       "      <td>Approved</td>\n",
       "      <td>$350.00</td>\n",
       "      <td>Approve in Full</td>\n",
       "    </tr>\n",
       "    <tr>\n",
       "      <th>1</th>\n",
       "      <td>0202417M</td>\n",
       "      <td>2002-02-02</td>\n",
       "      <td>2004-01-16</td>\n",
       "      <td>SEA</td>\n",
       "      <td>Seattle-Tacoma International</td>\n",
       "      <td>NaN</td>\n",
       "      <td>Property Damage</td>\n",
       "      <td>Checked Baggage</td>\n",
       "      <td>Luggage (all types including footlockers)</td>\n",
       "      <td>$100.00</td>\n",
       "      <td>Settled</td>\n",
       "      <td>$50.00</td>\n",
       "      <td>Settle</td>\n",
       "    </tr>\n",
       "    <tr>\n",
       "      <th>2</th>\n",
       "      <td>0202445M</td>\n",
       "      <td>2002-02-04</td>\n",
       "      <td>2003-11-26</td>\n",
       "      <td>STL</td>\n",
       "      <td>Lambert St. Louis International</td>\n",
       "      <td>American Airlines</td>\n",
       "      <td>Property Damage</td>\n",
       "      <td>Checked Baggage</td>\n",
       "      <td>Cell Phones</td>\n",
       "      <td>$278.88</td>\n",
       "      <td>Settled</td>\n",
       "      <td>$227.92</td>\n",
       "      <td>Settle</td>\n",
       "    </tr>\n",
       "    <tr>\n",
       "      <th>3</th>\n",
       "      <td>0909816M</td>\n",
       "      <td>2002-02-07</td>\n",
       "      <td>2003-01-06</td>\n",
       "      <td>MIA</td>\n",
       "      <td>Miami International Airport</td>\n",
       "      <td>American Airlines</td>\n",
       "      <td>Property Damage</td>\n",
       "      <td>Checkpoint</td>\n",
       "      <td>Luggage (all types including footlockers)</td>\n",
       "      <td>$50.00</td>\n",
       "      <td>Approved</td>\n",
       "      <td>$50.00</td>\n",
       "      <td>Approve in Full</td>\n",
       "    </tr>\n",
       "    <tr>\n",
       "      <th>4</th>\n",
       "      <td>2005032379513</td>\n",
       "      <td>2002-02-18</td>\n",
       "      <td>2005-02-05</td>\n",
       "      <td>MCO</td>\n",
       "      <td>Orlando International Airport</td>\n",
       "      <td>Delta (Song)</td>\n",
       "      <td>Property Damage</td>\n",
       "      <td>Checkpoint</td>\n",
       "      <td>Baby - Strollers; car seats; playpen; etc.</td>\n",
       "      <td>$84.79</td>\n",
       "      <td>Approved</td>\n",
       "      <td>$84.79</td>\n",
       "      <td>Approve in Full</td>\n",
       "    </tr>\n",
       "    <tr>\n",
       "      <th>...</th>\n",
       "      <td>...</td>\n",
       "      <td>...</td>\n",
       "      <td>...</td>\n",
       "      <td>...</td>\n",
       "      <td>...</td>\n",
       "      <td>...</td>\n",
       "      <td>...</td>\n",
       "      <td>...</td>\n",
       "      <td>...</td>\n",
       "      <td>...</td>\n",
       "      <td>...</td>\n",
       "      <td>...</td>\n",
       "      <td>...</td>\n",
       "    </tr>\n",
       "    <tr>\n",
       "      <th>160944</th>\n",
       "      <td>2011061784423</td>\n",
       "      <td>2011-06-08</td>\n",
       "      <td>2011-06-17</td>\n",
       "      <td>ZZX</td>\n",
       "      <td>Non TSA Airport (motor vehicle)</td>\n",
       "      <td>Delta (Song)</td>\n",
       "      <td>Property Damage</td>\n",
       "      <td>Motor Vehicle</td>\n",
       "      <td>-</td>\n",
       "      <td>-</td>\n",
       "      <td>-</td>\n",
       "      <td>NaN</td>\n",
       "      <td>NaN</td>\n",
       "    </tr>\n",
       "    <tr>\n",
       "      <th>161027</th>\n",
       "      <td>2011062284549</td>\n",
       "      <td>2011-06-10</td>\n",
       "      <td>2011-06-22</td>\n",
       "      <td>SAN</td>\n",
       "      <td>San Diego International</td>\n",
       "      <td>American Airlines</td>\n",
       "      <td>Passenger Property Loss</td>\n",
       "      <td>Checked Baggage</td>\n",
       "      <td>Medical/Science</td>\n",
       "      <td>-</td>\n",
       "      <td>-</td>\n",
       "      <td>NaN</td>\n",
       "      <td>NaN</td>\n",
       "    </tr>\n",
       "    <tr>\n",
       "      <th>161035</th>\n",
       "      <td>2011062384567</td>\n",
       "      <td>2011-06-10</td>\n",
       "      <td>2011-06-23</td>\n",
       "      <td>PHF</td>\n",
       "      <td>Newport News / Williamsburg International</td>\n",
       "      <td>-</td>\n",
       "      <td>Property Damage</td>\n",
       "      <td>Checked Baggage</td>\n",
       "      <td>Clothing</td>\n",
       "      <td>-</td>\n",
       "      <td>-</td>\n",
       "      <td>NaN</td>\n",
       "      <td>NaN</td>\n",
       "    </tr>\n",
       "    <tr>\n",
       "      <th>161154</th>\n",
       "      <td>2011070184895</td>\n",
       "      <td>2011-06-14</td>\n",
       "      <td>2011-07-01</td>\n",
       "      <td>-</td>\n",
       "      <td>-</td>\n",
       "      <td>-</td>\n",
       "      <td>Property Damage</td>\n",
       "      <td>Checkpoint</td>\n",
       "      <td>Clothing</td>\n",
       "      <td>-</td>\n",
       "      <td>-</td>\n",
       "      <td>NaN</td>\n",
       "      <td>NaN</td>\n",
       "    </tr>\n",
       "    <tr>\n",
       "      <th>161220</th>\n",
       "      <td>2011062884708</td>\n",
       "      <td>2011-06-16</td>\n",
       "      <td>2011-06-22</td>\n",
       "      <td>IAD</td>\n",
       "      <td>Washington Dulles International</td>\n",
       "      <td>UAL</td>\n",
       "      <td>Property Damage</td>\n",
       "      <td>Checked Baggage</td>\n",
       "      <td>Other</td>\n",
       "      <td>$0.00</td>\n",
       "      <td>Deny</td>\n",
       "      <td>NaN</td>\n",
       "      <td>NaN</td>\n",
       "    </tr>\n",
       "  </tbody>\n",
       "</table>\n",
       "<p>1672 rows × 13 columns</p>\n",
       "</div>"
      ],
      "text/plain": [
       "         Claim Number Date Received Incident Date Airport Code  \\\n",
       "0            0909802M    2002-01-04    2002-12-12          EWR   \n",
       "1            0202417M    2002-02-02    2004-01-16          SEA   \n",
       "2            0202445M    2002-02-04    2003-11-26          STL   \n",
       "3            0909816M    2002-02-07    2003-01-06          MIA   \n",
       "4       2005032379513    2002-02-18    2005-02-05          MCO   \n",
       "...               ...           ...           ...          ...   \n",
       "160944  2011061784423    2011-06-08    2011-06-17          ZZX   \n",
       "161027  2011062284549    2011-06-10    2011-06-22          SAN   \n",
       "161035  2011062384567    2011-06-10    2011-06-23          PHF   \n",
       "161154  2011070184895    2011-06-14    2011-07-01            -   \n",
       "161220  2011062884708    2011-06-16    2011-06-22          IAD   \n",
       "\n",
       "                                     Airport Name          Airline Name  \\\n",
       "0                    Newark International Airport  Continental Airlines   \n",
       "1                    Seattle-Tacoma International                   NaN   \n",
       "2                 Lambert St. Louis International     American Airlines   \n",
       "3                     Miami International Airport     American Airlines   \n",
       "4                   Orlando International Airport          Delta (Song)   \n",
       "...                                           ...                   ...   \n",
       "160944            Non TSA Airport (motor vehicle)          Delta (Song)   \n",
       "161027                    San Diego International   American Airlines     \n",
       "161035  Newport News / Williamsburg International                     -   \n",
       "161154                                          -                     -   \n",
       "161220            Washington Dulles International                 UAL     \n",
       "\n",
       "                     Claim Type       Claim Site  \\\n",
       "0               Property Damage       Checkpoint   \n",
       "1               Property Damage  Checked Baggage   \n",
       "2               Property Damage  Checked Baggage   \n",
       "3               Property Damage       Checkpoint   \n",
       "4               Property Damage       Checkpoint   \n",
       "...                         ...              ...   \n",
       "160944          Property Damage    Motor Vehicle   \n",
       "161027  Passenger Property Loss  Checked Baggage   \n",
       "161035          Property Damage  Checked Baggage   \n",
       "161154          Property Damage       Checkpoint   \n",
       "161220          Property Damage  Checked Baggage   \n",
       "\n",
       "                                              Item Claim Amount    Status  \\\n",
       "0                                            Other     $350.00   Approved   \n",
       "1        Luggage (all types including footlockers)     $100.00    Settled   \n",
       "2                                      Cell Phones     $278.88    Settled   \n",
       "3        Luggage (all types including footlockers)      $50.00   Approved   \n",
       "4       Baby - Strollers; car seats; playpen; etc.      $84.79   Approved   \n",
       "...                                            ...          ...       ...   \n",
       "160944                                           -            -         -   \n",
       "161027                             Medical/Science            -         -   \n",
       "161035                                    Clothing            -         -   \n",
       "161154                                    Clothing            -         -   \n",
       "161220                                       Other       $0.00       Deny   \n",
       "\n",
       "       Close Amount      Disposition  \n",
       "0          $350.00   Approve in Full  \n",
       "1           $50.00            Settle  \n",
       "2          $227.92            Settle  \n",
       "3           $50.00   Approve in Full  \n",
       "4           $84.79   Approve in Full  \n",
       "...             ...              ...  \n",
       "160944          NaN              NaN  \n",
       "161027          NaN              NaN  \n",
       "161035          NaN              NaN  \n",
       "161154          NaN              NaN  \n",
       "161220          NaN              NaN  \n",
       "\n",
       "[1672 rows x 13 columns]"
      ]
     },
     "execution_count": 27,
     "metadata": {},
     "output_type": "execute_result"
    }
   ],
   "source": [
    "# Menunjukan data yang `Incident Date` terjadi setelah klaim diterima\n",
    "df[(df['Incident Date'] > df['Date Received'])]"
   ]
  },
  {
   "cell_type": "code",
   "execution_count": 28,
   "metadata": {},
   "outputs": [
    {
     "data": {
      "text/plain": [
       "0.8187369317931416"
      ]
     },
     "execution_count": 28,
     "metadata": {},
     "output_type": "execute_result"
    }
   ],
   "source": [
    "# Persentase anomali data\n",
    "df[(df['Incident Date'] > df['Date Received'])].shape[0]/df.shape[0]*100"
   ]
  },
  {
   "cell_type": "code",
   "execution_count": 29,
   "metadata": {},
   "outputs": [
    {
     "data": {
      "text/plain": [
       "Denied                                                                                                                           704\n",
       "Approved                                                                                                                         330\n",
       "Settled                                                                                                                          282\n",
       "Canceled                                                                                                                          84\n",
       "Deny                                                                                                                              70\n",
       "Insufficient; one of the following items required: sum certain; statement of fact; signature; location of incident; and date.     66\n",
       "-                                                                                                                                 58\n",
       "Approve in Full                                                                                                                   27\n",
       "Closed as a contractor claim                                                                                                      23\n",
       "Settle                                                                                                                            14\n",
       "Claim entered                                                                                                                     13\n",
       "In litigation                                                                                                                      1\n",
       "Name: Status, dtype: int64"
      ]
     },
     "execution_count": 29,
     "metadata": {},
     "output_type": "execute_result"
    }
   ],
   "source": [
    "df['Status'][(df['Incident Date'] > df['Date Received'])].value_counts()"
   ]
  },
  {
   "attachments": {},
   "cell_type": "markdown",
   "metadata": {},
   "source": [
    "Terdapat 1672 data atau hanya 0.82% dari keseluruhan data yang memiliki anomali tanggal pada kolom `Incident Date` terjadi setelah dibuatnya klaim. Apabila dilakukan pemeriksaan lebih detail hubungan kekeliruan data `Incident Date` dengan kolom `Status`, bahwa kekeliruan data tanggal `Incident Date` ini hampir separuhnya menyebabkan `Status` klaim ditolak. Dikarenakan anomali ini terjadi karena kemungkinan besar kesalahan saat proses input dan tidak ditemukan metode yang cocok untuk menangani anomali ini, maka dari itu untuk menanganinya maka akan dilakukan penghapusan terhadap 1672 data ini."
   ]
  },
  {
   "cell_type": "code",
   "execution_count": 30,
   "metadata": {},
   "outputs": [
    {
     "data": {
      "text/html": [
       "<div>\n",
       "<style scoped>\n",
       "    .dataframe tbody tr th:only-of-type {\n",
       "        vertical-align: middle;\n",
       "    }\n",
       "\n",
       "    .dataframe tbody tr th {\n",
       "        vertical-align: top;\n",
       "    }\n",
       "\n",
       "    .dataframe thead th {\n",
       "        text-align: right;\n",
       "    }\n",
       "</style>\n",
       "<table border=\"1\" class=\"dataframe\">\n",
       "  <thead>\n",
       "    <tr style=\"text-align: right;\">\n",
       "      <th></th>\n",
       "      <th>Claim Number</th>\n",
       "      <th>Date Received</th>\n",
       "      <th>Incident Date</th>\n",
       "      <th>Airport Code</th>\n",
       "      <th>Airport Name</th>\n",
       "      <th>Airline Name</th>\n",
       "      <th>Claim Type</th>\n",
       "      <th>Claim Site</th>\n",
       "      <th>Item</th>\n",
       "      <th>Claim Amount</th>\n",
       "      <th>Status</th>\n",
       "      <th>Close Amount</th>\n",
       "      <th>Disposition</th>\n",
       "    </tr>\n",
       "  </thead>\n",
       "  <tbody>\n",
       "    <tr>\n",
       "      <th>7</th>\n",
       "      <td>12772</td>\n",
       "      <td>2002-06-20</td>\n",
       "      <td>2002-05-09</td>\n",
       "      <td>BWI</td>\n",
       "      <td>Baltimore/Washington Intl Thurgood Marshall</td>\n",
       "      <td>Southwest Airlines</td>\n",
       "      <td>NaN</td>\n",
       "      <td>Checkpoint</td>\n",
       "      <td>Clothing - Shoes; belts; accessories; etc.</td>\n",
       "      <td>$75.00</td>\n",
       "      <td>Approved</td>\n",
       "      <td>$75.00</td>\n",
       "      <td>Approve in Full</td>\n",
       "    </tr>\n",
       "    <tr>\n",
       "      <th>8</th>\n",
       "      <td>14268</td>\n",
       "      <td>2002-06-20</td>\n",
       "      <td>2002-06-16</td>\n",
       "      <td>PHX</td>\n",
       "      <td>Phoenix Sky Harbor International</td>\n",
       "      <td>NaN</td>\n",
       "      <td>Property Damage</td>\n",
       "      <td>Checkpoint</td>\n",
       "      <td>Computer - Laptop</td>\n",
       "      <td>$2;270.09</td>\n",
       "      <td>Canceled</td>\n",
       "      <td>NaN</td>\n",
       "      <td>NaN</td>\n",
       "    </tr>\n",
       "    <tr>\n",
       "      <th>9</th>\n",
       "      <td>2004102965797</td>\n",
       "      <td>2002-06-25</td>\n",
       "      <td>2002-05-04</td>\n",
       "      <td>ATL</td>\n",
       "      <td>Hartsfield-Jackson Atlanta International Airport</td>\n",
       "      <td>NaN</td>\n",
       "      <td>Passenger Property Loss</td>\n",
       "      <td>Checkpoint</td>\n",
       "      <td>Jewelry - Fine</td>\n",
       "      <td>$4;457.29</td>\n",
       "      <td>Denied</td>\n",
       "      <td>NaN</td>\n",
       "      <td>Deny</td>\n",
       "    </tr>\n",
       "    <tr>\n",
       "      <th>12</th>\n",
       "      <td>14460</td>\n",
       "      <td>2002-07-08</td>\n",
       "      <td>2002-06-12</td>\n",
       "      <td>BWI</td>\n",
       "      <td>Baltimore/Washington Intl Thurgood Marshall</td>\n",
       "      <td>American Airlines</td>\n",
       "      <td>NaN</td>\n",
       "      <td>Checkpoint</td>\n",
       "      <td>Eyeglasses - (including contact lenses)</td>\n",
       "      <td>$16.71</td>\n",
       "      <td>Approved</td>\n",
       "      <td>$17.00</td>\n",
       "      <td>Approve in Full</td>\n",
       "    </tr>\n",
       "    <tr>\n",
       "      <th>13</th>\n",
       "      <td>13334</td>\n",
       "      <td>2002-07-08</td>\n",
       "      <td>2002-06-04</td>\n",
       "      <td>BWI</td>\n",
       "      <td>Baltimore/Washington Intl Thurgood Marshall</td>\n",
       "      <td>Southwest Airlines</td>\n",
       "      <td>NaN</td>\n",
       "      <td>Other</td>\n",
       "      <td>Clothing - Shoes; belts; accessories; etc.</td>\n",
       "      <td>$450.00</td>\n",
       "      <td>Canceled</td>\n",
       "      <td>NaN</td>\n",
       "      <td>NaN</td>\n",
       "    </tr>\n",
       "    <tr>\n",
       "      <th>...</th>\n",
       "      <td>...</td>\n",
       "      <td>...</td>\n",
       "      <td>...</td>\n",
       "      <td>...</td>\n",
       "      <td>...</td>\n",
       "      <td>...</td>\n",
       "      <td>...</td>\n",
       "      <td>...</td>\n",
       "      <td>...</td>\n",
       "      <td>...</td>\n",
       "      <td>...</td>\n",
       "      <td>...</td>\n",
       "      <td>...</td>\n",
       "    </tr>\n",
       "    <tr>\n",
       "      <th>204262</th>\n",
       "      <td>2015120427297</td>\n",
       "      <td>2015-11-20</td>\n",
       "      <td>2015-10-16</td>\n",
       "      <td>-</td>\n",
       "      <td>-</td>\n",
       "      <td>-</td>\n",
       "      <td>Property Damage</td>\n",
       "      <td>Checked Baggage</td>\n",
       "      <td>Baggage/Cases/Purses; Books; Magazines &amp; Other...</td>\n",
       "      <td>-</td>\n",
       "      <td>-</td>\n",
       "      <td>NaN</td>\n",
       "      <td>NaN</td>\n",
       "    </tr>\n",
       "    <tr>\n",
       "      <th>204263</th>\n",
       "      <td>2015123027969</td>\n",
       "      <td>2015-12-17</td>\n",
       "      <td>2015-12-02</td>\n",
       "      <td>-</td>\n",
       "      <td>-</td>\n",
       "      <td>-</td>\n",
       "      <td>Property Damage</td>\n",
       "      <td>Checked Baggage</td>\n",
       "      <td>Audio/Video; Home Decor</td>\n",
       "      <td>-</td>\n",
       "      <td>-</td>\n",
       "      <td>NaN</td>\n",
       "      <td>NaN</td>\n",
       "    </tr>\n",
       "    <tr>\n",
       "      <th>204264</th>\n",
       "      <td>2016010428072</td>\n",
       "      <td>2015-12-22</td>\n",
       "      <td>2015-12-20</td>\n",
       "      <td>-</td>\n",
       "      <td>-</td>\n",
       "      <td>-</td>\n",
       "      <td>Passenger Property Loss</td>\n",
       "      <td>Checked Baggage</td>\n",
       "      <td>Clothing</td>\n",
       "      <td>-</td>\n",
       "      <td>-</td>\n",
       "      <td>NaN</td>\n",
       "      <td>NaN</td>\n",
       "    </tr>\n",
       "    <tr>\n",
       "      <th>204265</th>\n",
       "      <td>2016011328300</td>\n",
       "      <td>2015-12-30</td>\n",
       "      <td>2015-12-28</td>\n",
       "      <td>-</td>\n",
       "      <td>-</td>\n",
       "      <td>-</td>\n",
       "      <td>Passenger Property Loss</td>\n",
       "      <td>Checked Baggage</td>\n",
       "      <td>Tools &amp; Home Improvement Supplies</td>\n",
       "      <td>-</td>\n",
       "      <td>-</td>\n",
       "      <td>NaN</td>\n",
       "      <td>NaN</td>\n",
       "    </tr>\n",
       "    <tr>\n",
       "      <th>204266</th>\n",
       "      <td>2015123128015</td>\n",
       "      <td>2015-12-31</td>\n",
       "      <td>2015-11-23</td>\n",
       "      <td>-</td>\n",
       "      <td>-</td>\n",
       "      <td>-</td>\n",
       "      <td>Passenger Property Loss</td>\n",
       "      <td>Checkpoint</td>\n",
       "      <td>Personal Accessories</td>\n",
       "      <td>-</td>\n",
       "      <td>-</td>\n",
       "      <td>NaN</td>\n",
       "      <td>NaN</td>\n",
       "    </tr>\n",
       "  </tbody>\n",
       "</table>\n",
       "<p>202545 rows × 13 columns</p>\n",
       "</div>"
      ],
      "text/plain": [
       "         Claim Number Date Received Incident Date Airport Code  \\\n",
       "7               12772    2002-06-20    2002-05-09          BWI   \n",
       "8               14268    2002-06-20    2002-06-16          PHX   \n",
       "9       2004102965797    2002-06-25    2002-05-04          ATL   \n",
       "12              14460    2002-07-08    2002-06-12          BWI   \n",
       "13              13334    2002-07-08    2002-06-04          BWI   \n",
       "...               ...           ...           ...          ...   \n",
       "204262  2015120427297    2015-11-20    2015-10-16            -   \n",
       "204263  2015123027969    2015-12-17    2015-12-02            -   \n",
       "204264  2016010428072    2015-12-22    2015-12-20            -   \n",
       "204265  2016011328300    2015-12-30    2015-12-28            -   \n",
       "204266  2015123128015    2015-12-31    2015-11-23            -   \n",
       "\n",
       "                                            Airport Name        Airline Name  \\\n",
       "7            Baltimore/Washington Intl Thurgood Marshall  Southwest Airlines   \n",
       "8                       Phoenix Sky Harbor International                 NaN   \n",
       "9       Hartsfield-Jackson Atlanta International Airport                 NaN   \n",
       "12           Baltimore/Washington Intl Thurgood Marshall   American Airlines   \n",
       "13           Baltimore/Washington Intl Thurgood Marshall  Southwest Airlines   \n",
       "...                                                  ...                 ...   \n",
       "204262                                                 -                   -   \n",
       "204263                                                 -                   -   \n",
       "204264                                                 -                   -   \n",
       "204265                                                 -                   -   \n",
       "204266                                                 -                   -   \n",
       "\n",
       "                     Claim Type       Claim Site  \\\n",
       "7                           NaN       Checkpoint   \n",
       "8               Property Damage       Checkpoint   \n",
       "9       Passenger Property Loss       Checkpoint   \n",
       "12                          NaN       Checkpoint   \n",
       "13                          NaN            Other   \n",
       "...                         ...              ...   \n",
       "204262          Property Damage  Checked Baggage   \n",
       "204263          Property Damage  Checked Baggage   \n",
       "204264  Passenger Property Loss  Checked Baggage   \n",
       "204265  Passenger Property Loss  Checked Baggage   \n",
       "204266  Passenger Property Loss       Checkpoint   \n",
       "\n",
       "                                                     Item Claim Amount  \\\n",
       "7              Clothing - Shoes; belts; accessories; etc.      $75.00    \n",
       "8                                       Computer - Laptop   $2;270.09    \n",
       "9                                          Jewelry - Fine   $4;457.29    \n",
       "12                Eyeglasses - (including contact lenses)      $16.71    \n",
       "13             Clothing - Shoes; belts; accessories; etc.     $450.00    \n",
       "...                                                   ...          ...   \n",
       "204262  Baggage/Cases/Purses; Books; Magazines & Other...            -   \n",
       "204263                            Audio/Video; Home Decor            -   \n",
       "204264                                           Clothing            -   \n",
       "204265                  Tools & Home Improvement Supplies            -   \n",
       "204266                               Personal Accessories            -   \n",
       "\n",
       "          Status Close Amount      Disposition  \n",
       "7       Approved      $75.00   Approve in Full  \n",
       "8       Canceled          NaN              NaN  \n",
       "9         Denied          NaN             Deny  \n",
       "12      Approved      $17.00   Approve in Full  \n",
       "13      Canceled          NaN              NaN  \n",
       "...          ...          ...              ...  \n",
       "204262         -          NaN              NaN  \n",
       "204263         -          NaN              NaN  \n",
       "204264         -          NaN              NaN  \n",
       "204265         -          NaN              NaN  \n",
       "204266         -          NaN              NaN  \n",
       "\n",
       "[202545 rows x 13 columns]"
      ]
     },
     "execution_count": 30,
     "metadata": {},
     "output_type": "execute_result"
    }
   ],
   "source": [
    "# Drop 1672 data anomali\n",
    "date_anomali = df[(df['Incident Date'] > df['Date Received'])].index\n",
    "df.drop(date_anomali, inplace=True)\n",
    "df"
   ]
  },
  {
   "cell_type": "code",
   "execution_count": 31,
   "metadata": {},
   "outputs": [],
   "source": [
    "# Reset index setelah melakukan drop anomali\n",
    "df.reset_index(drop=True, inplace=True)"
   ]
  },
  {
   "attachments": {},
   "cell_type": "markdown",
   "metadata": {},
   "source": [
    "#### `Airport Code` dan `Airport Name`\n",
    "\n",
    "Berdasarkan analisis sebelumnya, bisa diketahui bahwa missing value dari `Airport Code` dan `Airport Name` saling berkaitan. Maka untik mengatasi missing value kedua kolom ini akan dilakukan secara bersamaan."
   ]
  },
  {
   "cell_type": "code",
   "execution_count": 32,
   "metadata": {},
   "outputs": [
    {
     "data": {
      "text/plain": [
       "Airport Code\n",
       "BOS    [Boston (Logan) International Airport, Boston ...\n",
       "BUR                                [Bob Hope, Bob Hope ]\n",
       "BZN    [Gallatin Field, Bozeman Yellowstone Internati...\n",
       "DEN    [Denver International Airport, Denver Internat...\n",
       "DFW    [Dallas-Fort Worth International Airport, Dall...\n",
       "DUJ    [Dubois Jefferson County, Dubois Jefferson Cou...\n",
       "EAR    [Kearney Municipal Airport, Kearney Municipal ...\n",
       "HIB    [Chisolm-Hibbing Municipal, Chisolm-Hibbing Mu...\n",
       "INL          [Falls International, Falls International ]\n",
       "JHM                  [Kapalua Airport, Kapalua Airport ]\n",
       "LAX    [Los Angeles International Airport, Los Angele...\n",
       "LGA                              [LaGuardia, LaGuardia ]\n",
       "MCW    [Mason City Municipal Airport, Mason City Muni...\n",
       "MKK                  [Molokai Airport, Molokai Airport ]\n",
       "MMH                      [Mammoth Lakes , Mammoth Lakes]\n",
       "OAJ    [Albert J Ellis; Jacksonville,  Albert J Ellis...\n",
       "PGV    [Pitt-Greenville Airport, Pitt-Greenville Airp...\n",
       "PNS    [Pensacola Regional, Pensacola International A...\n",
       "SHD              [Shenandoah Valley, Shenandoah Valley ]\n",
       "SWF                    [Stewart  Field, Stewart  Field ]\n",
       "Name: Airport Name, dtype: object"
      ]
     },
     "execution_count": 32,
     "metadata": {},
     "output_type": "execute_result"
    }
   ],
   "source": [
    "# Pemeriksaan Airport Name sesuai dengan Airport Code\n",
    "check = df.groupby('Airport Code') ['Airport Name'].nunique().sort_values(ascending=False)\n",
    "df[df['Airport Code'].isin(check[check>1].index)].groupby('Airport Code') ['Airport Name'].unique()"
   ]
  },
  {
   "attachments": {},
   "cell_type": "markdown",
   "metadata": {},
   "source": [
    "Apabila dilihat lebih detail tenyata dalam satu `Airport Code` memiliki beberapa `Airport Name` yang dimana hal ini merupakan hal yang jarang terjadi. Namun hal ini dapat terjadi karena banyak data pada kolom `Airport Name` yang memiliki kelebihan spasi hingga dideteksi sebagai nama yang berbeda."
   ]
  },
  {
   "cell_type": "code",
   "execution_count": 33,
   "metadata": {},
   "outputs": [],
   "source": [
    "# Menghapus kelebihan spasi ataupun karakter yang tidak diperlukan pada data kolom `Airport Name` dan `Airport Code`\n",
    "\n",
    "df['Airport Name'] = df['Airport Name'].str.strip()\n",
    "\n",
    "df['Airport Code'] = df['Airport Code'].str.strip()"
   ]
  },
  {
   "cell_type": "code",
   "execution_count": 34,
   "metadata": {},
   "outputs": [
    {
     "data": {
      "text/plain": [
       "Airport Code\n",
       "BZN    [Gallatin Field, Bozeman Yellowstone Internati...\n",
       "PNS    [Pensacola Regional, Pensacola International A...\n",
       "Name: Airport Name, dtype: object"
      ]
     },
     "execution_count": 34,
     "metadata": {},
     "output_type": "execute_result"
    }
   ],
   "source": [
    "# Dilakukan lagi pemeriksaan lagi terhadap kolom Airport Name sesuai dengan Airport Code nya\n",
    "check = df.groupby('Airport Code') ['Airport Name'].nunique().sort_values(ascending=False)\n",
    "df[df['Airport Code'].isin(check[check>1].index)].groupby('Airport Code') ['Airport Name'].unique()"
   ]
  },
  {
   "attachments": {},
   "cell_type": "markdown",
   "metadata": {},
   "source": [
    "Setelah dilakukan penghapusan terhadap spasi yang berlebih maka dapat dilihat data untuk kolom `Airport Code` dan `Airport Name` sudah lebih teratur dari sebelumnya yang memiliki banyak sekali *distict value*. Selanjutnya karena missing value dari kolom `Airport Code` dan `Airport Name` belum diisi, maka karena data pada kedua kolom merupakan data kategorik maka akan missing value akan diisi sebagai *Not Defined*."
   ]
  },
  {
   "cell_type": "code",
   "execution_count": 35,
   "metadata": {},
   "outputs": [],
   "source": [
    "# Mengisi data kosong kolom Airport Name dan Airport Code\n",
    "df[['Airport Name', 'Airport Code']] = df[['Airport Name', 'Airport Code']].fillna(value='Not Defined')"
   ]
  },
  {
   "cell_type": "code",
   "execution_count": 36,
   "metadata": {},
   "outputs": [],
   "source": [
    "df[['Airport Name', 'Airport Code']] = df[['Airport Name', 'Airport Code']].fillna(value='Not Defined')"
   ]
  },
  {
   "attachments": {},
   "cell_type": "markdown",
   "metadata": {},
   "source": [
    "#### `Airline Name`\n",
    "\n",
    "Data pada kolom `Airline Name` ini cukup berantakan karena tidak konsisten, maka dari itu data nama airline yang tidak konsisten ini bisa dilakukan penghapusan terhadap spasi berlebih dan mengganti beberapa penamaan airlines yang tidak konsisten."
   ]
  },
  {
   "cell_type": "code",
   "execution_count": 37,
   "metadata": {},
   "outputs": [
    {
     "data": {
      "text/plain": [
       "American Airlines            17373\n",
       "Delta Air Lines              17071\n",
       "UAL                          13870\n",
       "Southwest Airlines           13068\n",
       "Continental Airlines          9571\n",
       "                             ...  \n",
       "Czech Airlines                   1\n",
       "Air Ukraine International        1\n",
       "Comair Inc                       1\n",
       "Air Atlantic Ltd                 1\n",
       "Air Aruba                        1\n",
       "Name: Airline Name, Length: 318, dtype: int64"
      ]
     },
     "execution_count": 37,
     "metadata": {},
     "output_type": "execute_result"
    }
   ],
   "source": [
    "# Memeriksa nilai unik pada kolom airline name\n",
    "df['Airline Name'].value_counts()"
   ]
  },
  {
   "cell_type": "code",
   "execution_count": 38,
   "metadata": {},
   "outputs": [],
   "source": [
    "# Menghapus space berlebih\n",
    "df['Airline Name'] = df['Airline Name'].str.strip()"
   ]
  },
  {
   "cell_type": "code",
   "execution_count": 39,
   "metadata": {},
   "outputs": [
    {
     "data": {
      "text/plain": [
       "Delta Air Lines        25417\n",
       "American Airlines      23670\n",
       "Southwest Airlines     20427\n",
       "UAL                    19736\n",
       "USAir                  13297\n",
       "                       ...  \n",
       "Vieques Air                1\n",
       "Globe Span Airlines        1\n",
       "Air Nippon                 1\n",
       "Maxair                     1\n",
       "Air Aruba                  1\n",
       "Name: Airline Name, Length: 233, dtype: int64"
      ]
     },
     "execution_count": 39,
     "metadata": {},
     "output_type": "execute_result"
    }
   ],
   "source": [
    "# Memeriksa nilai unik pada kolom airline name (nilai unik berkurang setelah space berlebih dihapus dari 318 menjadi 233)\n",
    "df['Airline Name'].value_counts()"
   ]
  },
  {
   "cell_type": "code",
   "execution_count": 40,
   "metadata": {},
   "outputs": [
    {
     "data": {
      "text/plain": [
       "array(['Southwest Airlines', nan, 'American Airlines',\n",
       "       'Northwest Airlines', 'Delta Air Lines', 'America West',\n",
       "       'Continental Airlines', 'USAir', 'UAL', 'Virgin Atlantic',\n",
       "       'Jet Blue', 'Alaska Airlines', 'Aloha Airlines',\n",
       "       'AirTran Airlines', 'Spirit Airlines', 'Frontier Airlines',\n",
       "       'American West', 'Air Canada', 'British Airways',\n",
       "       'America Trans Air', 'Aero Mexico', 'Hawaiian Airlines',\n",
       "       'Lufthansa', 'Horizon Air', 'Lan Airlines',\n",
       "       'Midwest Express Airlines', 'Qantus Airways',\n",
       "       'Frontier Aviation Inc', 'Korean Airlines', 'Air Jamaica',\n",
       "       'KLM Royal Dutch Airlines', 'Alitalia', 'Air France', 'Aer Lingus',\n",
       "       'Air Tran Airlines(do not use)', 'Austrian Airlines',\n",
       "       'Japan Airlines', 'Sun Country Airlines Inc', 'Comair Inc',\n",
       "       'Delta (Song)', 'ATA Aerocondor', 'Singapore Airlines', 'Mexicana',\n",
       "       'Swiss Air', 'Aero Flot', 'Air 2000 Ltd Great Britain',\n",
       "       'Skywest Airlines Inc USA', 'Allegiant Air', 'TWA',\n",
       "       'American Eagle', 'Southeast Airlines', 'Cape Air',\n",
       "       'Air New Zealand', 'Tran Meridian Airlines', 'Air Phillipines',\n",
       "       'USA 3000 (U5)', 'Iceland Air', 'Scandinavian Airlines Systems',\n",
       "       'China Airlines', 'Midway Airlines', 'OMNI Air Express- (OY)',\n",
       "       'Malaysian Airline System', 'Sun Jet International Airlines Inc',\n",
       "       'Britannia Airways Ltd', 'Northwest International Airways Ltd',\n",
       "       'Turkish Airlines', 'Continental Express Inc', 'Air Pacific',\n",
       "       'Indian Airlines', 'Pan American Airways Corp.', 'Thai Airways',\n",
       "       'Pakistan International Airlines Cor', 'All Nippon Airways',\n",
       "       'Sunworld International Airlines Inc', 'Pace Airlines',\n",
       "       'Western Pacific Airlines Inc Westpac', 'Virgin Express',\n",
       "       'Commercial Airways', 'China Eastern Airlines', 'Reno Air',\n",
       "       'Aloha Islandair Inc', 'Kuwait Airways', 'Mountain West',\n",
       "       'US Express', 'Cayman Airlines', 'LOT Polish Airlines',\n",
       "       'Wiggins Airways', 'British Midland Airways Ltd',\n",
       "       'Skywest Airlines Australia', 'Saudi Arabian Airlines',\n",
       "       'Royal Wings Airlines', 'South African Airways',\n",
       "       'Aeroflot Russian International', 'Canadian Airlines',\n",
       "       'EL AL Israeli Airlines', 'Kuwait Airlines', 'Egypt Air',\n",
       "       'Czech Airlines', 'Avianca', 'Olympic Airways', 'Independence Air',\n",
       "       'Hooters Air (PACE)', 'Island Airlines Nantucket',\n",
       "       'Pacific Southwest Airlines Inc', 'American Central',\n",
       "       'Polish Airlines', 'Arika Isreali Airlines', 'Jet Train Airlines',\n",
       "       'Malev Hungarian Airlines', 'Brit Air',\n",
       "       'Civil Aviation - Non-Commercial Carrier',\n",
       "       'British West Indies Airlines', 'Cameroon Airlines',\n",
       "       'Mountain Air Express Inc', 'Westjet Airlines Ltd',\n",
       "       'China Southern Airlines', 'Aviaco', 'Greyhound Air', 'Cubana',\n",
       "       'Aero Lloyd', 'Tower Air', 'Air Labrador',\n",
       "       'Air Belgium International S A', 'Aero California', 'Estonia Air',\n",
       "       'Allegheny Airlines Inc', 'Iran Air', 'Eurowings',\n",
       "       'Air Ukraine International', 'Royal Dutch Airlines', 'Air China',\n",
       "       'Aerolineas Argentinas', 'Aerosweet Airlines',\n",
       "       'Cathay Pacific - CX', 'Air Atlantic Ltd', 'Air Portugal',\n",
       "       'North American Airlines', 'Grupo TACA', 'Czechoslavak Airlines',\n",
       "       'Monarch Airlines Ltd', 'Royal Jordanian Airline',\n",
       "       'Champion Airlines', 'Ryan Air', 'Harmony Airlines', 'Island Air',\n",
       "       'Great Lakes Airline', 'Bahama Airlines', 'Aeromar', 'Go',\n",
       "       'Piedmont Airlines Inc', 'Croatia Airlines', 'EVA airlines',\n",
       "       'Air Malta', 'Guyana Airways Corporation', 'Asiana Airlines',\n",
       "       'Air India', 'Primaris Airlines', 'Montair Aviation Inc',\n",
       "       'Iberia Airlines', 'Big Sky Airlines', 'Travelspan', 'SkyBus',\n",
       "       'Copa Airlines', 'Silverjet', 'Condor Air', 'JAT',\n",
       "       'Air Inter Europe', 'Virgin America', 'TAP Portugal',\n",
       "       'Mesa Airlines', 'Vision Airlines', 'Air Southwest Ltd',\n",
       "       'TACA airlines', 'Carnival Airlines', 'Air Botina', 'Direct Air',\n",
       "       'Qatar airlines', 'Carribean Airlines', 'V Australia', 'Emirates',\n",
       "       'Ethopian Airlines', 'TAM airlines', 'Vieques Air', 'Jet Airways',\n",
       "       'Aerosvit Airlines', 'Thomas Cook Airline', 'SonAir',\n",
       "       'Globe Span Airlines', 'Air Nippon', 'AeroGal', 'SunWing Airlines',\n",
       "       'Xtra Airways', 'Santa Barbara Airlines', 'Martinair',\n",
       "       'Philippine Airlines', '-', 'Finnair', 'Porter Airlines',\n",
       "       'JALways Airlines', 'Maxair', 'CanJet', 'Aviation Advantage Inc',\n",
       "       'Aero Lineas Mexicanas J S S A De C V', 'Air Europa',\n",
       "       'Hainan Airlines', 'Aires Airline', 'Air Afrique',\n",
       "       'Aero Costa Rica', 'ERA aviation Air', 'Air Tahiti Nui',\n",
       "       'Etihad Airways', 'Liat Airlines', 'Webjet', 'Volaris Airlines',\n",
       "       'Middle East Airlines', 'Sata', 'XL Airways', 'Transaero Airlines',\n",
       "       'Aerolitoral', 'Arik Airlines', 'Air Atlanta Icelandic',\n",
       "       'Seaborne Airlines', 'Royal Air Maroc', 'Air Berlin',\n",
       "       'Surinam Airways', 'vivaAerobus', 'Aero Peru', 'Qantas Airlines',\n",
       "       'Japan Air Systems', 'Interjet', 'Republic Airways',\n",
       "       'Norwegian Airlines', 'Brussels Airlines', 'Air Aruba'],\n",
       "      dtype=object)"
      ]
     },
     "execution_count": 40,
     "metadata": {},
     "output_type": "execute_result"
    }
   ],
   "source": [
    "# Memeriksa nilai unik kolom Airlines Name\n",
    "df['Airline Name'].unique()"
   ]
  },
  {
   "cell_type": "code",
   "execution_count": 41,
   "metadata": {},
   "outputs": [],
   "source": [
    "# Mengganti beberapa nama airlines yang tidak konsisten\n",
    "df['Airline Name'].replace('AirTranAirlines(donotuse)', 'AirTranAirlines', inplace=True)\n",
    "df['Airline Name'].replace('AmericaWest', 'AmericanWest', inplace=True)\n",
    "df['Airline Name'].replace('Delta(Song)', 'DeltaAirLines', inplace=True)\n",
    "df['Airline Name'].replace('AeroFlot', 'AeroflotRussianInternational', inplace=True)\n",
    "df['Airline Name'].replace('FrontierAviationInc','FrontierAirlines',inplace=True)\n",
    "df['Airline Name'].replace('NorthwestInternationalAirwaysLtd','NorthwestAirlines',inplace=True)\n"
   ]
  },
  {
   "attachments": {},
   "cell_type": "markdown",
   "metadata": {},
   "source": [
    "Setelah dilakukan perbaikan terhadap data yang tidak konsisten selanjutnya dilakukan pengisian missing value dengan *Not Defined*."
   ]
  },
  {
   "cell_type": "code",
   "execution_count": 42,
   "metadata": {},
   "outputs": [],
   "source": [
    "# Mengisi data kosong kolom Airlines Name\n",
    "df[['Airline Name']] = df[['Airline Name']].fillna(value='Not Defined')"
   ]
  },
  {
   "cell_type": "code",
   "execution_count": 43,
   "metadata": {},
   "outputs": [],
   "source": [
    "# Mengubah nilai '-' menjadi 'Not Defined' pada kolom Airport Name, Airport Code dan Airline Name\n",
    "df['Airport Name'].replace('-', 'Not Defined', inplace=True)\n",
    "df['Airport Code'].replace('-', 'Not Defined', inplace=True)\n",
    "df['Airline Name'].replace('-', 'Not Defined', inplace=True)"
   ]
  },
  {
   "attachments": {},
   "cell_type": "markdown",
   "metadata": {},
   "source": [
    "#### `Claim Type` dan `Claim Site`\n",
    "\n",
    "Mengisi nilai kosong pada kolom `Claim Type` dan `Claim Site` dengan *Other* karena data berbentuk kategorik."
   ]
  },
  {
   "cell_type": "code",
   "execution_count": 44,
   "metadata": {},
   "outputs": [
    {
     "data": {
      "text/plain": [
       "Passenger Property Loss    116943\n",
       "Property Damage             74692\n",
       "Personal Injury              1461\n",
       "Employee Loss (MPCECA)        477\n",
       "Passenger Theft               452\n",
       "Motor Vehicle                 368\n",
       "-                             274\n",
       "Complaint                      48\n",
       "Wrongful Death                  4\n",
       "Compliment                      3\n",
       "Bus Terminal                    1\n",
       "Name: Claim Type, dtype: int64"
      ]
     },
     "metadata": {},
     "output_type": "display_data"
    },
    {
     "data": {
      "text/plain": [
       "Checked Baggage    158438\n",
       "Checkpoint          39790\n",
       "Other                2858\n",
       "Motor Vehicle         472\n",
       "-                     266\n",
       "Bus Station            16\n",
       "Name: Claim Site, dtype: int64"
      ]
     },
     "metadata": {},
     "output_type": "display_data"
    }
   ],
   "source": [
    "# Menghitung nilai unik dalam setiap kolom\n",
    "display(df['Claim Type'].value_counts())\n",
    "display(df['Claim Site'].value_counts())"
   ]
  },
  {
   "cell_type": "code",
   "execution_count": 45,
   "metadata": {},
   "outputs": [],
   "source": [
    "# Mengisi data kosong kolom 'Claim Type' dan 'Claim Site'\n",
    "df[['Claim Type']] = df[['Claim Type']].fillna(value='Other')\n",
    "df[['Claim Site']] = df[['Claim Site']].fillna(value='Other')"
   ]
  },
  {
   "cell_type": "code",
   "execution_count": 201,
   "metadata": {},
   "outputs": [],
   "source": [
    "df['Claim Site'].replace('-', 'Not Defined', inplace=True)"
   ]
  },
  {
   "attachments": {},
   "cell_type": "markdown",
   "metadata": {},
   "source": [
    "#### `Item`\n",
    "\n",
    "Kolom `Item` memiliki nilai unik berbentuk kategorik sebanyak 4688, maka untuk mengisi nilai kosong pada kolom ini diisi dengan *Other*"
   ]
  },
  {
   "cell_type": "code",
   "execution_count": 46,
   "metadata": {},
   "outputs": [
    {
     "data": {
      "text/plain": [
       "Other                                                                                                                              36525\n",
       "Luggage (all types including footlockers)                                                                                          18911\n",
       "Clothing - Shoes; belts; accessories; etc.                                                                                         14774\n",
       "Jewelry - Fine                                                                                                                      9799\n",
       "Locks                                                                                                                               9491\n",
       "                                                                                                                                   ...  \n",
       "Cards - Greeting; Jewelry - Fine                                                                                                       1\n",
       "Books - Reference books; cookbooks; etc.; Clothing - Shoes; belts; accessories; etc.; Luggage (all types including footlockers)        1\n",
       "Cards - Playing; Other                                                                                                                 1\n",
       "Boxes - Jewelry; Cigarette; Music; etc.; Currency; Locks; Other                                                                        1\n",
       "Cameras; Clothing; Clothing; Clothing; Clothing; Jewelry & Watches; Jewelry & Watches                                                  1\n",
       "Name: Item, Length: 4688, dtype: int64"
      ]
     },
     "execution_count": 46,
     "metadata": {},
     "output_type": "execute_result"
    }
   ],
   "source": [
    "# Menampilkan jumlah dan nilai unik pada kolom 'Item'\n",
    "df['Item'].value_counts()"
   ]
  },
  {
   "cell_type": "code",
   "execution_count": 47,
   "metadata": {},
   "outputs": [],
   "source": [
    "# Mengisi nilai kosong pada kolom Item\n",
    "df[['Item']] = df[['Item']].fillna(value='Other')"
   ]
  },
  {
   "attachments": {},
   "cell_type": "markdown",
   "metadata": {},
   "source": [
    "Kolom `Item` ini memiliki nilai unik kategorik yang rumit, karena kategori dipisahkan oleh berbagai tanda dan skema penamaannya sangat bervariasi. Maka dari itu kita perlu menyeragamkan format data kategorik pada kolom ini."
   ]
  },
  {
   "cell_type": "code",
   "execution_count": 48,
   "metadata": {},
   "outputs": [],
   "source": [
    "# Membersihkan format yang berbeda pada kolom 'Item'\n",
    "df['Item'] = df['Item'].str.strip()\n",
    "df['Item'] = df['Item'].str.split('-').map(lambda x:'' if type(x) == float else x[0])\n",
    "df['Item'] = df['Item'].str.split(r'; ').map(lambda x: x[0])\n",
    "df['Item'] = df['Item'].str.split(r' \\(').map(lambda x: x[0])\n",
    "df['Item'] = df['Item'].str.split(r' &').map(lambda x: x[0])\n"
   ]
  },
  {
   "attachments": {},
   "cell_type": "markdown",
   "metadata": {},
   "source": [
    "Setelah format pada kolom `Item` dibersihkan, jumlah nilai unik berubah dari 4688 menjadi 131."
   ]
  },
  {
   "cell_type": "code",
   "execution_count": 49,
   "metadata": {},
   "outputs": [
    {
     "data": {
      "text/plain": [
       "Other                41069\n",
       "Luggage              19172\n",
       "Clothing             17324\n",
       "Cameras              11984\n",
       "Jewelry              11274\n",
       "                     ...  \n",
       "Electric Blankets        1\n",
       "Furs                     1\n",
       "Rugs                     1\n",
       "Ladders                  1\n",
       "Typewriters              1\n",
       "Name: Item, Length: 131, dtype: int64"
      ]
     },
     "execution_count": 49,
     "metadata": {},
     "output_type": "execute_result"
    }
   ],
   "source": [
    "df['Item'].value_counts()"
   ]
  },
  {
   "cell_type": "code",
   "execution_count": 50,
   "metadata": {},
   "outputs": [],
   "source": [
    "df['Item'].replace('', 'Other', inplace=True)"
   ]
  },
  {
   "attachments": {},
   "cell_type": "markdown",
   "metadata": {},
   "source": [
    "#### `Claim Amount`\n",
    "\n",
    "Terdapat perbedaan format dan beberapa tanda yang tidak diperlukan pada data di kolom `Claim Amount` ini maka perlu dilakukan perubahan format dan mengubah tipe data menjadi float karena data pada kolom ini merupakan dalam bentuk angka."
   ]
  },
  {
   "cell_type": "code",
   "execution_count": 51,
   "metadata": {},
   "outputs": [],
   "source": [
    "# Mengubah format data\n",
    "df['Claim Amount'] = df['Claim Amount'].str.replace('$','').str.replace('-','0').str.replace(';','')\n",
    "df['Claim Amount'] = df['Claim Amount'].str.strip()"
   ]
  },
  {
   "cell_type": "code",
   "execution_count": 52,
   "metadata": {},
   "outputs": [],
   "source": [
    "# Mengubah tipe data menjadi float\n",
    "df['Claim Amount'] = df['Claim Amount'].astype(float)"
   ]
  },
  {
   "attachments": {},
   "cell_type": "markdown",
   "metadata": {},
   "source": [
    "Kolom `Claim Amount` ini berkaitan dengan kolom `Close Amount` dan `Status`. Saat status klaim ditolek maka data pada kolom `CLose Amount` juga akan menjadi nol. Namun, tidak ada cara pasti untuk menyimpulkan keterkaitan data kolom `Claim Amount` sehingga data kosong atau missing value pada kolom `Claim Amount` ini akan di drop saja."
   ]
  },
  {
   "cell_type": "code",
   "execution_count": 53,
   "metadata": {},
   "outputs": [
    {
     "data": {
      "text/html": [
       "<div>\n",
       "<style scoped>\n",
       "    .dataframe tbody tr th:only-of-type {\n",
       "        vertical-align: middle;\n",
       "    }\n",
       "\n",
       "    .dataframe tbody tr th {\n",
       "        vertical-align: top;\n",
       "    }\n",
       "\n",
       "    .dataframe thead th {\n",
       "        text-align: right;\n",
       "    }\n",
       "</style>\n",
       "<table border=\"1\" class=\"dataframe\">\n",
       "  <thead>\n",
       "    <tr style=\"text-align: right;\">\n",
       "      <th></th>\n",
       "      <th>Claim Amount</th>\n",
       "      <th>Close Amount</th>\n",
       "      <th>Status</th>\n",
       "    </tr>\n",
       "  </thead>\n",
       "  <tbody>\n",
       "    <tr>\n",
       "      <th>5</th>\n",
       "      <td>NaN</td>\n",
       "      <td>NaN</td>\n",
       "      <td>Denied</td>\n",
       "    </tr>\n",
       "    <tr>\n",
       "      <th>9</th>\n",
       "      <td>NaN</td>\n",
       "      <td>NaN</td>\n",
       "      <td>Insufficient; one of the following items requi...</td>\n",
       "    </tr>\n",
       "    <tr>\n",
       "      <th>11</th>\n",
       "      <td>NaN</td>\n",
       "      <td>NaN</td>\n",
       "      <td>Insufficient; one of the following items requi...</td>\n",
       "    </tr>\n",
       "    <tr>\n",
       "      <th>13</th>\n",
       "      <td>NaN</td>\n",
       "      <td>$0.00</td>\n",
       "      <td>Denied</td>\n",
       "    </tr>\n",
       "    <tr>\n",
       "      <th>18</th>\n",
       "      <td>NaN</td>\n",
       "      <td>$0.00</td>\n",
       "      <td>Canceled</td>\n",
       "    </tr>\n",
       "    <tr>\n",
       "      <th>...</th>\n",
       "      <td>...</td>\n",
       "      <td>...</td>\n",
       "      <td>...</td>\n",
       "    </tr>\n",
       "    <tr>\n",
       "      <th>143397</th>\n",
       "      <td>NaN</td>\n",
       "      <td>NaN</td>\n",
       "      <td>Insufficient; one of the following items requi...</td>\n",
       "    </tr>\n",
       "    <tr>\n",
       "      <th>143466</th>\n",
       "      <td>NaN</td>\n",
       "      <td>NaN</td>\n",
       "      <td>Insufficient; one of the following items requi...</td>\n",
       "    </tr>\n",
       "    <tr>\n",
       "      <th>143467</th>\n",
       "      <td>NaN</td>\n",
       "      <td>NaN</td>\n",
       "      <td>Insufficient; one of the following items requi...</td>\n",
       "    </tr>\n",
       "    <tr>\n",
       "      <th>143517</th>\n",
       "      <td>NaN</td>\n",
       "      <td>NaN</td>\n",
       "      <td>Insufficient; one of the following items requi...</td>\n",
       "    </tr>\n",
       "    <tr>\n",
       "      <th>143518</th>\n",
       "      <td>NaN</td>\n",
       "      <td>NaN</td>\n",
       "      <td>Insufficient; one of the following items requi...</td>\n",
       "    </tr>\n",
       "  </tbody>\n",
       "</table>\n",
       "<p>3979 rows × 3 columns</p>\n",
       "</div>"
      ],
      "text/plain": [
       "        Claim Amount Close Amount  \\\n",
       "5                NaN          NaN   \n",
       "9                NaN          NaN   \n",
       "11               NaN          NaN   \n",
       "13               NaN       $0.00    \n",
       "18               NaN       $0.00    \n",
       "...              ...          ...   \n",
       "143397           NaN          NaN   \n",
       "143466           NaN          NaN   \n",
       "143467           NaN          NaN   \n",
       "143517           NaN          NaN   \n",
       "143518           NaN          NaN   \n",
       "\n",
       "                                                   Status  \n",
       "5                                                  Denied  \n",
       "9       Insufficient; one of the following items requi...  \n",
       "11      Insufficient; one of the following items requi...  \n",
       "13                                                 Denied  \n",
       "18                                               Canceled  \n",
       "...                                                   ...  \n",
       "143397  Insufficient; one of the following items requi...  \n",
       "143466  Insufficient; one of the following items requi...  \n",
       "143467  Insufficient; one of the following items requi...  \n",
       "143517  Insufficient; one of the following items requi...  \n",
       "143518  Insufficient; one of the following items requi...  \n",
       "\n",
       "[3979 rows x 3 columns]"
      ]
     },
     "execution_count": 53,
     "metadata": {},
     "output_type": "execute_result"
    }
   ],
   "source": [
    "df[df['Claim Amount'].isna()] [['Claim Amount', 'Close Amount', 'Status']]"
   ]
  },
  {
   "cell_type": "code",
   "execution_count": 54,
   "metadata": {},
   "outputs": [],
   "source": [
    "# Drop baris yang mengandung missing value pada kolom 'Claim Amount'\n",
    "df.dropna(subset=['Claim Amount'], inplace=True)"
   ]
  },
  {
   "attachments": {},
   "cell_type": "markdown",
   "metadata": {},
   "source": [
    "Selanjutnya apabila dilihat lebih detail data pada kolom `Claim Amount ` ini terdapat data yang berjumlah $0, sehingga data seperti ini merupakan termasuk dari anomali data yang perlu di drop."
   ]
  },
  {
   "cell_type": "code",
   "execution_count": 55,
   "metadata": {},
   "outputs": [
    {
     "data": {
      "text/html": [
       "<div>\n",
       "<style scoped>\n",
       "    .dataframe tbody tr th:only-of-type {\n",
       "        vertical-align: middle;\n",
       "    }\n",
       "\n",
       "    .dataframe tbody tr th {\n",
       "        vertical-align: top;\n",
       "    }\n",
       "\n",
       "    .dataframe thead th {\n",
       "        text-align: right;\n",
       "    }\n",
       "</style>\n",
       "<table border=\"1\" class=\"dataframe\">\n",
       "  <thead>\n",
       "    <tr style=\"text-align: right;\">\n",
       "      <th></th>\n",
       "      <th>Claim Number</th>\n",
       "      <th>Date Received</th>\n",
       "      <th>Incident Date</th>\n",
       "      <th>Airport Code</th>\n",
       "      <th>Airport Name</th>\n",
       "      <th>Airline Name</th>\n",
       "      <th>Claim Type</th>\n",
       "      <th>Claim Site</th>\n",
       "      <th>Item</th>\n",
       "      <th>Claim Amount</th>\n",
       "      <th>Status</th>\n",
       "      <th>Close Amount</th>\n",
       "      <th>Disposition</th>\n",
       "    </tr>\n",
       "  </thead>\n",
       "  <tbody>\n",
       "    <tr>\n",
       "      <th>2560</th>\n",
       "      <td>0702509M</td>\n",
       "      <td>2003-02-13</td>\n",
       "      <td>2002-12-31</td>\n",
       "      <td>MCO</td>\n",
       "      <td>Orlando International Airport</td>\n",
       "      <td>UAL</td>\n",
       "      <td>Property Damage</td>\n",
       "      <td>Checked Baggage</td>\n",
       "      <td>Locks</td>\n",
       "      <td>0.0</td>\n",
       "      <td>Denied</td>\n",
       "      <td>$0.00</td>\n",
       "      <td>Deny</td>\n",
       "    </tr>\n",
       "    <tr>\n",
       "      <th>4689</th>\n",
       "      <td>0408103L</td>\n",
       "      <td>2003-04-08</td>\n",
       "      <td>2003-03-11</td>\n",
       "      <td>LGA</td>\n",
       "      <td>LaGuardia</td>\n",
       "      <td>American Airlines</td>\n",
       "      <td>Passenger Property Loss</td>\n",
       "      <td>Checked Baggage</td>\n",
       "      <td>Luggage</td>\n",
       "      <td>0.0</td>\n",
       "      <td>Canceled</td>\n",
       "      <td>$0.00</td>\n",
       "      <td>NaN</td>\n",
       "    </tr>\n",
       "    <tr>\n",
       "      <th>5737</th>\n",
       "      <td>0429003L</td>\n",
       "      <td>2003-04-29</td>\n",
       "      <td>2003-03-22</td>\n",
       "      <td>IAD</td>\n",
       "      <td>Washington Dulles International</td>\n",
       "      <td>Continental Airlines</td>\n",
       "      <td>Passenger Property Loss</td>\n",
       "      <td>Checked Baggage</td>\n",
       "      <td>Other</td>\n",
       "      <td>0.0</td>\n",
       "      <td>Canceled</td>\n",
       "      <td>NaN</td>\n",
       "      <td>NaN</td>\n",
       "    </tr>\n",
       "    <tr>\n",
       "      <th>5748</th>\n",
       "      <td>0429023L</td>\n",
       "      <td>2003-04-29</td>\n",
       "      <td>2003-03-24</td>\n",
       "      <td>FLL</td>\n",
       "      <td>Ft. Lauderdale-Hollywood International</td>\n",
       "      <td>Not Defined</td>\n",
       "      <td>Property Damage</td>\n",
       "      <td>Checked Baggage</td>\n",
       "      <td>Clothing</td>\n",
       "      <td>0.0</td>\n",
       "      <td>Insufficient; one of the following items requi...</td>\n",
       "      <td>NaN</td>\n",
       "      <td>NaN</td>\n",
       "    </tr>\n",
       "    <tr>\n",
       "      <th>6162</th>\n",
       "      <td>0507041L</td>\n",
       "      <td>2003-05-07</td>\n",
       "      <td>2003-03-25</td>\n",
       "      <td>DFW</td>\n",
       "      <td>Dallas-Fort Worth International Airport</td>\n",
       "      <td>American Airlines</td>\n",
       "      <td>Property Damage</td>\n",
       "      <td>Checked Baggage</td>\n",
       "      <td>Fish/Game</td>\n",
       "      <td>0.0</td>\n",
       "      <td>Insufficient; one of the following items requi...</td>\n",
       "      <td>NaN</td>\n",
       "      <td>NaN</td>\n",
       "    </tr>\n",
       "    <tr>\n",
       "      <th>...</th>\n",
       "      <td>...</td>\n",
       "      <td>...</td>\n",
       "      <td>...</td>\n",
       "      <td>...</td>\n",
       "      <td>...</td>\n",
       "      <td>...</td>\n",
       "      <td>...</td>\n",
       "      <td>...</td>\n",
       "      <td>...</td>\n",
       "      <td>...</td>\n",
       "      <td>...</td>\n",
       "      <td>...</td>\n",
       "      <td>...</td>\n",
       "    </tr>\n",
       "    <tr>\n",
       "      <th>202540</th>\n",
       "      <td>2015120427297</td>\n",
       "      <td>2015-11-20</td>\n",
       "      <td>2015-10-16</td>\n",
       "      <td>Not Defined</td>\n",
       "      <td>Not Defined</td>\n",
       "      <td>Not Defined</td>\n",
       "      <td>Property Damage</td>\n",
       "      <td>Checked Baggage</td>\n",
       "      <td>Baggage/Cases/Purses</td>\n",
       "      <td>0.0</td>\n",
       "      <td>-</td>\n",
       "      <td>NaN</td>\n",
       "      <td>NaN</td>\n",
       "    </tr>\n",
       "    <tr>\n",
       "      <th>202541</th>\n",
       "      <td>2015123027969</td>\n",
       "      <td>2015-12-17</td>\n",
       "      <td>2015-12-02</td>\n",
       "      <td>Not Defined</td>\n",
       "      <td>Not Defined</td>\n",
       "      <td>Not Defined</td>\n",
       "      <td>Property Damage</td>\n",
       "      <td>Checked Baggage</td>\n",
       "      <td>Audio/Video</td>\n",
       "      <td>0.0</td>\n",
       "      <td>-</td>\n",
       "      <td>NaN</td>\n",
       "      <td>NaN</td>\n",
       "    </tr>\n",
       "    <tr>\n",
       "      <th>202542</th>\n",
       "      <td>2016010428072</td>\n",
       "      <td>2015-12-22</td>\n",
       "      <td>2015-12-20</td>\n",
       "      <td>Not Defined</td>\n",
       "      <td>Not Defined</td>\n",
       "      <td>Not Defined</td>\n",
       "      <td>Passenger Property Loss</td>\n",
       "      <td>Checked Baggage</td>\n",
       "      <td>Clothing</td>\n",
       "      <td>0.0</td>\n",
       "      <td>-</td>\n",
       "      <td>NaN</td>\n",
       "      <td>NaN</td>\n",
       "    </tr>\n",
       "    <tr>\n",
       "      <th>202543</th>\n",
       "      <td>2016011328300</td>\n",
       "      <td>2015-12-30</td>\n",
       "      <td>2015-12-28</td>\n",
       "      <td>Not Defined</td>\n",
       "      <td>Not Defined</td>\n",
       "      <td>Not Defined</td>\n",
       "      <td>Passenger Property Loss</td>\n",
       "      <td>Checked Baggage</td>\n",
       "      <td>Tools</td>\n",
       "      <td>0.0</td>\n",
       "      <td>-</td>\n",
       "      <td>NaN</td>\n",
       "      <td>NaN</td>\n",
       "    </tr>\n",
       "    <tr>\n",
       "      <th>202544</th>\n",
       "      <td>2015123128015</td>\n",
       "      <td>2015-12-31</td>\n",
       "      <td>2015-11-23</td>\n",
       "      <td>Not Defined</td>\n",
       "      <td>Not Defined</td>\n",
       "      <td>Not Defined</td>\n",
       "      <td>Passenger Property Loss</td>\n",
       "      <td>Checkpoint</td>\n",
       "      <td>Personal Accessories</td>\n",
       "      <td>0.0</td>\n",
       "      <td>-</td>\n",
       "      <td>NaN</td>\n",
       "      <td>NaN</td>\n",
       "    </tr>\n",
       "  </tbody>\n",
       "</table>\n",
       "<p>41066 rows × 13 columns</p>\n",
       "</div>"
      ],
      "text/plain": [
       "         Claim Number Date Received Incident Date Airport Code  \\\n",
       "2560         0702509M    2003-02-13    2002-12-31          MCO   \n",
       "4689         0408103L    2003-04-08    2003-03-11          LGA   \n",
       "5737         0429003L    2003-04-29    2003-03-22          IAD   \n",
       "5748         0429023L    2003-04-29    2003-03-24          FLL   \n",
       "6162         0507041L    2003-05-07    2003-03-25          DFW   \n",
       "...               ...           ...           ...          ...   \n",
       "202540  2015120427297    2015-11-20    2015-10-16  Not Defined   \n",
       "202541  2015123027969    2015-12-17    2015-12-02  Not Defined   \n",
       "202542  2016010428072    2015-12-22    2015-12-20  Not Defined   \n",
       "202543  2016011328300    2015-12-30    2015-12-28  Not Defined   \n",
       "202544  2015123128015    2015-12-31    2015-11-23  Not Defined   \n",
       "\n",
       "                                   Airport Name          Airline Name  \\\n",
       "2560              Orlando International Airport                   UAL   \n",
       "4689                                  LaGuardia     American Airlines   \n",
       "5737            Washington Dulles International  Continental Airlines   \n",
       "5748     Ft. Lauderdale-Hollywood International           Not Defined   \n",
       "6162    Dallas-Fort Worth International Airport     American Airlines   \n",
       "...                                         ...                   ...   \n",
       "202540                              Not Defined           Not Defined   \n",
       "202541                              Not Defined           Not Defined   \n",
       "202542                              Not Defined           Not Defined   \n",
       "202543                              Not Defined           Not Defined   \n",
       "202544                              Not Defined           Not Defined   \n",
       "\n",
       "                     Claim Type       Claim Site                  Item  \\\n",
       "2560            Property Damage  Checked Baggage                 Locks   \n",
       "4689    Passenger Property Loss  Checked Baggage               Luggage   \n",
       "5737    Passenger Property Loss  Checked Baggage                 Other   \n",
       "5748            Property Damage  Checked Baggage             Clothing    \n",
       "6162            Property Damage  Checked Baggage             Fish/Game   \n",
       "...                         ...              ...                   ...   \n",
       "202540          Property Damage  Checked Baggage  Baggage/Cases/Purses   \n",
       "202541          Property Damage  Checked Baggage           Audio/Video   \n",
       "202542  Passenger Property Loss  Checked Baggage              Clothing   \n",
       "202543  Passenger Property Loss  Checked Baggage                 Tools   \n",
       "202544  Passenger Property Loss       Checkpoint  Personal Accessories   \n",
       "\n",
       "        Claim Amount                                             Status  \\\n",
       "2560             0.0                                             Denied   \n",
       "4689             0.0                                           Canceled   \n",
       "5737             0.0                                           Canceled   \n",
       "5748             0.0  Insufficient; one of the following items requi...   \n",
       "6162             0.0  Insufficient; one of the following items requi...   \n",
       "...              ...                                                ...   \n",
       "202540           0.0                                                  -   \n",
       "202541           0.0                                                  -   \n",
       "202542           0.0                                                  -   \n",
       "202543           0.0                                                  -   \n",
       "202544           0.0                                                  -   \n",
       "\n",
       "       Close Amount Disposition  \n",
       "2560         $0.00         Deny  \n",
       "4689         $0.00          NaN  \n",
       "5737            NaN         NaN  \n",
       "5748            NaN         NaN  \n",
       "6162            NaN         NaN  \n",
       "...             ...         ...  \n",
       "202540          NaN         NaN  \n",
       "202541          NaN         NaN  \n",
       "202542          NaN         NaN  \n",
       "202543          NaN         NaN  \n",
       "202544          NaN         NaN  \n",
       "\n",
       "[41066 rows x 13 columns]"
      ]
     },
     "execution_count": 55,
     "metadata": {},
     "output_type": "execute_result"
    }
   ],
   "source": [
    "df[df['Claim Amount']==0]"
   ]
  },
  {
   "cell_type": "code",
   "execution_count": 56,
   "metadata": {},
   "outputs": [],
   "source": [
    "# Menghapus anomali data kolom `Claim Amount` yang memiliki nilai $0\n",
    "index_zero = df[df['Claim Amount']==0].index\n",
    "df.drop(index_zero, inplace=True)"
   ]
  },
  {
   "cell_type": "code",
   "execution_count": 57,
   "metadata": {},
   "outputs": [],
   "source": [
    "df.reset_index(drop=True, inplace=True)"
   ]
  },
  {
   "attachments": {},
   "cell_type": "markdown",
   "metadata": {},
   "source": [
    "#### `Status`\n",
    "\n",
    "Pada kolom kali ini dikarenakan terdapat 14 nilai unik dan pada analisis kali ini hanya akan dipakai beberapa nilai unik saja yaitu Approved, Approve in Full, Deny, Denied, Settle, Settled"
   ]
  },
  {
   "cell_type": "code",
   "execution_count": 58,
   "metadata": {},
   "outputs": [],
   "source": [
    "# Mengubah '-' pada kolom status menjadi 'Other'\n",
    "df['Status'].replace('-', 'Other', inplace=True)"
   ]
  },
  {
   "cell_type": "code",
   "execution_count": 59,
   "metadata": {},
   "outputs": [],
   "source": [
    "# Menghapus data yang memiliki status selain approve, deny dan settle\n",
    "valid_status = ['Approved', 'Approved in Full', 'Denied', 'Deny', 'Settled', 'Settle']\n",
    "\n",
    "df = df[df['Status'].isin(valid_status)]"
   ]
  },
  {
   "cell_type": "code",
   "execution_count": 60,
   "metadata": {},
   "outputs": [],
   "source": [
    "# Mengubah penamaan data kategorik\n",
    "df['Status'].replace('Approve in Full', 'Approved', inplace=True)\n",
    "df['Status'].replace('Settle', 'Settled', inplace=True)\n",
    "df['Status'].replace('Deny', 'Denied', inplace=True)"
   ]
  },
  {
   "cell_type": "code",
   "execution_count": 61,
   "metadata": {},
   "outputs": [],
   "source": [
    "df.reset_index(drop=True, inplace=True)"
   ]
  },
  {
   "attachments": {},
   "cell_type": "markdown",
   "metadata": {},
   "source": [
    "#### `Close Amount`"
   ]
  },
  {
   "cell_type": "code",
   "execution_count": 62,
   "metadata": {},
   "outputs": [],
   "source": [
    "# Mengubah format data\n",
    "df['Close Amount'] = df['Close Amount'].str.replace('$','').str.replace('-','0').str.replace(';','')\n",
    "df['Close Amount'] = df['Close Amount'].str.strip()"
   ]
  },
  {
   "cell_type": "code",
   "execution_count": 63,
   "metadata": {},
   "outputs": [],
   "source": [
    "# Mengubah tipe data menjadi float\n",
    "df['Close Amount'] = df['Close Amount'].astype(float)"
   ]
  },
  {
   "cell_type": "code",
   "execution_count": 64,
   "metadata": {},
   "outputs": [
    {
     "data": {
      "text/html": [
       "<div>\n",
       "<style scoped>\n",
       "    .dataframe tbody tr th:only-of-type {\n",
       "        vertical-align: middle;\n",
       "    }\n",
       "\n",
       "    .dataframe tbody tr th {\n",
       "        vertical-align: top;\n",
       "    }\n",
       "\n",
       "    .dataframe thead th {\n",
       "        text-align: right;\n",
       "    }\n",
       "</style>\n",
       "<table border=\"1\" class=\"dataframe\">\n",
       "  <thead>\n",
       "    <tr style=\"text-align: right;\">\n",
       "      <th></th>\n",
       "      <th>Claim Number</th>\n",
       "      <th>Date Received</th>\n",
       "      <th>Incident Date</th>\n",
       "      <th>Airport Code</th>\n",
       "      <th>Airport Name</th>\n",
       "      <th>Airline Name</th>\n",
       "      <th>Claim Type</th>\n",
       "      <th>Claim Site</th>\n",
       "      <th>Item</th>\n",
       "      <th>Claim Amount</th>\n",
       "      <th>Status</th>\n",
       "      <th>Close Amount</th>\n",
       "      <th>Disposition</th>\n",
       "    </tr>\n",
       "  </thead>\n",
       "  <tbody>\n",
       "    <tr>\n",
       "      <th>1</th>\n",
       "      <td>2004102965797</td>\n",
       "      <td>2002-06-25</td>\n",
       "      <td>2002-05-04</td>\n",
       "      <td>ATL</td>\n",
       "      <td>Hartsfield-Jackson Atlanta International Airport</td>\n",
       "      <td>Not Defined</td>\n",
       "      <td>Passenger Property Loss</td>\n",
       "      <td>Checkpoint</td>\n",
       "      <td>Jewelry</td>\n",
       "      <td>4457.29</td>\n",
       "      <td>Denied</td>\n",
       "      <td>NaN</td>\n",
       "      <td>Deny</td>\n",
       "    </tr>\n",
       "    <tr>\n",
       "      <th>14</th>\n",
       "      <td>2004050550501</td>\n",
       "      <td>2002-09-11</td>\n",
       "      <td>2002-08-05</td>\n",
       "      <td>BWI</td>\n",
       "      <td>Baltimore/Washington Intl Thurgood Marshall</td>\n",
       "      <td>Not Defined</td>\n",
       "      <td>Passenger Property Loss</td>\n",
       "      <td>Checkpoint</td>\n",
       "      <td>Other</td>\n",
       "      <td>1200.00</td>\n",
       "      <td>Denied</td>\n",
       "      <td>NaN</td>\n",
       "      <td>Deny</td>\n",
       "    </tr>\n",
       "    <tr>\n",
       "      <th>17</th>\n",
       "      <td>18193</td>\n",
       "      <td>2002-09-16</td>\n",
       "      <td>2002-07-26</td>\n",
       "      <td>BWI</td>\n",
       "      <td>Baltimore/Washington Intl Thurgood Marshall</td>\n",
       "      <td>American Airlines</td>\n",
       "      <td>Other</td>\n",
       "      <td>Other</td>\n",
       "      <td>Currency</td>\n",
       "      <td>428.21</td>\n",
       "      <td>Denied</td>\n",
       "      <td>NaN</td>\n",
       "      <td>Deny</td>\n",
       "    </tr>\n",
       "    <tr>\n",
       "      <th>57</th>\n",
       "      <td>19078</td>\n",
       "      <td>2002-10-17</td>\n",
       "      <td>2002-09-12</td>\n",
       "      <td>SAT</td>\n",
       "      <td>San Antonio International</td>\n",
       "      <td>Southwest Airlines</td>\n",
       "      <td>Other</td>\n",
       "      <td>Other</td>\n",
       "      <td>Computer</td>\n",
       "      <td>30.00</td>\n",
       "      <td>Approved</td>\n",
       "      <td>NaN</td>\n",
       "      <td>Approve in Full</td>\n",
       "    </tr>\n",
       "    <tr>\n",
       "      <th>68</th>\n",
       "      <td>21051</td>\n",
       "      <td>2002-10-21</td>\n",
       "      <td>2002-10-03</td>\n",
       "      <td>ATL</td>\n",
       "      <td>Hartsfield-Jackson Atlanta International Airport</td>\n",
       "      <td>Delta Air Lines</td>\n",
       "      <td>Other</td>\n",
       "      <td>Other</td>\n",
       "      <td>Cell Phones</td>\n",
       "      <td>75.00</td>\n",
       "      <td>Approved</td>\n",
       "      <td>NaN</td>\n",
       "      <td>Approve in Full</td>\n",
       "    </tr>\n",
       "    <tr>\n",
       "      <th>...</th>\n",
       "      <td>...</td>\n",
       "      <td>...</td>\n",
       "      <td>...</td>\n",
       "      <td>...</td>\n",
       "      <td>...</td>\n",
       "      <td>...</td>\n",
       "      <td>...</td>\n",
       "      <td>...</td>\n",
       "      <td>...</td>\n",
       "      <td>...</td>\n",
       "      <td>...</td>\n",
       "      <td>...</td>\n",
       "      <td>...</td>\n",
       "    </tr>\n",
       "    <tr>\n",
       "      <th>134884</th>\n",
       "      <td>2015032721574</td>\n",
       "      <td>2015-03-27</td>\n",
       "      <td>2015-03-12</td>\n",
       "      <td>YKM</td>\n",
       "      <td>Yakima Air Terminal-Mcallister</td>\n",
       "      <td>American Airlines</td>\n",
       "      <td>Property Damage</td>\n",
       "      <td>Checked Baggage</td>\n",
       "      <td>Baggage/Cases/Purses</td>\n",
       "      <td>189.99</td>\n",
       "      <td>Settled</td>\n",
       "      <td>NaN</td>\n",
       "      <td>NaN</td>\n",
       "    </tr>\n",
       "    <tr>\n",
       "      <th>134885</th>\n",
       "      <td>2015080424556</td>\n",
       "      <td>2015-07-30</td>\n",
       "      <td>2015-07-20</td>\n",
       "      <td>YNG</td>\n",
       "      <td>Youngstown-Warren Regional</td>\n",
       "      <td>Allegiant Air</td>\n",
       "      <td>Passenger Property Loss</td>\n",
       "      <td>Checked Baggage</td>\n",
       "      <td>Baggage/Cases/Purses</td>\n",
       "      <td>3.00</td>\n",
       "      <td>Settled</td>\n",
       "      <td>NaN</td>\n",
       "      <td>NaN</td>\n",
       "    </tr>\n",
       "    <tr>\n",
       "      <th>134886</th>\n",
       "      <td>2014121619219</td>\n",
       "      <td>2015-03-17</td>\n",
       "      <td>2014-12-03</td>\n",
       "      <td>ZZX</td>\n",
       "      <td>Non TSA Airport (motor vehicle)</td>\n",
       "      <td>Not Defined</td>\n",
       "      <td>Personal Injury</td>\n",
       "      <td>Motor Vehicle</td>\n",
       "      <td>Other</td>\n",
       "      <td>4531.16</td>\n",
       "      <td>Settled</td>\n",
       "      <td>NaN</td>\n",
       "      <td>NaN</td>\n",
       "    </tr>\n",
       "    <tr>\n",
       "      <th>134887</th>\n",
       "      <td>2015032721575</td>\n",
       "      <td>2015-03-27</td>\n",
       "      <td>2014-09-09</td>\n",
       "      <td>ZZX</td>\n",
       "      <td>Non TSA Airport (motor vehicle)</td>\n",
       "      <td>Not Defined</td>\n",
       "      <td>Motor Vehicle</td>\n",
       "      <td>Motor Vehicle</td>\n",
       "      <td>Other</td>\n",
       "      <td>2206.35</td>\n",
       "      <td>Settled</td>\n",
       "      <td>NaN</td>\n",
       "      <td>NaN</td>\n",
       "    </tr>\n",
       "    <tr>\n",
       "      <th>134888</th>\n",
       "      <td>2015120827419</td>\n",
       "      <td>2015-12-08</td>\n",
       "      <td>2014-12-03</td>\n",
       "      <td>ZZX</td>\n",
       "      <td>Non TSA Airport (motor vehicle)</td>\n",
       "      <td>Not Defined</td>\n",
       "      <td>Motor Vehicle</td>\n",
       "      <td>Motor Vehicle</td>\n",
       "      <td>Other</td>\n",
       "      <td>3668.84</td>\n",
       "      <td>Settled</td>\n",
       "      <td>NaN</td>\n",
       "      <td>NaN</td>\n",
       "    </tr>\n",
       "  </tbody>\n",
       "</table>\n",
       "<p>7107 rows × 13 columns</p>\n",
       "</div>"
      ],
      "text/plain": [
       "         Claim Number Date Received Incident Date Airport Code  \\\n",
       "1       2004102965797    2002-06-25    2002-05-04          ATL   \n",
       "14      2004050550501    2002-09-11    2002-08-05          BWI   \n",
       "17              18193    2002-09-16    2002-07-26          BWI   \n",
       "57              19078    2002-10-17    2002-09-12          SAT   \n",
       "68              21051    2002-10-21    2002-10-03          ATL   \n",
       "...               ...           ...           ...          ...   \n",
       "134884  2015032721574    2015-03-27    2015-03-12          YKM   \n",
       "134885  2015080424556    2015-07-30    2015-07-20          YNG   \n",
       "134886  2014121619219    2015-03-17    2014-12-03          ZZX   \n",
       "134887  2015032721575    2015-03-27    2014-09-09          ZZX   \n",
       "134888  2015120827419    2015-12-08    2014-12-03          ZZX   \n",
       "\n",
       "                                            Airport Name        Airline Name  \\\n",
       "1       Hartsfield-Jackson Atlanta International Airport         Not Defined   \n",
       "14           Baltimore/Washington Intl Thurgood Marshall         Not Defined   \n",
       "17           Baltimore/Washington Intl Thurgood Marshall   American Airlines   \n",
       "57                             San Antonio International  Southwest Airlines   \n",
       "68      Hartsfield-Jackson Atlanta International Airport     Delta Air Lines   \n",
       "...                                                  ...                 ...   \n",
       "134884                    Yakima Air Terminal-Mcallister   American Airlines   \n",
       "134885                        Youngstown-Warren Regional       Allegiant Air   \n",
       "134886                   Non TSA Airport (motor vehicle)         Not Defined   \n",
       "134887                   Non TSA Airport (motor vehicle)         Not Defined   \n",
       "134888                   Non TSA Airport (motor vehicle)         Not Defined   \n",
       "\n",
       "                     Claim Type       Claim Site                  Item  \\\n",
       "1       Passenger Property Loss       Checkpoint              Jewelry    \n",
       "14      Passenger Property Loss       Checkpoint                 Other   \n",
       "17                        Other            Other              Currency   \n",
       "57                        Other            Other             Computer    \n",
       "68                        Other            Other           Cell Phones   \n",
       "...                         ...              ...                   ...   \n",
       "134884          Property Damage  Checked Baggage  Baggage/Cases/Purses   \n",
       "134885  Passenger Property Loss  Checked Baggage  Baggage/Cases/Purses   \n",
       "134886          Personal Injury    Motor Vehicle                 Other   \n",
       "134887            Motor Vehicle    Motor Vehicle                 Other   \n",
       "134888            Motor Vehicle    Motor Vehicle                 Other   \n",
       "\n",
       "        Claim Amount    Status  Close Amount      Disposition  \n",
       "1            4457.29    Denied           NaN             Deny  \n",
       "14           1200.00    Denied           NaN             Deny  \n",
       "17            428.21    Denied           NaN             Deny  \n",
       "57             30.00  Approved           NaN  Approve in Full  \n",
       "68             75.00  Approved           NaN  Approve in Full  \n",
       "...              ...       ...           ...              ...  \n",
       "134884        189.99   Settled           NaN              NaN  \n",
       "134885          3.00   Settled           NaN              NaN  \n",
       "134886       4531.16   Settled           NaN              NaN  \n",
       "134887       2206.35   Settled           NaN              NaN  \n",
       "134888       3668.84   Settled           NaN              NaN  \n",
       "\n",
       "[7107 rows x 13 columns]"
      ]
     },
     "execution_count": 64,
     "metadata": {},
     "output_type": "execute_result"
    }
   ],
   "source": [
    "df[df['Close Amount'].isna()]"
   ]
  },
  {
   "cell_type": "code",
   "execution_count": 65,
   "metadata": {},
   "outputs": [
    {
     "data": {
      "text/plain": [
       "Denied      67248\n",
       "Approved    34442\n",
       "Settled     33199\n",
       "Name: Status, dtype: int64"
      ]
     },
     "execution_count": 65,
     "metadata": {},
     "output_type": "execute_result"
    }
   ],
   "source": [
    "df['Status'].value_counts()"
   ]
  },
  {
   "cell_type": "code",
   "execution_count": 66,
   "metadata": {},
   "outputs": [],
   "source": [
    "# Mengisi missing value kolom 'Close Amount' yang memiliki status denied dengan $0\n",
    "for i in range(0, len(df)):\n",
    "    if ((df['Status'][i] == 'Denied') & (df['Close Amount'].isnull()[i])):\n",
    "        df['Close Amount'][i] = 0"
   ]
  },
  {
   "cell_type": "code",
   "execution_count": 67,
   "metadata": {},
   "outputs": [],
   "source": [
    "# Mengisi missing value kolom 'Close Amount' yang memiliki status approve sama dengan nilai pada kolom 'Claim Amount'\n",
    "for i in range(0, len(df)):\n",
    "    if ((df['Status'][i] == 'Approved') & (df['Close Amount'].isnull()[i])):\n",
    "        df['Close Amount'][i] = df['Claim Amount'][i]"
   ]
  },
  {
   "cell_type": "code",
   "execution_count": 68,
   "metadata": {},
   "outputs": [
    {
     "data": {
      "text/plain": [
       "Settled    5752\n",
       "Name: Status, dtype: int64"
      ]
     },
     "execution_count": 68,
     "metadata": {},
     "output_type": "execute_result"
    }
   ],
   "source": [
    "df[df['Close Amount'].isna()] ['Status'].value_counts()"
   ]
  },
  {
   "cell_type": "code",
   "execution_count": 69,
   "metadata": {},
   "outputs": [],
   "source": [
    "# Melihat Persentase Distribusi Nilai Close Amount dari kolom Claim Amount\n",
    "df_copy = df\n",
    "df_copy['Percent'] = (df_copy[(df_copy['Status']=='Settled') & df_copy['Close Amount'].notnull()] ['Close Amount'] / df_copy[(df_copy['Status']=='Settled') & df_copy['Close Amount'].notnull()] ['Claim Amount'] * 100)"
   ]
  },
  {
   "cell_type": "code",
   "execution_count": 70,
   "metadata": {},
   "outputs": [
    {
     "data": {
      "text/html": [
       "<div>\n",
       "<style scoped>\n",
       "    .dataframe tbody tr th:only-of-type {\n",
       "        vertical-align: middle;\n",
       "    }\n",
       "\n",
       "    .dataframe tbody tr th {\n",
       "        vertical-align: top;\n",
       "    }\n",
       "\n",
       "    .dataframe thead th {\n",
       "        text-align: right;\n",
       "    }\n",
       "</style>\n",
       "<table border=\"1\" class=\"dataframe\">\n",
       "  <thead>\n",
       "    <tr style=\"text-align: right;\">\n",
       "      <th></th>\n",
       "      <th>Claim Amount</th>\n",
       "      <th>Close Amount</th>\n",
       "      <th>Percent</th>\n",
       "    </tr>\n",
       "  </thead>\n",
       "  <tbody>\n",
       "    <tr>\n",
       "      <th>count</th>\n",
       "      <td>3.319900e+04</td>\n",
       "      <td>27447.000000</td>\n",
       "      <td>27447.000000</td>\n",
       "    </tr>\n",
       "    <tr>\n",
       "      <th>mean</th>\n",
       "      <td>7.248411e+02</td>\n",
       "      <td>247.607722</td>\n",
       "      <td>51.542873</td>\n",
       "    </tr>\n",
       "    <tr>\n",
       "      <th>std</th>\n",
       "      <td>1.702267e+04</td>\n",
       "      <td>1155.957146</td>\n",
       "      <td>27.893450</td>\n",
       "    </tr>\n",
       "    <tr>\n",
       "      <th>min</th>\n",
       "      <td>2.370000e+00</td>\n",
       "      <td>0.000000</td>\n",
       "      <td>0.000000</td>\n",
       "    </tr>\n",
       "    <tr>\n",
       "      <th>25%</th>\n",
       "      <td>1.000000e+02</td>\n",
       "      <td>50.000000</td>\n",
       "      <td>45.247421</td>\n",
       "    </tr>\n",
       "    <tr>\n",
       "      <th>50%</th>\n",
       "      <td>2.070000e+02</td>\n",
       "      <td>100.000000</td>\n",
       "      <td>50.000000</td>\n",
       "    </tr>\n",
       "    <tr>\n",
       "      <th>75%</th>\n",
       "      <td>4.430000e+02</td>\n",
       "      <td>231.905000</td>\n",
       "      <td>55.314109</td>\n",
       "    </tr>\n",
       "    <tr>\n",
       "      <th>max</th>\n",
       "      <td>2.000000e+06</td>\n",
       "      <td>125000.000000</td>\n",
       "      <td>3416.333333</td>\n",
       "    </tr>\n",
       "  </tbody>\n",
       "</table>\n",
       "</div>"
      ],
      "text/plain": [
       "       Claim Amount   Close Amount       Percent\n",
       "count  3.319900e+04   27447.000000  27447.000000\n",
       "mean   7.248411e+02     247.607722     51.542873\n",
       "std    1.702267e+04    1155.957146     27.893450\n",
       "min    2.370000e+00       0.000000      0.000000\n",
       "25%    1.000000e+02      50.000000     45.247421\n",
       "50%    2.070000e+02     100.000000     50.000000\n",
       "75%    4.430000e+02     231.905000     55.314109\n",
       "max    2.000000e+06  125000.000000   3416.333333"
      ]
     },
     "execution_count": 70,
     "metadata": {},
     "output_type": "execute_result"
    }
   ],
   "source": [
    "df_copy[df_copy['Status']=='Settled'].describe()"
   ]
  },
  {
   "cell_type": "code",
   "execution_count": 71,
   "metadata": {},
   "outputs": [
    {
     "data": {
      "text/plain": [
       "<AxesSubplot:xlabel='Percent', ylabel='Density'>"
      ]
     },
     "execution_count": 71,
     "metadata": {},
     "output_type": "execute_result"
    },
    {
     "data": {
      "image/png": "[encoded data removed]",
      "text/plain": [
       "<Figure size 432x288 with 1 Axes>"
      ]
     },
     "metadata": {
      "needs_background": "light"
     },
     "output_type": "display_data"
    }
   ],
   "source": [
    "sns.distplot(df_copy['Percent'][(df_copy['Percent']>0)&(df_copy['Percent']<100)])"
   ]
  },
  {
   "attachments": {},
   "cell_type": "markdown",
   "metadata": {},
   "source": [
    "Berdasarkan perhitungan diatas bisa dilihat dari persentase distribusinya bahwa untuk kolom `Close Amount` yang memiliki `Status` *Settled* adalah 50% nya dari `Claim Amount`, maka untuk missing value pada kolom `Close Amount` yang berstatus *Settled* akan diisi nilainya 50% dari `Claim Amount`"
   ]
  },
  {
   "cell_type": "code",
   "execution_count": 72,
   "metadata": {},
   "outputs": [],
   "source": [
    "# Mengisi missing value kolom 'Close Amount' yang memiliki status settled sama dengan 50% dari nilai pada kolom 'Claim Amount'\n",
    "for i in range(0, len(df)):\n",
    "    if ((df['Status'][i] == 'Settled') & (df['Close Amount'].isnull()[i])):\n",
    "        df['Close Amount'][i] = 0.5 * df['Claim Amount'][i]"
   ]
  },
  {
   "attachments": {},
   "cell_type": "markdown",
   "metadata": {},
   "source": [
    "#### `Disposition`\n",
    "\n",
    "Apabila diteliti lebih lanjut, bisa dilihat bahwa ternyata nilai pada kolom `Disposition` sama seperti nilai pada kolom `Status`, maka dari itu untuk penanganan pada kolom `Disposition` ini diperlukan untuk mengubah penamaan kategorik, kemudian missing value diisi dengan nilai yang sama pada kolom `Status`."
   ]
  },
  {
   "cell_type": "code",
   "execution_count": 73,
   "metadata": {},
   "outputs": [
    {
     "data": {
      "text/plain": [
       "Deny               67209\n",
       "Approve in Full    34442\n",
       "Settle             27447\n",
       "Name: Disposition, dtype: int64"
      ]
     },
     "execution_count": 73,
     "metadata": {},
     "output_type": "execute_result"
    }
   ],
   "source": [
    "df['Disposition'].value_counts()"
   ]
  },
  {
   "cell_type": "code",
   "execution_count": 74,
   "metadata": {},
   "outputs": [],
   "source": [
    "# Mengubah penamaan data kategorik\n",
    "df['Disposition'].replace('Approve in Full', 'Approved', inplace=True)\n",
    "df['Disposition'].replace('Settle', 'Settled', inplace=True)\n",
    "df['Disposition'].replace('Deny', 'Denied', inplace=True)"
   ]
  },
  {
   "cell_type": "code",
   "execution_count": 75,
   "metadata": {},
   "outputs": [
    {
     "data": {
      "text/plain": [
       "Denied      67209\n",
       "Approved    34442\n",
       "Settled     27447\n",
       "Name: Disposition, dtype: int64"
      ]
     },
     "execution_count": 75,
     "metadata": {},
     "output_type": "execute_result"
    }
   ],
   "source": [
    "df['Disposition'].value_counts()"
   ]
  },
  {
   "cell_type": "code",
   "execution_count": 76,
   "metadata": {},
   "outputs": [],
   "source": [
    "# Mengisi missing value berdasarkan nilai pada kolom 'Status'\n",
    "df['Disposition'].fillna(df['Status'], inplace=True)"
   ]
  },
  {
   "cell_type": "code",
   "execution_count": 77,
   "metadata": {},
   "outputs": [
    {
     "data": {
      "text/html": [
       "<div>\n",
       "<style scoped>\n",
       "    .dataframe tbody tr th:only-of-type {\n",
       "        vertical-align: middle;\n",
       "    }\n",
       "\n",
       "    .dataframe tbody tr th {\n",
       "        vertical-align: top;\n",
       "    }\n",
       "\n",
       "    .dataframe thead th {\n",
       "        text-align: right;\n",
       "    }\n",
       "</style>\n",
       "<table border=\"1\" class=\"dataframe\">\n",
       "  <thead>\n",
       "    <tr style=\"text-align: right;\">\n",
       "      <th></th>\n",
       "      <th>Claim Number</th>\n",
       "      <th>Date Received</th>\n",
       "      <th>Incident Date</th>\n",
       "      <th>Airport Code</th>\n",
       "      <th>Airport Name</th>\n",
       "      <th>Airline Name</th>\n",
       "      <th>Claim Type</th>\n",
       "      <th>Claim Site</th>\n",
       "      <th>Item</th>\n",
       "      <th>Claim Amount</th>\n",
       "      <th>Status</th>\n",
       "      <th>Close Amount</th>\n",
       "      <th>Disposition</th>\n",
       "      <th>Percent</th>\n",
       "    </tr>\n",
       "  </thead>\n",
       "  <tbody>\n",
       "  </tbody>\n",
       "</table>\n",
       "</div>"
      ],
      "text/plain": [
       "Empty DataFrame\n",
       "Columns: [Claim Number, Date Received, Incident Date, Airport Code, Airport Name, Airline Name, Claim Type, Claim Site, Item, Claim Amount, Status, Close Amount, Disposition, Percent]\n",
       "Index: []"
      ]
     },
     "execution_count": 77,
     "metadata": {},
     "output_type": "execute_result"
    }
   ],
   "source": [
    "# Mengecek data duplikat\n",
    "df[df.duplicated(keep=False)]"
   ]
  },
  {
   "cell_type": "code",
   "execution_count": 78,
   "metadata": {},
   "outputs": [],
   "source": [
    "df.drop(['Percent'], axis=1, inplace=True)"
   ]
  },
  {
   "cell_type": "code",
   "execution_count": 79,
   "metadata": {},
   "outputs": [
    {
     "data": {
      "text/plain": [
       "Claim Number     0.0\n",
       "Date Received    0.0\n",
       "Incident Date    0.0\n",
       "Airport Code     0.0\n",
       "Airport Name     0.0\n",
       "Airline Name     0.0\n",
       "Claim Type       0.0\n",
       "Claim Site       0.0\n",
       "Item             0.0\n",
       "Claim Amount     0.0\n",
       "Status           0.0\n",
       "Close Amount     0.0\n",
       "Disposition      0.0\n",
       "dtype: float64"
      ]
     },
     "execution_count": 79,
     "metadata": {},
     "output_type": "execute_result"
    }
   ],
   "source": [
    "# Memeriksa apakah masih ada missing value\n",
    "df.isna().sum()/df.shape[0]*100"
   ]
  },
  {
   "cell_type": "code",
   "execution_count": 80,
   "metadata": {},
   "outputs": [
    {
     "name": "stdout",
     "output_type": "stream",
     "text": [
      "(134889, 13)\n"
     ]
    },
    {
     "data": {
      "text/html": [
       "<div>\n",
       "<style scoped>\n",
       "    .dataframe tbody tr th:only-of-type {\n",
       "        vertical-align: middle;\n",
       "    }\n",
       "\n",
       "    .dataframe tbody tr th {\n",
       "        vertical-align: top;\n",
       "    }\n",
       "\n",
       "    .dataframe thead th {\n",
       "        text-align: right;\n",
       "    }\n",
       "</style>\n",
       "<table border=\"1\" class=\"dataframe\">\n",
       "  <thead>\n",
       "    <tr style=\"text-align: right;\">\n",
       "      <th></th>\n",
       "      <th>Column</th>\n",
       "      <th>Data Type</th>\n",
       "      <th>Unique</th>\n",
       "      <th>Nunique</th>\n",
       "    </tr>\n",
       "  </thead>\n",
       "  <tbody>\n",
       "    <tr>\n",
       "      <th>0</th>\n",
       "      <td>Claim Number</td>\n",
       "      <td>object</td>\n",
       "      <td>[12772, 2004102965797, 14460, 15242, 15324, 15...</td>\n",
       "      <td>134889</td>\n",
       "    </tr>\n",
       "    <tr>\n",
       "      <th>1</th>\n",
       "      <td>Date Received</td>\n",
       "      <td>datetime64[ns]</td>\n",
       "      <td>[2002-06-20T00:00:00.000000000, 2002-06-25T00:...</td>\n",
       "      <td>3472</td>\n",
       "    </tr>\n",
       "    <tr>\n",
       "      <th>2</th>\n",
       "      <td>Incident Date</td>\n",
       "      <td>datetime64[ns]</td>\n",
       "      <td>[2002-05-09T00:00:00.000000000, 2002-05-04T00:...</td>\n",
       "      <td>4721</td>\n",
       "    </tr>\n",
       "    <tr>\n",
       "      <th>3</th>\n",
       "      <td>Airport Code</td>\n",
       "      <td>object</td>\n",
       "      <td>[BWI, ATL, Not Defined, SDF, RDU, PVD, CMH, BD...</td>\n",
       "      <td>434</td>\n",
       "    </tr>\n",
       "    <tr>\n",
       "      <th>4</th>\n",
       "      <td>Airport Name</td>\n",
       "      <td>object</td>\n",
       "      <td>[Baltimore/Washington Intl Thurgood Marshall, ...</td>\n",
       "      <td>435</td>\n",
       "    </tr>\n",
       "    <tr>\n",
       "      <th>5</th>\n",
       "      <td>Airline Name</td>\n",
       "      <td>object</td>\n",
       "      <td>[Southwest Airlines, Not Defined, American Air...</td>\n",
       "      <td>207</td>\n",
       "    </tr>\n",
       "    <tr>\n",
       "      <th>6</th>\n",
       "      <td>Claim Type</td>\n",
       "      <td>object</td>\n",
       "      <td>[Other, Passenger Property Loss, Personal Inju...</td>\n",
       "      <td>9</td>\n",
       "    </tr>\n",
       "    <tr>\n",
       "      <th>7</th>\n",
       "      <td>Claim Site</td>\n",
       "      <td>object</td>\n",
       "      <td>[Checkpoint, Other, Motor Vehicle, Checked Bag...</td>\n",
       "      <td>6</td>\n",
       "    </tr>\n",
       "    <tr>\n",
       "      <th>8</th>\n",
       "      <td>Item</td>\n",
       "      <td>object</td>\n",
       "      <td>[Clothing , Jewelry , Eyeglasses , Luggage, Ph...</td>\n",
       "      <td>129</td>\n",
       "    </tr>\n",
       "    <tr>\n",
       "      <th>9</th>\n",
       "      <td>Claim Amount</td>\n",
       "      <td>float64</td>\n",
       "      <td>[75.0, 4457.29, 16.71, 200.0, 50.0, 110000.0, ...</td>\n",
       "      <td>33159</td>\n",
       "    </tr>\n",
       "    <tr>\n",
       "      <th>10</th>\n",
       "      <td>Status</td>\n",
       "      <td>object</td>\n",
       "      <td>[Approved, Denied, Settled]</td>\n",
       "      <td>3</td>\n",
       "    </tr>\n",
       "    <tr>\n",
       "      <th>11</th>\n",
       "      <td>Close Amount</td>\n",
       "      <td>float64</td>\n",
       "      <td>[75.0, 0.0, 17.0, 337.4, 149.08, 301.69, 21.0,...</td>\n",
       "      <td>19260</td>\n",
       "    </tr>\n",
       "    <tr>\n",
       "      <th>12</th>\n",
       "      <td>Disposition</td>\n",
       "      <td>object</td>\n",
       "      <td>[Approved, Denied, Settled]</td>\n",
       "      <td>3</td>\n",
       "    </tr>\n",
       "  </tbody>\n",
       "</table>\n",
       "</div>"
      ],
      "text/plain": [
       "           Column       Data Type  \\\n",
       "0    Claim Number          object   \n",
       "1   Date Received  datetime64[ns]   \n",
       "2   Incident Date  datetime64[ns]   \n",
       "3    Airport Code          object   \n",
       "4    Airport Name          object   \n",
       "5    Airline Name          object   \n",
       "6      Claim Type          object   \n",
       "7      Claim Site          object   \n",
       "8            Item          object   \n",
       "9    Claim Amount         float64   \n",
       "10         Status          object   \n",
       "11   Close Amount         float64   \n",
       "12    Disposition          object   \n",
       "\n",
       "                                               Unique  Nunique  \n",
       "0   [12772, 2004102965797, 14460, 15242, 15324, 15...   134889  \n",
       "1   [2002-06-20T00:00:00.000000000, 2002-06-25T00:...     3472  \n",
       "2   [2002-05-09T00:00:00.000000000, 2002-05-04T00:...     4721  \n",
       "3   [BWI, ATL, Not Defined, SDF, RDU, PVD, CMH, BD...      434  \n",
       "4   [Baltimore/Washington Intl Thurgood Marshall, ...      435  \n",
       "5   [Southwest Airlines, Not Defined, American Air...      207  \n",
       "6   [Other, Passenger Property Loss, Personal Inju...        9  \n",
       "7   [Checkpoint, Other, Motor Vehicle, Checked Bag...        6  \n",
       "8   [Clothing , Jewelry , Eyeglasses , Luggage, Ph...      129  \n",
       "9   [75.0, 4457.29, 16.71, 200.0, 50.0, 110000.0, ...    33159  \n",
       "10                        [Approved, Denied, Settled]        3  \n",
       "11  [75.0, 0.0, 17.0, 337.4, 149.08, 301.69, 21.0,...    19260  \n",
       "12                        [Approved, Denied, Settled]        3  "
      ]
     },
     "metadata": {},
     "output_type": "display_data"
    }
   ],
   "source": [
    "list = []\n",
    "\n",
    "for item in df:\n",
    "    list.append([item, df[item].dtype, df[item].unique(), df[item].nunique()])\n",
    "\n",
    "unique_table = pd.DataFrame(columns=['Column', 'Data Type', 'Unique', 'Nunique'], data=list)\n",
    "\n",
    "print (df.shape)\n",
    "display(unique_table)"
   ]
  },
  {
   "attachments": {},
   "cell_type": "markdown",
   "metadata": {},
   "source": [
    "Sebelum dataset dibersihkan, dataset memiliki 204.267 baris data, namun setelah dibersihkan tersisa 134.889 baris data. Sekitar 69.000 baris data dihapus, hal ini dapat terjadi dikarenakan banyak anomali pada dataset tsa_claims ini, namun tidak semua data yang mengalami anomali dihapus melainkan diubah juga menjadi data yang dirasa lebih relevan."
   ]
  },
  {
   "attachments": {},
   "cell_type": "markdown",
   "metadata": {},
   "source": [
    "# **DATA ANALYSIS**"
   ]
  },
  {
   "attachments": {},
   "cell_type": "markdown",
   "metadata": {},
   "source": [
    "## Claim terbanyak terjadi di bandara dan maskapai penerbangan apa?"
   ]
  },
  {
   "cell_type": "code",
   "execution_count": 209,
   "metadata": {},
   "outputs": [
    {
     "data": {
      "text/html": [
       "<div>\n",
       "<style scoped>\n",
       "    .dataframe tbody tr th:only-of-type {\n",
       "        vertical-align: middle;\n",
       "    }\n",
       "\n",
       "    .dataframe tbody tr th {\n",
       "        vertical-align: top;\n",
       "    }\n",
       "\n",
       "    .dataframe thead th {\n",
       "        text-align: right;\n",
       "    }\n",
       "</style>\n",
       "<table border=\"1\" class=\"dataframe\">\n",
       "  <thead>\n",
       "    <tr style=\"text-align: right;\">\n",
       "      <th></th>\n",
       "      <th>Claim Amount</th>\n",
       "      <th>Close Amount</th>\n",
       "    </tr>\n",
       "  </thead>\n",
       "  <tbody>\n",
       "    <tr>\n",
       "      <th>count</th>\n",
       "      <td>1.348890e+05</td>\n",
       "      <td>134889.000000</td>\n",
       "    </tr>\n",
       "    <tr>\n",
       "      <th>mean</th>\n",
       "      <td>2.228847e+07</td>\n",
       "      <td>103.626698</td>\n",
       "    </tr>\n",
       "    <tr>\n",
       "      <th>std</th>\n",
       "      <td>8.168331e+09</td>\n",
       "      <td>904.021889</td>\n",
       "    </tr>\n",
       "    <tr>\n",
       "      <th>min</th>\n",
       "      <td>4.800000e-01</td>\n",
       "      <td>0.000000</td>\n",
       "    </tr>\n",
       "    <tr>\n",
       "      <th>25%</th>\n",
       "      <td>6.400000e+01</td>\n",
       "      <td>0.000000</td>\n",
       "    </tr>\n",
       "    <tr>\n",
       "      <th>50%</th>\n",
       "      <td>1.749900e+02</td>\n",
       "      <td>7.710000</td>\n",
       "    </tr>\n",
       "    <tr>\n",
       "      <th>75%</th>\n",
       "      <td>4.500000e+02</td>\n",
       "      <td>80.000000</td>\n",
       "    </tr>\n",
       "    <tr>\n",
       "      <th>max</th>\n",
       "      <td>3.000000e+12</td>\n",
       "      <td>250000.000000</td>\n",
       "    </tr>\n",
       "  </tbody>\n",
       "</table>\n",
       "</div>"
      ],
      "text/plain": [
       "       Claim Amount   Close Amount\n",
       "count  1.348890e+05  134889.000000\n",
       "mean   2.228847e+07     103.626698\n",
       "std    8.168331e+09     904.021889\n",
       "min    4.800000e-01       0.000000\n",
       "25%    6.400000e+01       0.000000\n",
       "50%    1.749900e+02       7.710000\n",
       "75%    4.500000e+02      80.000000\n",
       "max    3.000000e+12  250000.000000"
      ]
     },
     "metadata": {},
     "output_type": "display_data"
    },
    {
     "data": {
      "text/html": [
       "<div>\n",
       "<style scoped>\n",
       "    .dataframe tbody tr th:only-of-type {\n",
       "        vertical-align: middle;\n",
       "    }\n",
       "\n",
       "    .dataframe tbody tr th {\n",
       "        vertical-align: top;\n",
       "    }\n",
       "\n",
       "    .dataframe thead th {\n",
       "        text-align: right;\n",
       "    }\n",
       "</style>\n",
       "<table border=\"1\" class=\"dataframe\">\n",
       "  <thead>\n",
       "    <tr style=\"text-align: right;\">\n",
       "      <th></th>\n",
       "      <th>Claim Number</th>\n",
       "      <th>Airport Code</th>\n",
       "      <th>Airport Name</th>\n",
       "      <th>Airline Name</th>\n",
       "      <th>Claim Type</th>\n",
       "      <th>Claim Site</th>\n",
       "      <th>Item</th>\n",
       "      <th>Status</th>\n",
       "      <th>Disposition</th>\n",
       "    </tr>\n",
       "  </thead>\n",
       "  <tbody>\n",
       "    <tr>\n",
       "      <th>count</th>\n",
       "      <td>134889</td>\n",
       "      <td>134889</td>\n",
       "      <td>134889</td>\n",
       "      <td>134889</td>\n",
       "      <td>134889</td>\n",
       "      <td>134889</td>\n",
       "      <td>134889</td>\n",
       "      <td>134889</td>\n",
       "      <td>134889</td>\n",
       "    </tr>\n",
       "    <tr>\n",
       "      <th>unique</th>\n",
       "      <td>134889</td>\n",
       "      <td>434</td>\n",
       "      <td>435</td>\n",
       "      <td>207</td>\n",
       "      <td>9</td>\n",
       "      <td>6</td>\n",
       "      <td>129</td>\n",
       "      <td>3</td>\n",
       "      <td>3</td>\n",
       "    </tr>\n",
       "    <tr>\n",
       "      <th>top</th>\n",
       "      <td>12772</td>\n",
       "      <td>LAX</td>\n",
       "      <td>Los Angeles International Airport</td>\n",
       "      <td>Not Defined</td>\n",
       "      <td>Passenger Property Loss</td>\n",
       "      <td>Checked Baggage</td>\n",
       "      <td>Other</td>\n",
       "      <td>Denied</td>\n",
       "      <td>Denied</td>\n",
       "    </tr>\n",
       "    <tr>\n",
       "      <th>freq</th>\n",
       "      <td>1</td>\n",
       "      <td>6550</td>\n",
       "      <td>6550</td>\n",
       "      <td>27782</td>\n",
       "      <td>76333</td>\n",
       "      <td>108170</td>\n",
       "      <td>30577</td>\n",
       "      <td>67248</td>\n",
       "      <td>67248</td>\n",
       "    </tr>\n",
       "  </tbody>\n",
       "</table>\n",
       "</div>"
      ],
      "text/plain": [
       "       Claim Number Airport Code                       Airport Name  \\\n",
       "count        134889       134889                             134889   \n",
       "unique       134889          434                                435   \n",
       "top           12772          LAX  Los Angeles International Airport   \n",
       "freq              1         6550                               6550   \n",
       "\n",
       "       Airline Name               Claim Type       Claim Site    Item  Status  \\\n",
       "count        134889                   134889           134889  134889  134889   \n",
       "unique          207                        9                6     129       3   \n",
       "top     Not Defined  Passenger Property Loss  Checked Baggage   Other  Denied   \n",
       "freq          27782                    76333           108170   30577   67248   \n",
       "\n",
       "       Disposition  \n",
       "count       134889  \n",
       "unique           3  \n",
       "top         Denied  \n",
       "freq         67248  "
      ]
     },
     "metadata": {},
     "output_type": "display_data"
    }
   ],
   "source": [
    "display(df.describe(), df.describe(include='object'))"
   ]
  },
  {
   "attachments": {},
   "cell_type": "markdown",
   "metadata": {},
   "source": [
    "Apabila dari hasil analisis deskriptif, dapat dilihat klaim terbanyak terjadi di *LAX (Los Angeles International Airport)* dan klaim terbanyak ditunjukan kepada maskapai yang namanya tidak didefinisikan pada data, sehingga hal ini kita tidak pastikan maskapai apa yang memiliki klaim terbanyak."
   ]
  },
  {
   "cell_type": "code",
   "execution_count": 210,
   "metadata": {},
   "outputs": [],
   "source": [
    "airport = df.groupby(['Airport Code'])['Claim Number'].count().sort_values(ascending=False)\n",
    "airline = df.groupby(['Airline Name'])['Claim Number'].count().sort_values(ascending=False)\n"
   ]
  },
  {
   "cell_type": "code",
   "execution_count": 217,
   "metadata": {},
   "outputs": [
    {
     "data": {
      "application/vnd.plotly.v1+json": {
       "config": {
        "plotlyServerURL": "https://plot.ly"
       },
       "data": [
        {
         "name": "Airport",
         "type": "bar",
         "x": [
          "LAX",
          "JFK",
          "EWR",
          "ORD",
          "MIA",
          "MCO",
          "SEA",
          "Not Defined",
          "ATL",
          "PHX",
          "LAS",
          "PHL",
          "DFW",
          "LGA",
          "FLL",
          "DEN",
          "IAD",
          "BOS",
          "MSP",
          "TPA",
          "DTW",
          "SAN",
          "IAH",
          "BWI",
          "PDX",
          "OAK",
          "HNL",
          "PBI",
          "CLT",
          "SJC",
          "MDW",
          "F",
          "SJU",
          "DCA",
          "MSY",
          "SMF",
          "SNA",
          "PIT",
          "STL",
          "CVG",
          "SLC",
          "RSW",
          "CLE",
          "BNA",
          "IND",
          "HOU",
          "BDL",
          "ANC",
          "RDU",
          "ALB",
          "ABQ",
          "SAT",
          "MEM",
          "ONT",
          "AUS",
          "ORF",
          "GEG",
          "BUF",
          "TUS",
          "COS",
          "RNO",
          "JAX",
          "CMH",
          "MKE",
          "LGB",
          "OMA",
          "MHT",
          "RIC",
          "ELP",
          "PVD",
          "OGG",
          "BUR",
          "SYR",
          "GSP",
          "DAL",
          "TUL",
          "SDF",
          "KOA",
          "OKC",
          "LIH",
          "SAV",
          "BOI",
          "PSP",
          "ISP",
          "MSN",
          "STT",
          "LIT",
          "ICT",
          "BTV",
          "BHM",
          "DSM",
          "PWM",
          "MYR",
          "DAY",
          "SRQ",
          "CHS",
          "SFB",
          "GRR",
          "FNT",
          "GSO",
          "CAK",
          "SGF",
          "SWF",
          "PNS",
          "FAT",
          "FAI",
          "MDT",
          "SBA",
          "BZN",
          "PIE",
          "HSV",
          "PHF",
          "JAN",
          "EUG",
          "SHV",
          "GPT",
          "RAP",
          "TYS",
          "AVL",
          "CRP",
          "CAE",
          "ILM",
          "SBN",
          "TRI",
          "ITO",
          "EYW",
          "ACY",
          "MSO",
          "HPN",
          "LBB",
          "ABE",
          "DAB",
          "MFR",
          "GTF",
          "XNA",
          "MLI",
          "LEX",
          "GRB",
          "EGE",
          "TLH",
          "VPS",
          "PSC",
          "BTR",
          "TSA",
          "ERI",
          "JNU",
          "CID",
          "GUM",
          "MOB",
          "SBP",
          "FSD",
          "CRW",
          "ASE",
          "DLH",
          "FWA",
          "ATW",
          "HDN",
          "BIL",
          "AMA",
          "HRL",
          "ZZX",
          "MFE",
          "RST",
          "FAR",
          "MAF",
          "BQN",
          "TOL",
          "LSE",
          "MBS",
          "TVC",
          "IFP",
          "BLI",
          "LNK",
          "CHO",
          "PIA",
          "BFL",
          "AEX",
          "SJT",
          "LAN",
          "RDD",
          "BGR",
          "HLN",
          "RDM",
          "STX",
          "CHA",
          "ACV",
          "BMI",
          "NYL",
          "CPR",
          "AZO",
          "MRY",
          "KTN",
          "FCA",
          "GRK",
          "MGM",
          "MLB",
          "GJT",
          "I",
          "AGS",
          "PFN",
          "AVP",
          "FSM",
          "FOE",
          "LFT",
          "ELM",
          "LWS",
          "SUN",
          "MTJ",
          "BGM",
          "SIT",
          "CWA",
          "CLL",
          "EWN",
          "MLU",
          "TYR",
          "ABY",
          "YKM",
          "SFO",
          "HXD",
          "GNV",
          "ROA",
          "FAY",
          "EVV",
          "MCI",
          "ABI",
          "INL",
          "ADQ",
          "IDA",
          "ACT",
          "ABR",
          "ROC",
          "RFD",
          "SUX",
          "BTM",
          "DRO",
          "EAT",
          "BIS",
          "IWA",
          "LAW",
          "CMI",
          "ACK",
          "SMX",
          "GUC",
          "PLN",
          "OTH",
          "ITH",
          "ALO",
          "GGG",
          "UTA",
          "HDQ",
          "FLG",
          "CSG",
          "GPI",
          "SPI",
          "PSE",
          "GFK",
          "OAJ",
          "SGU",
          "ALW",
          "CIC",
          "TXK",
          "BPT",
          "DBQ",
          "HVN",
          "LRD",
          "LCH",
          "ENV",
          "FLO",
          "YAK",
          "LBE",
          "BFD",
          "VLD",
          "COU",
          "SCK",
          "LNY",
          "IPT",
          "LMT",
          "ENA",
          "EAU",
          "DHN",
          "TWF",
          "BJI",
          "CRQ",
          "MKG",
          "MOD",
          "BET",
          "BQK",
          "PBG",
          "OXR",
          "WRG",
          "MKK",
          "IAG",
          "MCN",
          "BRD",
          "SAW",
          "IMT",
          "RHI",
          "SBY",
          "GTR",
          "GSN",
          "LAR",
          "JHW",
          "FOD",
          "BRO",
          "OME",
          "YNG",
          "LWB",
          "DEC",
          "VCT",
          "BLV",
          "RKS",
          "PIH",
          "PSG",
          "SCC",
          "PAH",
          "HTS",
          "JHM",
          "SPS",
          "CEC",
          "PGA",
          "HIB",
          "CMX",
          "UNV",
          "TEX",
          "DUT",
          "SAF",
          "PSM",
          "PGV",
          "BFF",
          "IYK",
          "AKN",
          "STC",
          "DLG",
          "AUG",
          "WYS",
          "YUM",
          "MEI",
          "HYS",
          "PIR",
          "COD",
          "MMH",
          "LYH",
          "MVY",
          "GST",
          "PKB",
          "MSL",
          "ORH",
          "BRW",
          "SGJ",
          "SHR",
          "APN",
          "ALS",
          "PDT",
          "CDV",
          "GCC",
          "EKO",
          "C",
          "ART",
          "AOO",
          "VDZ",
          "PUW",
          "ESC",
          "MHK",
          "CYS",
          "CIU",
          "MBL",
          "ILG",
          "BKG",
          "BHB",
          "DRT",
          "LEB",
          "PRC",
          "MOT",
          "CDC",
          "CDR",
          "JAC",
          "MKL",
          "TTN",
          "HYA",
          "FMN",
          "TBN",
          "GYY",
          "ISO",
          "OGS",
          "DVL",
          "SLE",
          "RUT",
          "ATY",
          "PVC",
          "EAR",
          "PLB",
          "BKW",
          "BLF",
          "GCK",
          "PIB",
          "PGD",
          "HON",
          "LBL",
          "OTZ",
          "ECP",
          "APF",
          "IWD",
          "LCK",
          "LBF",
          "PPG",
          "PQI",
          "VEL",
          "VIS",
          "GON",
          "HGR",
          "RIW",
          "HRO",
          "MGW",
          "DUJ",
          "MCW",
          "HII",
          "HKY",
          "RME",
          "FNL",
          "PNC",
          "HOM",
          "TVF",
          "IPL",
          "SLN",
          "DDC",
          "FKL",
          "ISN",
          "SHD",
          "MAZ",
          "JQF",
          "JST",
          "LAL",
          "MWH",
          "PUB"
         ],
         "y": [
          6550,
          5429,
          4934,
          4892,
          4145,
          3919,
          3811,
          3785,
          3605,
          3486,
          3366,
          3277,
          3042,
          2840,
          2745,
          2592,
          2568,
          2525,
          2418,
          2327,
          2306,
          2152,
          2103,
          1905,
          1398,
          1351,
          1340,
          1129,
          1129,
          1094,
          1067,
          1056,
          1050,
          1049,
          1002,
          955,
          945,
          929,
          910,
          906,
          887,
          877,
          850,
          799,
          788,
          780,
          774,
          740,
          738,
          730,
          685,
          663,
          634,
          605,
          603,
          594,
          580,
          562,
          554,
          551,
          528,
          527,
          522,
          521,
          520,
          514,
          513,
          483,
          483,
          471,
          451,
          425,
          381,
          365,
          362,
          341,
          337,
          335,
          326,
          286,
          281,
          268,
          266,
          263,
          259,
          251,
          235,
          227,
          226,
          215,
          214,
          207,
          202,
          200,
          195,
          183,
          183,
          182,
          181,
          170,
          168,
          164,
          156,
          154,
          153,
          150,
          143,
          143,
          142,
          142,
          141,
          138,
          129,
          129,
          127,
          123,
          122,
          119,
          111,
          106,
          106,
          97,
          95,
          95,
          94,
          94,
          93,
          92,
          92,
          92,
          91,
          91,
          90,
          89,
          88,
          86,
          86,
          86,
          84,
          81,
          80,
          79,
          78,
          77,
          77,
          74,
          73,
          72,
          71,
          71,
          69,
          67,
          67,
          65,
          64,
          64,
          62,
          62,
          62,
          60,
          59,
          56,
          56,
          54,
          53,
          52,
          52,
          52,
          52,
          51,
          49,
          48,
          48,
          47,
          47,
          47,
          46,
          46,
          45,
          42,
          42,
          41,
          41,
          40,
          40,
          40,
          40,
          39,
          38,
          38,
          38,
          37,
          36,
          35,
          35,
          35,
          34,
          34,
          33,
          32,
          31,
          31,
          31,
          30,
          30,
          29,
          28,
          28,
          28,
          28,
          27,
          26,
          25,
          25,
          25,
          25,
          24,
          24,
          24,
          24,
          23,
          23,
          23,
          22,
          22,
          22,
          22,
          22,
          21,
          20,
          20,
          20,
          20,
          19,
          19,
          19,
          19,
          19,
          19,
          19,
          19,
          18,
          18,
          17,
          17,
          17,
          16,
          15,
          15,
          15,
          15,
          14,
          14,
          14,
          14,
          13,
          13,
          12,
          12,
          12,
          12,
          12,
          12,
          12,
          12,
          12,
          11,
          11,
          11,
          11,
          11,
          11,
          11,
          10,
          10,
          9,
          9,
          9,
          9,
          9,
          9,
          9,
          9,
          9,
          8,
          8,
          8,
          8,
          8,
          8,
          8,
          8,
          8,
          7,
          7,
          7,
          7,
          7,
          7,
          7,
          7,
          7,
          7,
          7,
          7,
          7,
          7,
          7,
          7,
          6,
          6,
          6,
          6,
          6,
          6,
          6,
          6,
          6,
          6,
          5,
          5,
          5,
          5,
          5,
          5,
          5,
          5,
          5,
          4,
          4,
          4,
          4,
          4,
          4,
          4,
          4,
          4,
          4,
          4,
          4,
          4,
          4,
          4,
          4,
          4,
          4,
          4,
          4,
          3,
          3,
          3,
          3,
          3,
          3,
          3,
          3,
          3,
          3,
          3,
          3,
          3,
          3,
          3,
          3,
          3,
          3,
          3,
          3,
          3,
          3,
          3,
          3,
          2,
          2,
          2,
          2,
          2,
          2,
          2,
          2,
          2,
          2,
          2,
          2,
          2,
          2,
          2,
          2,
          2,
          2,
          2,
          2,
          2,
          2,
          2,
          2,
          2,
          2,
          2,
          2,
          2,
          1,
          1,
          1,
          1,
          1,
          1,
          1,
          1,
          1,
          1,
          1,
          1,
          1,
          1,
          1,
          1,
          1,
          1,
          1,
          1,
          1,
          1,
          1,
          1,
          1,
          1,
          1,
          1,
          1,
          1,
          1,
          1,
          1
         ]
        }
       ],
       "layout": {
        "template": {
         "data": {
          "bar": [
           {
            "error_x": {
             "color": "#2a3f5f"
            },
            "error_y": {
             "color": "#2a3f5f"
            },
            "marker": {
             "line": {
              "color": "#E5ECF6",
              "width": 0.5
             },
             "pattern": {
              "fillmode": "overlay",
              "size": 10,
              "solidity": 0.2
             }
            },
            "type": "bar"
           }
          ],
          "barpolar": [
           {
            "marker": {
             "line": {
              "color": "#E5ECF6",
              "width": 0.5
             },
             "pattern": {
              "fillmode": "overlay",
              "size": 10,
              "solidity": 0.2
             }
            },
            "type": "barpolar"
           }
          ],
          "carpet": [
           {
            "aaxis": {
             "endlinecolor": "#2a3f5f",
             "gridcolor": "white",
             "linecolor": "white",
             "minorgridcolor": "white",
             "startlinecolor": "#2a3f5f"
            },
            "baxis": {
             "endlinecolor": "#2a3f5f",
             "gridcolor": "white",
             "linecolor": "white",
             "minorgridcolor": "white",
             "startlinecolor": "#2a3f5f"
            },
            "type": "carpet"
           }
          ],
          "choropleth": [
           {
            "colorbar": {
             "outlinewidth": 0,
             "ticks": ""
            },
            "type": "choropleth"
           }
          ],
          "contour": [
           {
            "colorbar": {
             "outlinewidth": 0,
             "ticks": ""
            },
            "colorscale": [
             [
              0,
              "#0d0887"
             ],
             [
              0.1111111111111111,
              "#46039f"
             ],
             [
              0.2222222222222222,
              "#7201a8"
             ],
             [
              0.3333333333333333,
              "#9c179e"
             ],
             [
              0.4444444444444444,
              "#bd3786"
             ],
             [
              0.5555555555555556,
              "#d8576b"
             ],
             [
              0.6666666666666666,
              "#ed7953"
             ],
             [
              0.7777777777777778,
              "#fb9f3a"
             ],
             [
              0.8888888888888888,
              "#fdca26"
             ],
             [
              1,
              "#f0f921"
             ]
            ],
            "type": "contour"
           }
          ],
          "contourcarpet": [
           {
            "colorbar": {
             "outlinewidth": 0,
             "ticks": ""
            },
            "type": "contourcarpet"
           }
          ],
          "heatmap": [
           {
            "colorbar": {
             "outlinewidth": 0,
             "ticks": ""
            },
            "colorscale": [
             [
              0,
              "#0d0887"
             ],
             [
              0.1111111111111111,
              "#46039f"
             ],
             [
              0.2222222222222222,
              "#7201a8"
             ],
             [
              0.3333333333333333,
              "#9c179e"
             ],
             [
              0.4444444444444444,
              "#bd3786"
             ],
             [
              0.5555555555555556,
              "#d8576b"
             ],
             [
              0.6666666666666666,
              "#ed7953"
             ],
             [
              0.7777777777777778,
              "#fb9f3a"
             ],
             [
              0.8888888888888888,
              "#fdca26"
             ],
             [
              1,
              "#f0f921"
             ]
            ],
            "type": "heatmap"
           }
          ],
          "heatmapgl": [
           {
            "colorbar": {
             "outlinewidth": 0,
             "ticks": ""
            },
            "colorscale": [
             [
              0,
              "#0d0887"
             ],
             [
              0.1111111111111111,
              "#46039f"
             ],
             [
              0.2222222222222222,
              "#7201a8"
             ],
             [
              0.3333333333333333,
              "#9c179e"
             ],
             [
              0.4444444444444444,
              "#bd3786"
             ],
             [
              0.5555555555555556,
              "#d8576b"
             ],
             [
              0.6666666666666666,
              "#ed7953"
             ],
             [
              0.7777777777777778,
              "#fb9f3a"
             ],
             [
              0.8888888888888888,
              "#fdca26"
             ],
             [
              1,
              "#f0f921"
             ]
            ],
            "type": "heatmapgl"
           }
          ],
          "histogram": [
           {
            "marker": {
             "pattern": {
              "fillmode": "overlay",
              "size": 10,
              "solidity": 0.2
             }
            },
            "type": "histogram"
           }
          ],
          "histogram2d": [
           {
            "colorbar": {
             "outlinewidth": 0,
             "ticks": ""
            },
            "colorscale": [
             [
              0,
              "#0d0887"
             ],
             [
              0.1111111111111111,
              "#46039f"
             ],
             [
              0.2222222222222222,
              "#7201a8"
             ],
             [
              0.3333333333333333,
              "#9c179e"
             ],
             [
              0.4444444444444444,
              "#bd3786"
             ],
             [
              0.5555555555555556,
              "#d8576b"
             ],
             [
              0.6666666666666666,
              "#ed7953"
             ],
             [
              0.7777777777777778,
              "#fb9f3a"
             ],
             [
              0.8888888888888888,
              "#fdca26"
             ],
             [
              1,
              "#f0f921"
             ]
            ],
            "type": "histogram2d"
           }
          ],
          "histogram2dcontour": [
           {
            "colorbar": {
             "outlinewidth": 0,
             "ticks": ""
            },
            "colorscale": [
             [
              0,
              "#0d0887"
             ],
             [
              0.1111111111111111,
              "#46039f"
             ],
             [
              0.2222222222222222,
              "#7201a8"
             ],
             [
              0.3333333333333333,
              "#9c179e"
             ],
             [
              0.4444444444444444,
              "#bd3786"
             ],
             [
              0.5555555555555556,
              "#d8576b"
             ],
             [
              0.6666666666666666,
              "#ed7953"
             ],
             [
              0.7777777777777778,
              "#fb9f3a"
             ],
             [
              0.8888888888888888,
              "#fdca26"
             ],
             [
              1,
              "#f0f921"
             ]
            ],
            "type": "histogram2dcontour"
           }
          ],
          "mesh3d": [
           {
            "colorbar": {
             "outlinewidth": 0,
             "ticks": ""
            },
            "type": "mesh3d"
           }
          ],
          "parcoords": [
           {
            "line": {
             "colorbar": {
              "outlinewidth": 0,
              "ticks": ""
             }
            },
            "type": "parcoords"
           }
          ],
          "pie": [
           {
            "automargin": true,
            "type": "pie"
           }
          ],
          "scatter": [
           {
            "marker": {
             "colorbar": {
              "outlinewidth": 0,
              "ticks": ""
             }
            },
            "type": "scatter"
           }
          ],
          "scatter3d": [
           {
            "line": {
             "colorbar": {
              "outlinewidth": 0,
              "ticks": ""
             }
            },
            "marker": {
             "colorbar": {
              "outlinewidth": 0,
              "ticks": ""
             }
            },
            "type": "scatter3d"
           }
          ],
          "scattercarpet": [
           {
            "marker": {
             "colorbar": {
              "outlinewidth": 0,
              "ticks": ""
             }
            },
            "type": "scattercarpet"
           }
          ],
          "scattergeo": [
           {
            "marker": {
             "colorbar": {
              "outlinewidth": 0,
              "ticks": ""
             }
            },
            "type": "scattergeo"
           }
          ],
          "scattergl": [
           {
            "marker": {
             "colorbar": {
              "outlinewidth": 0,
              "ticks": ""
             }
            },
            "type": "scattergl"
           }
          ],
          "scattermapbox": [
           {
            "marker": {
             "colorbar": {
              "outlinewidth": 0,
              "ticks": ""
             }
            },
            "type": "scattermapbox"
           }
          ],
          "scatterpolar": [
           {
            "marker": {
             "colorbar": {
              "outlinewidth": 0,
              "ticks": ""
             }
            },
            "type": "scatterpolar"
           }
          ],
          "scatterpolargl": [
           {
            "marker": {
             "colorbar": {
              "outlinewidth": 0,
              "ticks": ""
             }
            },
            "type": "scatterpolargl"
           }
          ],
          "scatterternary": [
           {
            "marker": {
             "colorbar": {
              "outlinewidth": 0,
              "ticks": ""
             }
            },
            "type": "scatterternary"
           }
          ],
          "surface": [
           {
            "colorbar": {
             "outlinewidth": 0,
             "ticks": ""
            },
            "colorscale": [
             [
              0,
              "#0d0887"
             ],
             [
              0.1111111111111111,
              "#46039f"
             ],
             [
              0.2222222222222222,
              "#7201a8"
             ],
             [
              0.3333333333333333,
              "#9c179e"
             ],
             [
              0.4444444444444444,
              "#bd3786"
             ],
             [
              0.5555555555555556,
              "#d8576b"
             ],
             [
              0.6666666666666666,
              "#ed7953"
             ],
             [
              0.7777777777777778,
              "#fb9f3a"
             ],
             [
              0.8888888888888888,
              "#fdca26"
             ],
             [
              1,
              "#f0f921"
             ]
            ],
            "type": "surface"
           }
          ],
          "table": [
           {
            "cells": {
             "fill": {
              "color": "#EBF0F8"
             },
             "line": {
              "color": "white"
             }
            },
            "header": {
             "fill": {
              "color": "#C8D4E3"
             },
             "line": {
              "color": "white"
             }
            },
            "type": "table"
           }
          ]
         },
         "layout": {
          "annotationdefaults": {
           "arrowcolor": "#2a3f5f",
           "arrowhead": 0,
           "arrowwidth": 1
          },
          "autotypenumbers": "strict",
          "coloraxis": {
           "colorbar": {
            "outlinewidth": 0,
            "ticks": ""
           }
          },
          "colorscale": {
           "diverging": [
            [
             0,
             "#8e0152"
            ],
            [
             0.1,
             "#c51b7d"
            ],
            [
             0.2,
             "#de77ae"
            ],
            [
             0.3,
             "#f1b6da"
            ],
            [
             0.4,
             "#fde0ef"
            ],
            [
             0.5,
             "#f7f7f7"
            ],
            [
             0.6,
             "#e6f5d0"
            ],
            [
             0.7,
             "#b8e186"
            ],
            [
             0.8,
             "#7fbc41"
            ],
            [
             0.9,
             "#4d9221"
            ],
            [
             1,
             "#276419"
            ]
           ],
           "sequential": [
            [
             0,
             "#0d0887"
            ],
            [
             0.1111111111111111,
             "#46039f"
            ],
            [
             0.2222222222222222,
             "#7201a8"
            ],
            [
             0.3333333333333333,
             "#9c179e"
            ],
            [
             0.4444444444444444,
             "#bd3786"
            ],
            [
             0.5555555555555556,
             "#d8576b"
            ],
            [
             0.6666666666666666,
             "#ed7953"
            ],
            [
             0.7777777777777778,
             "#fb9f3a"
            ],
            [
             0.8888888888888888,
             "#fdca26"
            ],
            [
             1,
             "#f0f921"
            ]
           ],
           "sequentialminus": [
            [
             0,
             "#0d0887"
            ],
            [
             0.1111111111111111,
             "#46039f"
            ],
            [
             0.2222222222222222,
             "#7201a8"
            ],
            [
             0.3333333333333333,
             "#9c179e"
            ],
            [
             0.4444444444444444,
             "#bd3786"
            ],
            [
             0.5555555555555556,
             "#d8576b"
            ],
            [
             0.6666666666666666,
             "#ed7953"
            ],
            [
             0.7777777777777778,
             "#fb9f3a"
            ],
            [
             0.8888888888888888,
             "#fdca26"
            ],
            [
             1,
             "#f0f921"
            ]
           ]
          },
          "colorway": [
           "#636efa",
           "#EF553B",
           "#00cc96",
           "#ab63fa",
           "#FFA15A",
           "#19d3f3",
           "#FF6692",
           "#B6E880",
           "#FF97FF",
           "#FECB52"
          ],
          "font": {
           "color": "#2a3f5f"
          },
          "geo": {
           "bgcolor": "white",
           "lakecolor": "white",
           "landcolor": "#E5ECF6",
           "showlakes": true,
           "showland": true,
           "subunitcolor": "white"
          },
          "hoverlabel": {
           "align": "left"
          },
          "hovermode": "closest",
          "mapbox": {
           "style": "light"
          },
          "paper_bgcolor": "white",
          "plot_bgcolor": "#E5ECF6",
          "polar": {
           "angularaxis": {
            "gridcolor": "white",
            "linecolor": "white",
            "ticks": ""
           },
           "bgcolor": "#E5ECF6",
           "radialaxis": {
            "gridcolor": "white",
            "linecolor": "white",
            "ticks": ""
           }
          },
          "scene": {
           "xaxis": {
            "backgroundcolor": "#E5ECF6",
            "gridcolor": "white",
            "gridwidth": 2,
            "linecolor": "white",
            "showbackground": true,
            "ticks": "",
            "zerolinecolor": "white"
           },
           "yaxis": {
            "backgroundcolor": "#E5ECF6",
            "gridcolor": "white",
            "gridwidth": 2,
            "linecolor": "white",
            "showbackground": true,
            "ticks": "",
            "zerolinecolor": "white"
           },
           "zaxis": {
            "backgroundcolor": "#E5ECF6",
            "gridcolor": "white",
            "gridwidth": 2,
            "linecolor": "white",
            "showbackground": true,
            "ticks": "",
            "zerolinecolor": "white"
           }
          },
          "shapedefaults": {
           "line": {
            "color": "#2a3f5f"
           }
          },
          "ternary": {
           "aaxis": {
            "gridcolor": "white",
            "linecolor": "white",
            "ticks": ""
           },
           "baxis": {
            "gridcolor": "white",
            "linecolor": "white",
            "ticks": ""
           },
           "bgcolor": "#E5ECF6",
           "caxis": {
            "gridcolor": "white",
            "linecolor": "white",
            "ticks": ""
           }
          },
          "title": {
           "x": 0.05
          },
          "xaxis": {
           "automargin": true,
           "gridcolor": "white",
           "linecolor": "white",
           "ticks": "",
           "title": {
            "standoff": 15
           },
           "zerolinecolor": "white",
           "zerolinewidth": 2
          },
          "yaxis": {
           "automargin": true,
           "gridcolor": "white",
           "linecolor": "white",
           "ticks": "",
           "title": {
            "standoff": 15
           },
           "zerolinecolor": "white",
           "zerolinewidth": 2
          }
         }
        }
       }
      }
     },
     "metadata": {},
     "output_type": "display_data"
    }
   ],
   "source": [
    "fig = go.Figure(data=[\n",
    "                        go.Bar(name='Airport',x=airport.index,y=airport.values)\n",
    "                    ])\n",
    "\n",
    "fig.show()"
   ]
  },
  {
   "cell_type": "code",
   "execution_count": 219,
   "metadata": {},
   "outputs": [
    {
     "data": {
      "application/vnd.plotly.v1+json": {
       "config": {
        "plotlyServerURL": "https://plot.ly"
       },
       "data": [
        {
         "name": "Airport",
         "type": "bar",
         "x": [
          "Not Defined",
          "American Airlines",
          "Delta Air Lines",
          "UAL",
          "Southwest Airlines",
          "Continental Airlines",
          "USAir",
          "Northwest Airlines",
          "Jet Blue",
          "Alaska Airlines",
          "AirTran Airlines",
          "Frontier Airlines",
          "America West",
          "Spirit Airlines",
          "Air Tran Airlines(do not use)",
          "Hawaiian Airlines",
          "British Airways",
          "Air Canada",
          "Allegiant Air",
          "Lufthansa",
          "Virgin Atlantic",
          "Midwest Express Airlines",
          "American West",
          "Air France",
          "Delta (Song)",
          "Aloha Airlines",
          "American Eagle",
          "ATA Aerocondor",
          "Horizon Air",
          "USA 3000 (U5)",
          "America Trans Air",
          "Sun Country Airlines Inc",
          "Independence Air",
          "KLM Royal Dutch Airlines",
          "Qantus Airways",
          "Virgin America",
          "US Express",
          "Westjet Airlines Ltd",
          "Alitalia",
          "Aero Mexico",
          "Air Jamaica",
          "Mexicana",
          "Swiss Air",
          "Continental Express Inc",
          "Korean Airlines",
          "Scandinavian Airlines Systems",
          "Singapore Airlines",
          "Aer Lingus",
          "Cathay Pacific - CX",
          "Skywest Airlines Inc USA",
          "EL AL Israeli Airlines",
          "China Airlines",
          "Tran Meridian Airlines",
          "Japan Airlines",
          "Turkish Airlines",
          "Iberia Airlines",
          "Northwest International Airways Ltd",
          "Austrian Airlines",
          "EVA airlines",
          "Lan Airlines",
          "Air New Zealand",
          "South African Airways",
          "Cape Air",
          "Southeast Airlines",
          "Iceland Air",
          "Air India",
          "Island Air",
          "LOT Polish Airlines",
          "OMNI Air Express- (OY)",
          "Comair Inc",
          "Asiana Airlines",
          "Ryan Air",
          "Air China",
          "Brit Air",
          "Avianca",
          "Malaysian Airline System",
          "Go",
          "Midway Airlines",
          "Emirates",
          "Pakistan International Airlines Cor",
          "Copa Airlines",
          "TAM airlines",
          "Cayman Airlines",
          "North American Airlines",
          "Great Lakes Airline",
          "All Nippon Airways",
          "Champion Airlines",
          "Direct Air",
          "SkyBus",
          "Aero Flot",
          "Olympic Airways",
          "China Eastern Airlines",
          "Egypt Air",
          "Frontier Aviation Inc",
          "Hooters Air (PACE)",
          "Polish Airlines",
          "Air Pacific",
          "Virgin Express",
          "Pan American Airways Corp.",
          "Civil Aviation - Non-Commercial Carrier",
          "Carribean Airlines",
          "American Central",
          "Royal Dutch Airlines",
          "British West Indies Airlines",
          "Czech Airlines",
          "TACA airlines",
          "Saudi Arabian Airlines",
          "Etihad Airways",
          "Aerolineas Argentinas",
          "Jet Train Airlines",
          "Thai Airways",
          "Jet Airways",
          "Royal Jordanian Airline",
          "Skywest Airlines Australia",
          "Indian Airlines",
          "Canadian Airlines",
          "Philippine Airlines",
          "Monarch Airlines Ltd",
          "Mesa Airlines",
          "Aloha Islandair Inc",
          "British Midland Airways Ltd",
          "Bahama Airlines",
          "Qatar airlines",
          "Island Airlines Nantucket",
          "Pace Airlines",
          "Western Pacific Airlines Inc Westpac",
          "Condor Air",
          "Aeroflot Russian International",
          "Air Berlin",
          "Vision Airlines",
          "V Australia",
          "Kuwait Airlines",
          "Air Portugal",
          "Cameroon Airlines",
          "Mountain West",
          "Commercial Airways",
          "Silverjet",
          "TWA",
          "TAP Portugal",
          "Santa Barbara Airlines",
          "Pacific Southwest Airlines Inc",
          "Volaris Airlines",
          "Qantas Airlines",
          "Harmony Airlines",
          "Norwegian Airlines",
          "Aero California",
          "Malev Hungarian Airlines",
          "Kuwait Airways",
          "Britannia Airways Ltd",
          "Air Phillipines",
          "Czechoslavak Airlines",
          "China Southern Airlines",
          "Sunworld International Airlines Inc",
          "Arik Airlines",
          "Allegheny Airlines Inc",
          "Transaero Airlines",
          "Thomas Cook Airline",
          "Eurowings",
          "Travelspan",
          "Air Inter Europe",
          "Aerosweet Airlines",
          "Aero Lloyd",
          "Ethopian Airlines",
          "Xtra Airways",
          "JALways Airlines",
          "Hainan Airlines",
          "Martinair",
          "Porter Airlines",
          "Grupo TACA",
          "Air Atlantic Ltd",
          "Primaris Airlines",
          "Air Malta",
          "Air Labrador",
          "Air Botina",
          "Air Belgium International S A",
          "Finnair",
          "Air Nippon",
          "Air 2000 Ltd Great Britain",
          "JAT",
          "Aerosvit Airlines",
          "Aeromar",
          "AeroGal",
          "Piedmont Airlines Inc",
          "Wiggins Airways",
          "XL Airways",
          "Vieques Air",
          "Iran Air",
          "Tower Air",
          "Sata",
          "Estonia Air",
          "Globe Span Airlines",
          "Cubana",
          "Croatia Airlines",
          "SonAir",
          "Greyhound Air",
          "Carnival Airlines",
          "Royal Wings Airlines",
          "Big Sky Airlines",
          "Montair Aviation Inc",
          "Sun Jet International Airlines Inc",
          "SunWing Airlines",
          "Arika Isreali Airlines",
          "Guyana Airways Corporation",
          "Reno Air",
          "Aires Airline",
          "Air Ukraine International",
          "Aviaco"
         ],
         "y": [
          27782,
          15698,
          15460,
          12336,
          11478,
          9131,
          8712,
          8476,
          4346,
          4335,
          2144,
          1347,
          1294,
          1104,
          997,
          756,
          688,
          560,
          523,
          493,
          450,
          375,
          373,
          350,
          347,
          341,
          320,
          299,
          292,
          254,
          229,
          206,
          160,
          152,
          136,
          125,
          123,
          115,
          100,
          99,
          93,
          88,
          86,
          86,
          75,
          69,
          68,
          67,
          67,
          59,
          56,
          56,
          51,
          48,
          44,
          43,
          42,
          39,
          39,
          36,
          36,
          35,
          34,
          33,
          33,
          32,
          30,
          29,
          26,
          24,
          23,
          23,
          23,
          21,
          21,
          20,
          20,
          20,
          20,
          19,
          18,
          18,
          18,
          17,
          17,
          16,
          15,
          15,
          15,
          15,
          14,
          14,
          13,
          13,
          12,
          11,
          11,
          11,
          11,
          11,
          11,
          10,
          10,
          9,
          9,
          9,
          9,
          9,
          9,
          9,
          9,
          8,
          8,
          8,
          8,
          7,
          6,
          6,
          6,
          6,
          6,
          6,
          6,
          6,
          5,
          5,
          5,
          5,
          5,
          5,
          5,
          5,
          4,
          4,
          4,
          4,
          4,
          3,
          3,
          3,
          3,
          3,
          3,
          3,
          3,
          3,
          3,
          3,
          3,
          2,
          2,
          2,
          2,
          2,
          2,
          2,
          2,
          2,
          2,
          2,
          2,
          2,
          2,
          2,
          2,
          2,
          2,
          2,
          2,
          1,
          1,
          1,
          1,
          1,
          1,
          1,
          1,
          1,
          1,
          1,
          1,
          1,
          1,
          1,
          1,
          1,
          1,
          1,
          1,
          1,
          1,
          1,
          1,
          1,
          1,
          1,
          1,
          1,
          1,
          1,
          1,
          1,
          1,
          1,
          1,
          1,
          1
         ]
        }
       ],
       "layout": {
        "template": {
         "data": {
          "bar": [
           {
            "error_x": {
             "color": "#2a3f5f"
            },
            "error_y": {
             "color": "#2a3f5f"
            },
            "marker": {
             "line": {
              "color": "#E5ECF6",
              "width": 0.5
             },
             "pattern": {
              "fillmode": "overlay",
              "size": 10,
              "solidity": 0.2
             }
            },
            "type": "bar"
           }
          ],
          "barpolar": [
           {
            "marker": {
             "line": {
              "color": "#E5ECF6",
              "width": 0.5
             },
             "pattern": {
              "fillmode": "overlay",
              "size": 10,
              "solidity": 0.2
             }
            },
            "type": "barpolar"
           }
          ],
          "carpet": [
           {
            "aaxis": {
             "endlinecolor": "#2a3f5f",
             "gridcolor": "white",
             "linecolor": "white",
             "minorgridcolor": "white",
             "startlinecolor": "#2a3f5f"
            },
            "baxis": {
             "endlinecolor": "#2a3f5f",
             "gridcolor": "white",
             "linecolor": "white",
             "minorgridcolor": "white",
             "startlinecolor": "#2a3f5f"
            },
            "type": "carpet"
           }
          ],
          "choropleth": [
           {
            "colorbar": {
             "outlinewidth": 0,
             "ticks": ""
            },
            "type": "choropleth"
           }
          ],
          "contour": [
           {
            "colorbar": {
             "outlinewidth": 0,
             "ticks": ""
            },
            "colorscale": [
             [
              0,
              "#0d0887"
             ],
             [
              0.1111111111111111,
              "#46039f"
             ],
             [
              0.2222222222222222,
              "#7201a8"
             ],
             [
              0.3333333333333333,
              "#9c179e"
             ],
             [
              0.4444444444444444,
              "#bd3786"
             ],
             [
              0.5555555555555556,
              "#d8576b"
             ],
             [
              0.6666666666666666,
              "#ed7953"
             ],
             [
              0.7777777777777778,
              "#fb9f3a"
             ],
             [
              0.8888888888888888,
              "#fdca26"
             ],
             [
              1,
              "#f0f921"
             ]
            ],
            "type": "contour"
           }
          ],
          "contourcarpet": [
           {
            "colorbar": {
             "outlinewidth": 0,
             "ticks": ""
            },
            "type": "contourcarpet"
           }
          ],
          "heatmap": [
           {
            "colorbar": {
             "outlinewidth": 0,
             "ticks": ""
            },
            "colorscale": [
             [
              0,
              "#0d0887"
             ],
             [
              0.1111111111111111,
              "#46039f"
             ],
             [
              0.2222222222222222,
              "#7201a8"
             ],
             [
              0.3333333333333333,
              "#9c179e"
             ],
             [
              0.4444444444444444,
              "#bd3786"
             ],
             [
              0.5555555555555556,
              "#d8576b"
             ],
             [
              0.6666666666666666,
              "#ed7953"
             ],
             [
              0.7777777777777778,
              "#fb9f3a"
             ],
             [
              0.8888888888888888,
              "#fdca26"
             ],
             [
              1,
              "#f0f921"
             ]
            ],
            "type": "heatmap"
           }
          ],
          "heatmapgl": [
           {
            "colorbar": {
             "outlinewidth": 0,
             "ticks": ""
            },
            "colorscale": [
             [
              0,
              "#0d0887"
             ],
             [
              0.1111111111111111,
              "#46039f"
             ],
             [
              0.2222222222222222,
              "#7201a8"
             ],
             [
              0.3333333333333333,
              "#9c179e"
             ],
             [
              0.4444444444444444,
              "#bd3786"
             ],
             [
              0.5555555555555556,
              "#d8576b"
             ],
             [
              0.6666666666666666,
              "#ed7953"
             ],
             [
              0.7777777777777778,
              "#fb9f3a"
             ],
             [
              0.8888888888888888,
              "#fdca26"
             ],
             [
              1,
              "#f0f921"
             ]
            ],
            "type": "heatmapgl"
           }
          ],
          "histogram": [
           {
            "marker": {
             "pattern": {
              "fillmode": "overlay",
              "size": 10,
              "solidity": 0.2
             }
            },
            "type": "histogram"
           }
          ],
          "histogram2d": [
           {
            "colorbar": {
             "outlinewidth": 0,
             "ticks": ""
            },
            "colorscale": [
             [
              0,
              "#0d0887"
             ],
             [
              0.1111111111111111,
              "#46039f"
             ],
             [
              0.2222222222222222,
              "#7201a8"
             ],
             [
              0.3333333333333333,
              "#9c179e"
             ],
             [
              0.4444444444444444,
              "#bd3786"
             ],
             [
              0.5555555555555556,
              "#d8576b"
             ],
             [
              0.6666666666666666,
              "#ed7953"
             ],
             [
              0.7777777777777778,
              "#fb9f3a"
             ],
             [
              0.8888888888888888,
              "#fdca26"
             ],
             [
              1,
              "#f0f921"
             ]
            ],
            "type": "histogram2d"
           }
          ],
          "histogram2dcontour": [
           {
            "colorbar": {
             "outlinewidth": 0,
             "ticks": ""
            },
            "colorscale": [
             [
              0,
              "#0d0887"
             ],
             [
              0.1111111111111111,
              "#46039f"
             ],
             [
              0.2222222222222222,
              "#7201a8"
             ],
             [
              0.3333333333333333,
              "#9c179e"
             ],
             [
              0.4444444444444444,
              "#bd3786"
             ],
             [
              0.5555555555555556,
              "#d8576b"
             ],
             [
              0.6666666666666666,
              "#ed7953"
             ],
             [
              0.7777777777777778,
              "#fb9f3a"
             ],
             [
              0.8888888888888888,
              "#fdca26"
             ],
             [
              1,
              "#f0f921"
             ]
            ],
            "type": "histogram2dcontour"
           }
          ],
          "mesh3d": [
           {
            "colorbar": {
             "outlinewidth": 0,
             "ticks": ""
            },
            "type": "mesh3d"
           }
          ],
          "parcoords": [
           {
            "line": {
             "colorbar": {
              "outlinewidth": 0,
              "ticks": ""
             }
            },
            "type": "parcoords"
           }
          ],
          "pie": [
           {
            "automargin": true,
            "type": "pie"
           }
          ],
          "scatter": [
           {
            "marker": {
             "colorbar": {
              "outlinewidth": 0,
              "ticks": ""
             }
            },
            "type": "scatter"
           }
          ],
          "scatter3d": [
           {
            "line": {
             "colorbar": {
              "outlinewidth": 0,
              "ticks": ""
             }
            },
            "marker": {
             "colorbar": {
              "outlinewidth": 0,
              "ticks": ""
             }
            },
            "type": "scatter3d"
           }
          ],
          "scattercarpet": [
           {
            "marker": {
             "colorbar": {
              "outlinewidth": 0,
              "ticks": ""
             }
            },
            "type": "scattercarpet"
           }
          ],
          "scattergeo": [
           {
            "marker": {
             "colorbar": {
              "outlinewidth": 0,
              "ticks": ""
             }
            },
            "type": "scattergeo"
           }
          ],
          "scattergl": [
           {
            "marker": {
             "colorbar": {
              "outlinewidth": 0,
              "ticks": ""
             }
            },
            "type": "scattergl"
           }
          ],
          "scattermapbox": [
           {
            "marker": {
             "colorbar": {
              "outlinewidth": 0,
              "ticks": ""
             }
            },
            "type": "scattermapbox"
           }
          ],
          "scatterpolar": [
           {
            "marker": {
             "colorbar": {
              "outlinewidth": 0,
              "ticks": ""
             }
            },
            "type": "scatterpolar"
           }
          ],
          "scatterpolargl": [
           {
            "marker": {
             "colorbar": {
              "outlinewidth": 0,
              "ticks": ""
             }
            },
            "type": "scatterpolargl"
           }
          ],
          "scatterternary": [
           {
            "marker": {
             "colorbar": {
              "outlinewidth": 0,
              "ticks": ""
             }
            },
            "type": "scatterternary"
           }
          ],
          "surface": [
           {
            "colorbar": {
             "outlinewidth": 0,
             "ticks": ""
            },
            "colorscale": [
             [
              0,
              "#0d0887"
             ],
             [
              0.1111111111111111,
              "#46039f"
             ],
             [
              0.2222222222222222,
              "#7201a8"
             ],
             [
              0.3333333333333333,
              "#9c179e"
             ],
             [
              0.4444444444444444,
              "#bd3786"
             ],
             [
              0.5555555555555556,
              "#d8576b"
             ],
             [
              0.6666666666666666,
              "#ed7953"
             ],
             [
              0.7777777777777778,
              "#fb9f3a"
             ],
             [
              0.8888888888888888,
              "#fdca26"
             ],
             [
              1,
              "#f0f921"
             ]
            ],
            "type": "surface"
           }
          ],
          "table": [
           {
            "cells": {
             "fill": {
              "color": "#EBF0F8"
             },
             "line": {
              "color": "white"
             }
            },
            "header": {
             "fill": {
              "color": "#C8D4E3"
             },
             "line": {
              "color": "white"
             }
            },
            "type": "table"
           }
          ]
         },
         "layout": {
          "annotationdefaults": {
           "arrowcolor": "#2a3f5f",
           "arrowhead": 0,
           "arrowwidth": 1
          },
          "autotypenumbers": "strict",
          "coloraxis": {
           "colorbar": {
            "outlinewidth": 0,
            "ticks": ""
           }
          },
          "colorscale": {
           "diverging": [
            [
             0,
             "#8e0152"
            ],
            [
             0.1,
             "#c51b7d"
            ],
            [
             0.2,
             "#de77ae"
            ],
            [
             0.3,
             "#f1b6da"
            ],
            [
             0.4,
             "#fde0ef"
            ],
            [
             0.5,
             "#f7f7f7"
            ],
            [
             0.6,
             "#e6f5d0"
            ],
            [
             0.7,
             "#b8e186"
            ],
            [
             0.8,
             "#7fbc41"
            ],
            [
             0.9,
             "#4d9221"
            ],
            [
             1,
             "#276419"
            ]
           ],
           "sequential": [
            [
             0,
             "#0d0887"
            ],
            [
             0.1111111111111111,
             "#46039f"
            ],
            [
             0.2222222222222222,
             "#7201a8"
            ],
            [
             0.3333333333333333,
             "#9c179e"
            ],
            [
             0.4444444444444444,
             "#bd3786"
            ],
            [
             0.5555555555555556,
             "#d8576b"
            ],
            [
             0.6666666666666666,
             "#ed7953"
            ],
            [
             0.7777777777777778,
             "#fb9f3a"
            ],
            [
             0.8888888888888888,
             "#fdca26"
            ],
            [
             1,
             "#f0f921"
            ]
           ],
           "sequentialminus": [
            [
             0,
             "#0d0887"
            ],
            [
             0.1111111111111111,
             "#46039f"
            ],
            [
             0.2222222222222222,
             "#7201a8"
            ],
            [
             0.3333333333333333,
             "#9c179e"
            ],
            [
             0.4444444444444444,
             "#bd3786"
            ],
            [
             0.5555555555555556,
             "#d8576b"
            ],
            [
             0.6666666666666666,
             "#ed7953"
            ],
            [
             0.7777777777777778,
             "#fb9f3a"
            ],
            [
             0.8888888888888888,
             "#fdca26"
            ],
            [
             1,
             "#f0f921"
            ]
           ]
          },
          "colorway": [
           "#636efa",
           "#EF553B",
           "#00cc96",
           "#ab63fa",
           "#FFA15A",
           "#19d3f3",
           "#FF6692",
           "#B6E880",
           "#FF97FF",
           "#FECB52"
          ],
          "font": {
           "color": "#2a3f5f"
          },
          "geo": {
           "bgcolor": "white",
           "lakecolor": "white",
           "landcolor": "#E5ECF6",
           "showlakes": true,
           "showland": true,
           "subunitcolor": "white"
          },
          "hoverlabel": {
           "align": "left"
          },
          "hovermode": "closest",
          "mapbox": {
           "style": "light"
          },
          "paper_bgcolor": "white",
          "plot_bgcolor": "#E5ECF6",
          "polar": {
           "angularaxis": {
            "gridcolor": "white",
            "linecolor": "white",
            "ticks": ""
           },
           "bgcolor": "#E5ECF6",
           "radialaxis": {
            "gridcolor": "white",
            "linecolor": "white",
            "ticks": ""
           }
          },
          "scene": {
           "xaxis": {
            "backgroundcolor": "#E5ECF6",
            "gridcolor": "white",
            "gridwidth": 2,
            "linecolor": "white",
            "showbackground": true,
            "ticks": "",
            "zerolinecolor": "white"
           },
           "yaxis": {
            "backgroundcolor": "#E5ECF6",
            "gridcolor": "white",
            "gridwidth": 2,
            "linecolor": "white",
            "showbackground": true,
            "ticks": "",
            "zerolinecolor": "white"
           },
           "zaxis": {
            "backgroundcolor": "#E5ECF6",
            "gridcolor": "white",
            "gridwidth": 2,
            "linecolor": "white",
            "showbackground": true,
            "ticks": "",
            "zerolinecolor": "white"
           }
          },
          "shapedefaults": {
           "line": {
            "color": "#2a3f5f"
           }
          },
          "ternary": {
           "aaxis": {
            "gridcolor": "white",
            "linecolor": "white",
            "ticks": ""
           },
           "baxis": {
            "gridcolor": "white",
            "linecolor": "white",
            "ticks": ""
           },
           "bgcolor": "#E5ECF6",
           "caxis": {
            "gridcolor": "white",
            "linecolor": "white",
            "ticks": ""
           }
          },
          "title": {
           "x": 0.05
          },
          "xaxis": {
           "automargin": true,
           "gridcolor": "white",
           "linecolor": "white",
           "ticks": "",
           "title": {
            "standoff": 15
           },
           "zerolinecolor": "white",
           "zerolinewidth": 2
          },
          "yaxis": {
           "automargin": true,
           "gridcolor": "white",
           "linecolor": "white",
           "ticks": "",
           "title": {
            "standoff": 15
           },
           "zerolinecolor": "white",
           "zerolinewidth": 2
          }
         }
        }
       }
      }
     },
     "metadata": {},
     "output_type": "display_data"
    }
   ],
   "source": [
    "fig = go.Figure(data=[\n",
    "                        go.Bar(name='Airport',x=airline.index,y=airline.values)\n",
    "                    ])\n",
    "\n",
    "fig.show()"
   ]
  },
  {
   "attachments": {},
   "cell_type": "markdown",
   "metadata": {},
   "source": [
    "Berdasarkan visualisasi data:\n",
    "\n",
    "- Airport yang paling banyak terjadi klaim adalah LAX (Los Angeles International Airport) dengan jumlah klaim sebanyak 6650.\n",
    "- Maskapai yang paling banyak menerima klaim adalah 'Not Defined' atau nama airlines tidak diisi, namun data kedua tertinggi adalah American Airlines dengan jumlah klaim sebanyak 15698."
   ]
  },
  {
   "attachments": {},
   "cell_type": "markdown",
   "metadata": {},
   "source": [
    "## Bagaimana perkembangan frekuensi klaim yang terjadi sejak tahun 2002 - 2015?"
   ]
  },
  {
   "attachments": {},
   "cell_type": "markdown",
   "metadata": {},
   "source": [
    "### Jumlah Claim per Tahun"
   ]
  },
  {
   "cell_type": "code",
   "execution_count": 226,
   "metadata": {},
   "outputs": [
    {
     "data": {
      "image/png": "[encoded data removed]",
      "text/plain": [
       "<Figure size 432x288 with 1 Axes>"
      ]
     },
     "metadata": {
      "needs_background": "light"
     },
     "output_type": "display_data"
    }
   ],
   "source": [
    "claims = df.copy()\n",
    "claims = claims.groupby('Incident Date')['Claim Number'].count().resample('3M').sum()\n",
    "claims = pd.DataFrame(claims)\n",
    "claims.rename(columns={'Claim Number':'Claims'}, inplace=True)\n",
    "\n",
    "fig = claims.plot()\n",
    "plt.title('Claim 2002 - 2003')\n",
    "plt.ylabel('Claims')\n",
    "fig.legend_.remove()\n",
    "plt.show()"
   ]
  },
  {
   "attachments": {},
   "cell_type": "markdown",
   "metadata": {},
   "source": [
    "Berdasarkan grafik diatas, dapat dilihat bahwa jumlah claim tertinggi terjadi di sekitar tahun 2003 - 2005, dan mulai menurun di tahun 2006 terus sampai 2015. Perlu dilakukan riset lebih mendetail untuk mengetahui faktor apa yang menyebabkan penurunan frekuensi claim dari tahun ke tahun terutama dari tahun 2008-2010. Namun kemungkinan besar hal ini terjadi karena ada perubahan dari peraturan keamanan bandara saat itu."
   ]
  },
  {
   "attachments": {},
   "cell_type": "markdown",
   "metadata": {},
   "source": [
    "### Jumlah Klaim Setiap Minggu Dalam Waktu 1 Tahun"
   ]
  },
  {
   "cell_type": "code",
   "execution_count": 179,
   "metadata": {},
   "outputs": [
    {
     "data": {
      "image/png": "[encoded data removed]",
      "text/plain": [
       "<Figure size 720x576 with 1 Axes>"
      ]
     },
     "metadata": {
      "needs_background": "light"
     },
     "output_type": "display_data"
    }
   ],
   "source": [
    "weeks = df[['Claim Number', 'Incident Date']].copy()\n",
    "weeks['Year'] = weeks['Incident Date'].dt.year\n",
    "weeks = weeks[(2003 <= weeks['Year']) & (weeks['Year'] <= 2017)]\n",
    "weeks['Week'] = weeks['Incident Date'].dt.week\n",
    "weeks = weeks.groupby(['Year', 'Week'])['Claim Number'].count()\n",
    "weeks = pd.DataFrame(weeks)\n",
    "\n",
    "weeks.reset_index(inplace = True)\n",
    "weeks.rename(columns = {\"Claim Number\":\"Claims\"}, inplace = True)\n",
    "weeks\n",
    "\n",
    "plt.figure(figsize=(10, 8))\n",
    "plt.title('Claim Over A Year')\n",
    "sns.lineplot(data=weeks, x='Week', y='Claims');"
   ]
  },
  {
   "attachments": {},
   "cell_type": "markdown",
   "metadata": {},
   "source": [
    "Jumlah klaim tertinggi terjadi di sekitar minggu ke- 1, 50, 51, 52, hal ini dapat terjadi bersamaan dengan liburan hari natal dan tahun baru, dimana merupakan hal yang sering terjadi karena banyak orang memilih untuk pergi liburan sebelum hari natal dan kembali setelah tahun baru."
   ]
  },
  {
   "attachments": {},
   "cell_type": "markdown",
   "metadata": {},
   "source": [
    "### Bagaimana hubungan klaim yang diterima terhadap lokasi dan jenis penyelesaiannya?"
   ]
  },
  {
   "cell_type": "code",
   "execution_count": 224,
   "metadata": {},
   "outputs": [
    {
     "data": {
      "application/vnd.plotly.v1+json": {
       "config": {
        "plotlyServerURL": "https://plot.ly"
       },
       "data": [
        {
         "branchvalues": "total",
         "domain": {
          "x": [
           0,
           1
          ],
          "y": [
           0,
           1
          ]
         },
         "hovertemplate": "labels=%{label}<br>Close Amount=%{value}<br>parent=%{parent}<br>id=%{id}<extra></extra>",
         "ids": [
          "Employee Loss (MPCECA)/Checked Baggage/Approved",
          "Motor Vehicle/Checked Baggage/Approved",
          "Other/Checked Baggage/Approved",
          "Passenger Property Loss/Checked Baggage/Approved",
          "Passenger Theft/Checked Baggage/Approved",
          "Personal Injury/Checked Baggage/Approved",
          "Property Damage/Checked Baggage/Approved",
          "Employee Loss (MPCECA)/Checkpoint/Approved",
          "Other/Checkpoint/Approved",
          "Passenger Property Loss/Checkpoint/Approved",
          "Passenger Theft/Checkpoint/Approved",
          "Personal Injury/Checkpoint/Approved",
          "Property Damage/Checkpoint/Approved",
          "Employee Loss (MPCECA)/Motor Vehicle/Approved",
          "Motor Vehicle/Motor Vehicle/Approved",
          "Other/Motor Vehicle/Approved",
          "Passenger Property Loss/Motor Vehicle/Approved",
          "Personal Injury/Motor Vehicle/Approved",
          "Property Damage/Motor Vehicle/Approved",
          "Employee Loss (MPCECA)/Other/Approved",
          "Motor Vehicle/Other/Approved",
          "Other/Other/Approved",
          "Passenger Property Loss/Other/Approved",
          "Passenger Theft/Other/Approved",
          "Personal Injury/Other/Approved",
          "Property Damage/Other/Approved",
          "Property Damage/Bus Station/Denied",
          "Employee Loss (MPCECA)/Checked Baggage/Denied",
          "Motor Vehicle/Checked Baggage/Denied",
          "Other/Checked Baggage/Denied",
          "Passenger Property Loss/Checked Baggage/Denied",
          "Passenger Theft/Checked Baggage/Denied",
          "Personal Injury/Checked Baggage/Denied",
          "Property Damage/Checked Baggage/Denied",
          "Employee Loss (MPCECA)/Checkpoint/Denied",
          "Other/Checkpoint/Denied",
          "Passenger Property Loss/Checkpoint/Denied",
          "Passenger Theft/Checkpoint/Denied",
          "Personal Injury/Checkpoint/Denied",
          "Property Damage/Checkpoint/Denied",
          "Employee Loss (MPCECA)/Motor Vehicle/Denied",
          "Motor Vehicle/Motor Vehicle/Denied",
          "Passenger Property Loss/Motor Vehicle/Denied",
          "Personal Injury/Motor Vehicle/Denied",
          "Property Damage/Motor Vehicle/Denied",
          "Employee Loss (MPCECA)/Other/Denied",
          "Motor Vehicle/Other/Denied",
          "Other/Other/Denied",
          "Passenger Property Loss/Other/Denied",
          "Personal Injury/Other/Denied",
          "Property Damage/Other/Denied",
          "-/Checked Baggage/Settled",
          "Bus Terminal/Checked Baggage/Settled",
          "Employee Loss (MPCECA)/Checked Baggage/Settled",
          "Motor Vehicle/Checked Baggage/Settled",
          "Other/Checked Baggage/Settled",
          "Passenger Property Loss/Checked Baggage/Settled",
          "Passenger Theft/Checked Baggage/Settled",
          "Personal Injury/Checked Baggage/Settled",
          "Property Damage/Checked Baggage/Settled",
          "-/Checkpoint/Settled",
          "Employee Loss (MPCECA)/Checkpoint/Settled",
          "Motor Vehicle/Checkpoint/Settled",
          "Other/Checkpoint/Settled",
          "Passenger Property Loss/Checkpoint/Settled",
          "Passenger Theft/Checkpoint/Settled",
          "Personal Injury/Checkpoint/Settled",
          "Property Damage/Checkpoint/Settled",
          "Employee Loss (MPCECA)/Motor Vehicle/Settled",
          "Motor Vehicle/Motor Vehicle/Settled",
          "Passenger Property Loss/Motor Vehicle/Settled",
          "Personal Injury/Motor Vehicle/Settled",
          "Property Damage/Motor Vehicle/Settled",
          "Passenger Property Loss/Not Defined/Settled",
          "Property Damage/Not Defined/Settled",
          "Employee Loss (MPCECA)/Other/Settled",
          "Other/Other/Settled",
          "Passenger Property Loss/Other/Settled",
          "Personal Injury/Other/Settled",
          "Property Damage/Other/Settled",
          "Property Damage/Bus Station",
          "-/Checked Baggage",
          "Bus Terminal/Checked Baggage",
          "Employee Loss (MPCECA)/Checked Baggage",
          "Motor Vehicle/Checked Baggage",
          "Other/Checked Baggage",
          "Passenger Property Loss/Checked Baggage",
          "Passenger Theft/Checked Baggage",
          "Personal Injury/Checked Baggage",
          "Property Damage/Checked Baggage",
          "-/Checkpoint",
          "Employee Loss (MPCECA)/Checkpoint",
          "Motor Vehicle/Checkpoint",
          "Other/Checkpoint",
          "Passenger Property Loss/Checkpoint",
          "Passenger Theft/Checkpoint",
          "Personal Injury/Checkpoint",
          "Property Damage/Checkpoint",
          "Employee Loss (MPCECA)/Motor Vehicle",
          "Motor Vehicle/Motor Vehicle",
          "Other/Motor Vehicle",
          "Passenger Property Loss/Motor Vehicle",
          "Personal Injury/Motor Vehicle",
          "Property Damage/Motor Vehicle",
          "Passenger Property Loss/Not Defined",
          "Property Damage/Not Defined",
          "Employee Loss (MPCECA)/Other",
          "Motor Vehicle/Other",
          "Other/Other",
          "Passenger Property Loss/Other",
          "Passenger Theft/Other",
          "Personal Injury/Other",
          "Property Damage/Other",
          "-",
          "Bus Terminal",
          "Employee Loss (MPCECA)",
          "Motor Vehicle",
          "Other",
          "Passenger Property Loss",
          "Passenger Theft",
          "Personal Injury",
          "Property Damage"
         ],
         "labels": [
          "Approved",
          "Approved",
          "Approved",
          "Approved",
          "Approved",
          "Approved",
          "Approved",
          "Approved",
          "Approved",
          "Approved",
          "Approved",
          "Approved",
          "Approved",
          "Approved",
          "Approved",
          "Approved",
          "Approved",
          "Approved",
          "Approved",
          "Approved",
          "Approved",
          "Approved",
          "Approved",
          "Approved",
          "Approved",
          "Approved",
          "Denied",
          "Denied",
          "Denied",
          "Denied",
          "Denied",
          "Denied",
          "Denied",
          "Denied",
          "Denied",
          "Denied",
          "Denied",
          "Denied",
          "Denied",
          "Denied",
          "Denied",
          "Denied",
          "Denied",
          "Denied",
          "Denied",
          "Denied",
          "Denied",
          "Denied",
          "Denied",
          "Denied",
          "Denied",
          "Settled",
          "Settled",
          "Settled",
          "Settled",
          "Settled",
          "Settled",
          "Settled",
          "Settled",
          "Settled",
          "Settled",
          "Settled",
          "Settled",
          "Settled",
          "Settled",
          "Settled",
          "Settled",
          "Settled",
          "Settled",
          "Settled",
          "Settled",
          "Settled",
          "Settled",
          "Settled",
          "Settled",
          "Settled",
          "Settled",
          "Settled",
          "Settled",
          "Settled",
          "Bus Station",
          "Checked Baggage",
          "Checked Baggage",
          "Checked Baggage",
          "Checked Baggage",
          "Checked Baggage",
          "Checked Baggage",
          "Checked Baggage",
          "Checked Baggage",
          "Checked Baggage",
          "Checkpoint",
          "Checkpoint",
          "Checkpoint",
          "Checkpoint",
          "Checkpoint",
          "Checkpoint",
          "Checkpoint",
          "Checkpoint",
          "Motor Vehicle",
          "Motor Vehicle",
          "Motor Vehicle",
          "Motor Vehicle",
          "Motor Vehicle",
          "Motor Vehicle",
          "Not Defined",
          "Not Defined",
          "Other",
          "Other",
          "Other",
          "Other",
          "Other",
          "Other",
          "Other",
          "-",
          "Bus Terminal",
          "Employee Loss (MPCECA)",
          "Motor Vehicle",
          "Other",
          "Passenger Property Loss",
          "Passenger Theft",
          "Personal Injury",
          "Property Damage"
         ],
         "name": "",
         "parents": [
          "Employee Loss (MPCECA)/Checked Baggage",
          "Motor Vehicle/Checked Baggage",
          "Other/Checked Baggage",
          "Passenger Property Loss/Checked Baggage",
          "Passenger Theft/Checked Baggage",
          "Personal Injury/Checked Baggage",
          "Property Damage/Checked Baggage",
          "Employee Loss (MPCECA)/Checkpoint",
          "Other/Checkpoint",
          "Passenger Property Loss/Checkpoint",
          "Passenger Theft/Checkpoint",
          "Personal Injury/Checkpoint",
          "Property Damage/Checkpoint",
          "Employee Loss (MPCECA)/Motor Vehicle",
          "Motor Vehicle/Motor Vehicle",
          "Other/Motor Vehicle",
          "Passenger Property Loss/Motor Vehicle",
          "Personal Injury/Motor Vehicle",
          "Property Damage/Motor Vehicle",
          "Employee Loss (MPCECA)/Other",
          "Motor Vehicle/Other",
          "Other/Other",
          "Passenger Property Loss/Other",
          "Passenger Theft/Other",
          "Personal Injury/Other",
          "Property Damage/Other",
          "Property Damage/Bus Station",
          "Employee Loss (MPCECA)/Checked Baggage",
          "Motor Vehicle/Checked Baggage",
          "Other/Checked Baggage",
          "Passenger Property Loss/Checked Baggage",
          "Passenger Theft/Checked Baggage",
          "Personal Injury/Checked Baggage",
          "Property Damage/Checked Baggage",
          "Employee Loss (MPCECA)/Checkpoint",
          "Other/Checkpoint",
          "Passenger Property Loss/Checkpoint",
          "Passenger Theft/Checkpoint",
          "Personal Injury/Checkpoint",
          "Property Damage/Checkpoint",
          "Employee Loss (MPCECA)/Motor Vehicle",
          "Motor Vehicle/Motor Vehicle",
          "Passenger Property Loss/Motor Vehicle",
          "Personal Injury/Motor Vehicle",
          "Property Damage/Motor Vehicle",
          "Employee Loss (MPCECA)/Other",
          "Motor Vehicle/Other",
          "Other/Other",
          "Passenger Property Loss/Other",
          "Personal Injury/Other",
          "Property Damage/Other",
          "-/Checked Baggage",
          "Bus Terminal/Checked Baggage",
          "Employee Loss (MPCECA)/Checked Baggage",
          "Motor Vehicle/Checked Baggage",
          "Other/Checked Baggage",
          "Passenger Property Loss/Checked Baggage",
          "Passenger Theft/Checked Baggage",
          "Personal Injury/Checked Baggage",
          "Property Damage/Checked Baggage",
          "-/Checkpoint",
          "Employee Loss (MPCECA)/Checkpoint",
          "Motor Vehicle/Checkpoint",
          "Other/Checkpoint",
          "Passenger Property Loss/Checkpoint",
          "Passenger Theft/Checkpoint",
          "Personal Injury/Checkpoint",
          "Property Damage/Checkpoint",
          "Employee Loss (MPCECA)/Motor Vehicle",
          "Motor Vehicle/Motor Vehicle",
          "Passenger Property Loss/Motor Vehicle",
          "Personal Injury/Motor Vehicle",
          "Property Damage/Motor Vehicle",
          "Passenger Property Loss/Not Defined",
          "Property Damage/Not Defined",
          "Employee Loss (MPCECA)/Other",
          "Other/Other",
          "Passenger Property Loss/Other",
          "Personal Injury/Other",
          "Property Damage/Other",
          "Property Damage",
          "-",
          "Bus Terminal",
          "Employee Loss (MPCECA)",
          "Motor Vehicle",
          "Other",
          "Passenger Property Loss",
          "Passenger Theft",
          "Personal Injury",
          "Property Damage",
          "-",
          "Employee Loss (MPCECA)",
          "Motor Vehicle",
          "Other",
          "Passenger Property Loss",
          "Passenger Theft",
          "Personal Injury",
          "Property Damage",
          "Employee Loss (MPCECA)",
          "Motor Vehicle",
          "Other",
          "Passenger Property Loss",
          "Personal Injury",
          "Property Damage",
          "Passenger Property Loss",
          "Property Damage",
          "Employee Loss (MPCECA)",
          "Motor Vehicle",
          "Other",
          "Passenger Property Loss",
          "Passenger Theft",
          "Personal Injury",
          "Property Damage",
          "",
          "",
          "",
          "",
          "",
          "",
          "",
          "",
          ""
         ],
         "type": "treemap",
         "values": [
          14996.42,
          190,
          206348.18,
          1619918.71,
          10891.95,
          3342.9700000000003,
          1165004.06,
          6203.76,
          43486,
          668766.4400000001,
          2682.65,
          63047.04,
          1178394.75,
          80.67,
          138607.78,
          3707.21,
          1035.55,
          8134.11,
          9793.130000000001,
          30,
          1579.23,
          25159.18,
          8861.5,
          198,
          7715.59,
          19614.57,
          0,
          995.9,
          0,
          48691.62,
          545425.95,
          3106,
          0,
          140576.08,
          697.47,
          28616.35,
          110589.56,
          0,
          10000,
          49689.25,
          0,
          1603.58,
          0,
          0,
          0,
          410.61,
          0,
          9656.1,
          51757,
          800,
          4150,
          586.9,
          70,
          15603.56,
          141,
          302541.93,
          3086250.68,
          41331.49,
          29525.280000000002,
          1301096.18,
          1667.17,
          5779.63,
          50,
          70298.66,
          659307.145,
          3421.78,
          421653.895,
          1412085.97,
          250,
          54823.94,
          482,
          236837.99,
          6322.485000000001,
          267.23,
          25,
          1053.49,
          37765.01,
          19873.49,
          26775.73,
          27659.07,
          0,
          586.9,
          70,
          31595.88,
          331,
          557581.73,
          5251595.34,
          55329.44,
          32868.25,
          2606676.32,
          1667.17,
          12680.86,
          50,
          142401.01,
          1438663.145,
          6104.43,
          494700.935,
          2640169.97,
          330.67,
          195035.3,
          3707.21,
          1517.55,
          244972.1,
          16115.615,
          267.23,
          25,
          1494.1,
          1579.23,
          72580.29,
          80491.99,
          198,
          35291.32,
          51423.64,
          2254.07,
          70,
          46101.51,
          196995.53,
          776270.24,
          6772535.255,
          61631.87,
          807832.605,
          5314410.545
         ]
        }
       ],
       "layout": {
        "legend": {
         "tracegroupgap": 0
        },
        "margin": {
         "t": 60
        },
        "template": {
         "data": {
          "bar": [
           {
            "error_x": {
             "color": "#2a3f5f"
            },
            "error_y": {
             "color": "#2a3f5f"
            },
            "marker": {
             "line": {
              "color": "#E5ECF6",
              "width": 0.5
             },
             "pattern": {
              "fillmode": "overlay",
              "size": 10,
              "solidity": 0.2
             }
            },
            "type": "bar"
           }
          ],
          "barpolar": [
           {
            "marker": {
             "line": {
              "color": "#E5ECF6",
              "width": 0.5
             },
             "pattern": {
              "fillmode": "overlay",
              "size": 10,
              "solidity": 0.2
             }
            },
            "type": "barpolar"
           }
          ],
          "carpet": [
           {
            "aaxis": {
             "endlinecolor": "#2a3f5f",
             "gridcolor": "white",
             "linecolor": "white",
             "minorgridcolor": "white",
             "startlinecolor": "#2a3f5f"
            },
            "baxis": {
             "endlinecolor": "#2a3f5f",
             "gridcolor": "white",
             "linecolor": "white",
             "minorgridcolor": "white",
             "startlinecolor": "#2a3f5f"
            },
            "type": "carpet"
           }
          ],
          "choropleth": [
           {
            "colorbar": {
             "outlinewidth": 0,
             "ticks": ""
            },
            "type": "choropleth"
           }
          ],
          "contour": [
           {
            "colorbar": {
             "outlinewidth": 0,
             "ticks": ""
            },
            "colorscale": [
             [
              0,
              "#0d0887"
             ],
             [
              0.1111111111111111,
              "#46039f"
             ],
             [
              0.2222222222222222,
              "#7201a8"
             ],
             [
              0.3333333333333333,
              "#9c179e"
             ],
             [
              0.4444444444444444,
              "#bd3786"
             ],
             [
              0.5555555555555556,
              "#d8576b"
             ],
             [
              0.6666666666666666,
              "#ed7953"
             ],
             [
              0.7777777777777778,
              "#fb9f3a"
             ],
             [
              0.8888888888888888,
              "#fdca26"
             ],
             [
              1,
              "#f0f921"
             ]
            ],
            "type": "contour"
           }
          ],
          "contourcarpet": [
           {
            "colorbar": {
             "outlinewidth": 0,
             "ticks": ""
            },
            "type": "contourcarpet"
           }
          ],
          "heatmap": [
           {
            "colorbar": {
             "outlinewidth": 0,
             "ticks": ""
            },
            "colorscale": [
             [
              0,
              "#0d0887"
             ],
             [
              0.1111111111111111,
              "#46039f"
             ],
             [
              0.2222222222222222,
              "#7201a8"
             ],
             [
              0.3333333333333333,
              "#9c179e"
             ],
             [
              0.4444444444444444,
              "#bd3786"
             ],
             [
              0.5555555555555556,
              "#d8576b"
             ],
             [
              0.6666666666666666,
              "#ed7953"
             ],
             [
              0.7777777777777778,
              "#fb9f3a"
             ],
             [
              0.8888888888888888,
              "#fdca26"
             ],
             [
              1,
              "#f0f921"
             ]
            ],
            "type": "heatmap"
           }
          ],
          "heatmapgl": [
           {
            "colorbar": {
             "outlinewidth": 0,
             "ticks": ""
            },
            "colorscale": [
             [
              0,
              "#0d0887"
             ],
             [
              0.1111111111111111,
              "#46039f"
             ],
             [
              0.2222222222222222,
              "#7201a8"
             ],
             [
              0.3333333333333333,
              "#9c179e"
             ],
             [
              0.4444444444444444,
              "#bd3786"
             ],
             [
              0.5555555555555556,
              "#d8576b"
             ],
             [
              0.6666666666666666,
              "#ed7953"
             ],
             [
              0.7777777777777778,
              "#fb9f3a"
             ],
             [
              0.8888888888888888,
              "#fdca26"
             ],
             [
              1,
              "#f0f921"
             ]
            ],
            "type": "heatmapgl"
           }
          ],
          "histogram": [
           {
            "marker": {
             "pattern": {
              "fillmode": "overlay",
              "size": 10,
              "solidity": 0.2
             }
            },
            "type": "histogram"
           }
          ],
          "histogram2d": [
           {
            "colorbar": {
             "outlinewidth": 0,
             "ticks": ""
            },
            "colorscale": [
             [
              0,
              "#0d0887"
             ],
             [
              0.1111111111111111,
              "#46039f"
             ],
             [
              0.2222222222222222,
              "#7201a8"
             ],
             [
              0.3333333333333333,
              "#9c179e"
             ],
             [
              0.4444444444444444,
              "#bd3786"
             ],
             [
              0.5555555555555556,
              "#d8576b"
             ],
             [
              0.6666666666666666,
              "#ed7953"
             ],
             [
              0.7777777777777778,
              "#fb9f3a"
             ],
             [
              0.8888888888888888,
              "#fdca26"
             ],
             [
              1,
              "#f0f921"
             ]
            ],
            "type": "histogram2d"
           }
          ],
          "histogram2dcontour": [
           {
            "colorbar": {
             "outlinewidth": 0,
             "ticks": ""
            },
            "colorscale": [
             [
              0,
              "#0d0887"
             ],
             [
              0.1111111111111111,
              "#46039f"
             ],
             [
              0.2222222222222222,
              "#7201a8"
             ],
             [
              0.3333333333333333,
              "#9c179e"
             ],
             [
              0.4444444444444444,
              "#bd3786"
             ],
             [
              0.5555555555555556,
              "#d8576b"
             ],
             [
              0.6666666666666666,
              "#ed7953"
             ],
             [
              0.7777777777777778,
              "#fb9f3a"
             ],
             [
              0.8888888888888888,
              "#fdca26"
             ],
             [
              1,
              "#f0f921"
             ]
            ],
            "type": "histogram2dcontour"
           }
          ],
          "mesh3d": [
           {
            "colorbar": {
             "outlinewidth": 0,
             "ticks": ""
            },
            "type": "mesh3d"
           }
          ],
          "parcoords": [
           {
            "line": {
             "colorbar": {
              "outlinewidth": 0,
              "ticks": ""
             }
            },
            "type": "parcoords"
           }
          ],
          "pie": [
           {
            "automargin": true,
            "type": "pie"
           }
          ],
          "scatter": [
           {
            "marker": {
             "colorbar": {
              "outlinewidth": 0,
              "ticks": ""
             }
            },
            "type": "scatter"
           }
          ],
          "scatter3d": [
           {
            "line": {
             "colorbar": {
              "outlinewidth": 0,
              "ticks": ""
             }
            },
            "marker": {
             "colorbar": {
              "outlinewidth": 0,
              "ticks": ""
             }
            },
            "type": "scatter3d"
           }
          ],
          "scattercarpet": [
           {
            "marker": {
             "colorbar": {
              "outlinewidth": 0,
              "ticks": ""
             }
            },
            "type": "scattercarpet"
           }
          ],
          "scattergeo": [
           {
            "marker": {
             "colorbar": {
              "outlinewidth": 0,
              "ticks": ""
             }
            },
            "type": "scattergeo"
           }
          ],
          "scattergl": [
           {
            "marker": {
             "colorbar": {
              "outlinewidth": 0,
              "ticks": ""
             }
            },
            "type": "scattergl"
           }
          ],
          "scattermapbox": [
           {
            "marker": {
             "colorbar": {
              "outlinewidth": 0,
              "ticks": ""
             }
            },
            "type": "scattermapbox"
           }
          ],
          "scatterpolar": [
           {
            "marker": {
             "colorbar": {
              "outlinewidth": 0,
              "ticks": ""
             }
            },
            "type": "scatterpolar"
           }
          ],
          "scatterpolargl": [
           {
            "marker": {
             "colorbar": {
              "outlinewidth": 0,
              "ticks": ""
             }
            },
            "type": "scatterpolargl"
           }
          ],
          "scatterternary": [
           {
            "marker": {
             "colorbar": {
              "outlinewidth": 0,
              "ticks": ""
             }
            },
            "type": "scatterternary"
           }
          ],
          "surface": [
           {
            "colorbar": {
             "outlinewidth": 0,
             "ticks": ""
            },
            "colorscale": [
             [
              0,
              "#0d0887"
             ],
             [
              0.1111111111111111,
              "#46039f"
             ],
             [
              0.2222222222222222,
              "#7201a8"
             ],
             [
              0.3333333333333333,
              "#9c179e"
             ],
             [
              0.4444444444444444,
              "#bd3786"
             ],
             [
              0.5555555555555556,
              "#d8576b"
             ],
             [
              0.6666666666666666,
              "#ed7953"
             ],
             [
              0.7777777777777778,
              "#fb9f3a"
             ],
             [
              0.8888888888888888,
              "#fdca26"
             ],
             [
              1,
              "#f0f921"
             ]
            ],
            "type": "surface"
           }
          ],
          "table": [
           {
            "cells": {
             "fill": {
              "color": "#EBF0F8"
             },
             "line": {
              "color": "white"
             }
            },
            "header": {
             "fill": {
              "color": "#C8D4E3"
             },
             "line": {
              "color": "white"
             }
            },
            "type": "table"
           }
          ]
         },
         "layout": {
          "annotationdefaults": {
           "arrowcolor": "#2a3f5f",
           "arrowhead": 0,
           "arrowwidth": 1
          },
          "autotypenumbers": "strict",
          "coloraxis": {
           "colorbar": {
            "outlinewidth": 0,
            "ticks": ""
           }
          },
          "colorscale": {
           "diverging": [
            [
             0,
             "#8e0152"
            ],
            [
             0.1,
             "#c51b7d"
            ],
            [
             0.2,
             "#de77ae"
            ],
            [
             0.3,
             "#f1b6da"
            ],
            [
             0.4,
             "#fde0ef"
            ],
            [
             0.5,
             "#f7f7f7"
            ],
            [
             0.6,
             "#e6f5d0"
            ],
            [
             0.7,
             "#b8e186"
            ],
            [
             0.8,
             "#7fbc41"
            ],
            [
             0.9,
             "#4d9221"
            ],
            [
             1,
             "#276419"
            ]
           ],
           "sequential": [
            [
             0,
             "#0d0887"
            ],
            [
             0.1111111111111111,
             "#46039f"
            ],
            [
             0.2222222222222222,
             "#7201a8"
            ],
            [
             0.3333333333333333,
             "#9c179e"
            ],
            [
             0.4444444444444444,
             "#bd3786"
            ],
            [
             0.5555555555555556,
             "#d8576b"
            ],
            [
             0.6666666666666666,
             "#ed7953"
            ],
            [
             0.7777777777777778,
             "#fb9f3a"
            ],
            [
             0.8888888888888888,
             "#fdca26"
            ],
            [
             1,
             "#f0f921"
            ]
           ],
           "sequentialminus": [
            [
             0,
             "#0d0887"
            ],
            [
             0.1111111111111111,
             "#46039f"
            ],
            [
             0.2222222222222222,
             "#7201a8"
            ],
            [
             0.3333333333333333,
             "#9c179e"
            ],
            [
             0.4444444444444444,
             "#bd3786"
            ],
            [
             0.5555555555555556,
             "#d8576b"
            ],
            [
             0.6666666666666666,
             "#ed7953"
            ],
            [
             0.7777777777777778,
             "#fb9f3a"
            ],
            [
             0.8888888888888888,
             "#fdca26"
            ],
            [
             1,
             "#f0f921"
            ]
           ]
          },
          "colorway": [
           "#636efa",
           "#EF553B",
           "#00cc96",
           "#ab63fa",
           "#FFA15A",
           "#19d3f3",
           "#FF6692",
           "#B6E880",
           "#FF97FF",
           "#FECB52"
          ],
          "font": {
           "color": "#2a3f5f"
          },
          "geo": {
           "bgcolor": "white",
           "lakecolor": "white",
           "landcolor": "#E5ECF6",
           "showlakes": true,
           "showland": true,
           "subunitcolor": "white"
          },
          "hoverlabel": {
           "align": "left"
          },
          "hovermode": "closest",
          "mapbox": {
           "style": "light"
          },
          "paper_bgcolor": "white",
          "plot_bgcolor": "#E5ECF6",
          "polar": {
           "angularaxis": {
            "gridcolor": "white",
            "linecolor": "white",
            "ticks": ""
           },
           "bgcolor": "#E5ECF6",
           "radialaxis": {
            "gridcolor": "white",
            "linecolor": "white",
            "ticks": ""
           }
          },
          "scene": {
           "xaxis": {
            "backgroundcolor": "#E5ECF6",
            "gridcolor": "white",
            "gridwidth": 2,
            "linecolor": "white",
            "showbackground": true,
            "ticks": "",
            "zerolinecolor": "white"
           },
           "yaxis": {
            "backgroundcolor": "#E5ECF6",
            "gridcolor": "white",
            "gridwidth": 2,
            "linecolor": "white",
            "showbackground": true,
            "ticks": "",
            "zerolinecolor": "white"
           },
           "zaxis": {
            "backgroundcolor": "#E5ECF6",
            "gridcolor": "white",
            "gridwidth": 2,
            "linecolor": "white",
            "showbackground": true,
            "ticks": "",
            "zerolinecolor": "white"
           }
          },
          "shapedefaults": {
           "line": {
            "color": "#2a3f5f"
           }
          },
          "ternary": {
           "aaxis": {
            "gridcolor": "white",
            "linecolor": "white",
            "ticks": ""
           },
           "baxis": {
            "gridcolor": "white",
            "linecolor": "white",
            "ticks": ""
           },
           "bgcolor": "#E5ECF6",
           "caxis": {
            "gridcolor": "white",
            "linecolor": "white",
            "ticks": ""
           }
          },
          "title": {
           "x": 0.05
          },
          "xaxis": {
           "automargin": true,
           "gridcolor": "white",
           "linecolor": "white",
           "ticks": "",
           "title": {
            "standoff": 15
           },
           "zerolinecolor": "white",
           "zerolinewidth": 2
          },
          "yaxis": {
           "automargin": true,
           "gridcolor": "white",
           "linecolor": "white",
           "ticks": "",
           "title": {
            "standoff": 15
           },
           "zerolinecolor": "white",
           "zerolinewidth": 2
          }
         }
        },
        "treemapcolorway": [
         "rgb(102,194,165)",
         "rgb(252,141,98)",
         "rgb(141,160,203)",
         "rgb(231,138,195)",
         "rgb(166,216,84)",
         "rgb(255,217,47)",
         "rgb(229,196,148)",
         "rgb(179,179,179)"
        ]
       }
      }
     },
     "metadata": {},
     "output_type": "display_data"
    }
   ],
   "source": [
    "fig = px.treemap(df, path=['Claim Type','Claim Site','Disposition'],values='Close Amount',color_discrete_sequence=px.colors.qualitative.Set2)\n",
    "fig.show()"
   ]
  },
  {
   "attachments": {},
   "cell_type": "markdown",
   "metadata": {},
   "source": [
    "- Tipe klaim 'Passanger Property Loss' lokasi klaim nya paling banyak terjadi di Checked Baggage, kemudian tipe penyelesaian yang paling banyak terjadi adalah settled atau penumpang yang mengalami kehilangan kebanyakan hanya menerima ganti rugi sebagian dari claim amount yang diajukan.\n",
    "- Tipe klaim 'Property Damage' terjadu di Checkpoint dan Checked Baggage dengan jumlah yang hampir sama, dengan tipe penyelesaian yang terjadi adalah settled dan approve dengan jumlah yang mirip."
   ]
  },
  {
   "attachments": {},
   "cell_type": "markdown",
   "metadata": {},
   "source": [
    "### Tipe Klaim yang Dibuat (Top 5)"
   ]
  },
  {
   "cell_type": "code",
   "execution_count": 193,
   "metadata": {},
   "outputs": [
    {
     "data": {
      "image/png": "[encoded data removed]",
      "text/plain": [
       "<Figure size 720x576 with 1 Axes>"
      ]
     },
     "metadata": {
      "needs_background": "light"
     },
     "output_type": "display_data"
    }
   ],
   "source": [
    "plt.figure(figsize=(10, 8))\n",
    "plt.title('Type of Claims (Top 5)')\n",
    "fig = sns.countplot(data =df, y='Claim Type', order=df['Claim Type'].value_counts().iloc[:5].index)\n",
    "fig.set_xscale('log')\n",
    "plt.xlabel('Count (Logarithmic Scale)')\n",
    "plt.show()"
   ]
  },
  {
   "attachments": {},
   "cell_type": "markdown",
   "metadata": {},
   "source": [
    "### Lokasi Klaim yang Dibuat (Top 5)"
   ]
  },
  {
   "cell_type": "code",
   "execution_count": 202,
   "metadata": {},
   "outputs": [
    {
     "data": {
      "image/png": "[encoded data removed]",
      "text/plain": [
       "<Figure size 720x576 with 1 Axes>"
      ]
     },
     "metadata": {
      "needs_background": "light"
     },
     "output_type": "display_data"
    }
   ],
   "source": [
    "plt.figure(figsize=(10, 8))\n",
    "plt.title('Site of Claims (Top 5)')\n",
    "fig = sns.countplot(data =df, y='Claim Site', order=df['Claim Site'].value_counts().iloc[:5].index)\n",
    "fig.set_xscale('log')\n",
    "plt.xlabel('Count (Logarithmic Scale)')\n",
    "plt.show()"
   ]
  },
  {
   "attachments": {},
   "cell_type": "markdown",
   "metadata": {},
   "source": [
    "### Kategori Item yang Hilang/Rusak (Top 10)"
   ]
  },
  {
   "cell_type": "code",
   "execution_count": 195,
   "metadata": {},
   "outputs": [
    {
     "data": {
      "image/png": "[encoded data removed]",
      "text/plain": [
       "<Figure size 720x576 with 1 Axes>"
      ]
     },
     "metadata": {
      "needs_background": "light"
     },
     "output_type": "display_data"
    }
   ],
   "source": [
    "plt.figure(figsize=(10, 8))\n",
    "plt.title('Category of Items Lost/Damaed (Top 10)')\n",
    "fig = sns.countplot(data=df, y='Item', order=df['Item'].value_counts().iloc[:10].index);\n"
   ]
  },
  {
   "attachments": {},
   "cell_type": "markdown",
   "metadata": {},
   "source": [
    "### Status Klaim yang Dibuat"
   ]
  },
  {
   "cell_type": "code",
   "execution_count": 206,
   "metadata": {},
   "outputs": [
    {
     "data": {
      "image/png": "[encoded data removed]",
      "text/plain": [
       "<Figure size 720x576 with 1 Axes>"
      ]
     },
     "metadata": {
      "needs_background": "light"
     },
     "output_type": "display_data"
    }
   ],
   "source": [
    "plt.figure(figsize=(10, 8))\n",
    "plt.title('Status of Claims')\n",
    "fig = sns.countplot(data =df, y='Status', order=df['Status'].value_counts().iloc[:5].index)\n",
    "plt.show()"
   ]
  },
  {
   "attachments": {},
   "cell_type": "markdown",
   "metadata": {},
   "source": [
    "## Kesimpulan"
   ]
  },
  {
   "attachments": {},
   "cell_type": "markdown",
   "metadata": {},
   "source": [
    "- Tahun 2004 merupakan tahun yang paling banyak terjadinya klaim yaitu sebanyak 25707 klaim dibuat dari seluruh airport yang ada di USA\n",
    "- Airport yang paling banyak menerima klaim adalah Los Angeles Internatinal Airport\n",
    "- Airlines kedua terbanyak menerima klaim adalah Anerican Airlines, sedangkan yang terbanyak adalah Not defined value.\n",
    "- Klaim terbanyak yang dibuat adalah terkait dengan kehilangan properti, dan lokasi pengajuan klaim dilakukan di pengecekan bagasi\n",
    "- Penuruan klaim terjadi penurunan secara signifikan di tahun 2010"
   ]
  },
  {
   "attachments": {},
   "cell_type": "markdown",
   "metadata": {},
   "source": [
    "## Rekomendasi"
   ]
  },
  {
   "attachments": {},
   "cell_type": "markdown",
   "metadata": {},
   "source": [
    "1. Frekuensi terjadinya klaim dapat dikurangi dengan cara meningkatkan keamanan bagasi penumpang saat check-in dengan cara memperketat peraturan terhadap standard barang dan jenis barang yang dapat ditaruh di bagasi pesawat saat check-in.\n",
    "2. Lokasi klaim lebih baik dikurangi dan difokuskan pada Checked Baggage dan Checkpoint saja, agar data klaim yang diajukan penumpang lebih terstruktur, dan hal ini juga bisa menyebabkan terjadi peningkatan terhadap kepuasan penumpang terhadap pelayanan proses klaim.\n",
    "2. Untuk mengurangi kerugian maskapai/bandara dalam mengganti rugi bagasi yang hilang atau rusak juga bisa diatasi dengan penumpang diharuskan untuk memakai asuransi yang dapat dibeli saat membeli tiket tergantung berat bagasi yang dibawa oleh penumpang."
   ]
  }
 ],
 "metadata": {
  "kernelspec": {
   "display_name": "base",
   "language": "python",
   "name": "python3"
  },
  "language_info": {
   "codemirror_mode": {
    "name": "ipython",
    "version": 3
   },
   "file_extension": ".py",
   "mimetype": "text/x-python",
   "name": "python",
   "nbconvert_exporter": "python",
   "pygments_lexer": "ipython3",
   "version": "3.9.12 (main, Apr  4 2022, 05:22:27) [MSC v.1916 64 bit (AMD64)]"
  },
  "orig_nbformat": 4,
  "vscode": {
   "interpreter": {
    "hash": "68fcbfa6af7f2aff9cc0b9e036f507a703ab13010e45038ce6d03124651ed983"
   }
  }
 },
 "nbformat": 4,
 "nbformat_minor": 2
}
